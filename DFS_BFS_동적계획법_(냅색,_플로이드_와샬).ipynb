{
  "nbformat": 4,
  "nbformat_minor": 0,
  "metadata": {
    "colab": {
      "provenance": [],
      "toc_visible": true,
      "authorship_tag": "ABX9TyOFBwriE3RSynKQ1uX++/gs",
      "include_colab_link": true
    },
    "kernelspec": {
      "name": "python3",
      "display_name": "Python 3"
    },
    "language_info": {
      "name": "python"
    }
  },
  "cells": [
    {
      "cell_type": "markdown",
      "metadata": {
        "id": "view-in-github",
        "colab_type": "text"
      },
      "source": [
        "<a href=\"https://colab.research.google.com/github/jihun0423/algorithm_practice/blob/main/DFS_BFS_%EB%8F%99%EC%A0%81%EA%B3%84%ED%9A%8D%EB%B2%95_(%EB%83%85%EC%83%89%2C_%ED%94%8C%EB%A1%9C%EC%9D%B4%EB%93%9C_%EC%99%80%EC%83%AC).ipynb\" target=\"_parent\"><img src=\"https://colab.research.google.com/assets/colab-badge.svg\" alt=\"Open In Colab\"/></a>"
      ]
    },
    {
      "cell_type": "code",
      "execution_count": null,
      "metadata": {
        "id": "0Hv9OPlJqPTi"
      },
      "outputs": [],
      "source": []
    },
    {
      "cell_type": "code",
      "source": [
        "a=[[5,3],[10,2],[1,5]]\n",
        "n=len(a)\n",
        "\n",
        "t=20\n",
        "ans=dict()\n",
        "cnt=0"
      ],
      "metadata": {
        "id": "z4apNjycqSjU"
      },
      "execution_count": null,
      "outputs": []
    },
    {
      "cell_type": "code",
      "source": [
        "def DFS(v,sum):\n",
        "  global cnt\n",
        "  if v==n:\n",
        "    if sum == t:\n",
        "      print(ans)\n",
        "      cnt+=1\n",
        "    else:\n",
        "      return\n",
        "  else:\n",
        "    for i in range(0,a[v][1]+1):\n",
        "      ans[a[v][0]]=i\n",
        "      DFS(v+1,sum+(a[v][0]*i))\n",
        "      ans[a[v][0]]=0"
      ],
      "metadata": {
        "id": "2dPKlmTJ-_J_"
      },
      "execution_count": null,
      "outputs": []
    },
    {
      "cell_type": "code",
      "source": [
        "DFS(0,0)"
      ],
      "metadata": {
        "colab": {
          "base_uri": "https://localhost:8080/"
        },
        "id": "coGFKPV5ACIv",
        "outputId": "9b45f17e-914e-44b0-cbad-2e31ce1227a6"
      },
      "execution_count": null,
      "outputs": [
        {
          "output_type": "stream",
          "name": "stdout",
          "text": [
            "{5: 0, 10: 2, 1: 0}\n",
            "{5: 1, 10: 1, 1: 5}\n",
            "{5: 2, 10: 1, 1: 0}\n",
            "{5: 3, 10: 0, 1: 5}\n"
          ]
        }
      ]
    },
    {
      "cell_type": "code",
      "source": [
        "cnt"
      ],
      "metadata": {
        "colab": {
          "base_uri": "https://localhost:8080/"
        },
        "id": "LGRmFxsqAE3a",
        "outputId": "465389d2-57f9-4ff2-ad31-145eb2e91f36"
      },
      "execution_count": null,
      "outputs": [
        {
          "output_type": "execute_result",
          "data": {
            "text/plain": [
              "8"
            ]
          },
          "metadata": {},
          "execution_count": 17
        }
      ]
    },
    {
      "cell_type": "code",
      "source": [
        "a=3\n",
        "b=4\n",
        "c=5\n",
        "min(a,b,c)"
      ],
      "metadata": {
        "colab": {
          "base_uri": "https://localhost:8080/"
        },
        "id": "voxH3eMLAb0q",
        "outputId": "5ee990e7-ee4c-4f5e-95a0-d169bd00a617"
      },
      "execution_count": null,
      "outputs": [
        {
          "output_type": "execute_result",
          "data": {
            "text/plain": [
              "3"
            ]
          },
          "metadata": {},
          "execution_count": 19
        }
      ]
    },
    {
      "cell_type": "code",
      "source": [
        "a = [8,9,11,12,23,15,17]\n",
        "n = len(a)\n",
        "mini = 999\n",
        "def DFS(v,sum_a,sum_b,sum_c):\n",
        "  global mini\n",
        "  if v == n:\n",
        "    if sum_a != sum_b and sum_b != sum_c and sum_a != sum_c:\n",
        "      if (max(sum_a,sum_b,sum_c) - min(sum_a,sum_b,sum_c)) < mini:\n",
        "        mini = (max(sum_a,sum_b,sum_c) - min(sum_a,sum_b,sum_c))\n",
        "        print(sum_a,sum_b,sum_c,mini)\n",
        "  else:\n",
        "    DFS(v+1,sum_a+a[v],sum_b,sum_c)\n",
        "    DFS(v+1,sum_a,sum_b+a[v],sum_c)\n",
        "    DFS(v+1,sum_a,sum_b,sum_c+a[v])\n"
      ],
      "metadata": {
        "id": "PMk39duzZe1X"
      },
      "execution_count": null,
      "outputs": []
    },
    {
      "cell_type": "code",
      "source": [
        "DFS(0,0,0,0)"
      ],
      "metadata": {
        "colab": {
          "base_uri": "https://localhost:8080/"
        },
        "id": "y2nidprWZe4s",
        "outputId": "0cd533a5-6267-4c9a-c991-2aa64af916e1"
      },
      "execution_count": null,
      "outputs": [
        {
          "output_type": "stream",
          "name": "stdout",
          "text": [
            "78 17 0 78\n",
            "63 32 0 63\n",
            "63 15 17 48\n",
            "55 23 17 38\n",
            "40 38 17 23\n",
            "40 23 32 17\n",
            "28 35 32 7\n",
            "29 34 32 5\n"
          ]
        }
      ]
    },
    {
      "cell_type": "code",
      "source": [
        "mini"
      ],
      "metadata": {
        "colab": {
          "base_uri": "https://localhost:8080/"
        },
        "id": "xDossvkpaP_l",
        "outputId": "6d1642cf-207d-49d8-c1d1-acf2ae540eeb"
      },
      "execution_count": null,
      "outputs": [
        {
          "output_type": "execute_result",
          "data": {
            "text/plain": [
              "5"
            ]
          },
          "metadata": {},
          "execution_count": 43
        }
      ]
    },
    {
      "cell_type": "code",
      "source": [],
      "metadata": {
        "id": "RyDoA4K3bHEP"
      },
      "execution_count": null,
      "outputs": []
    },
    {
      "cell_type": "code",
      "source": [],
      "metadata": {
        "id": "Ue9G30s4n-CI"
      },
      "execution_count": null,
      "outputs": []
    },
    {
      "cell_type": "code",
      "source": [
        "l=['END']\n",
        "for i in range(ord('A'),ord('Z')+1):\n",
        "  l.append(chr(i))\n",
        "\n",
        "ans=[]\n",
        "\n",
        "a= list(map(int,'26521810'))\n",
        "n= len(a)"
      ],
      "metadata": {
        "id": "6zhgsWIdn-Ey"
      },
      "execution_count": null,
      "outputs": []
    },
    {
      "cell_type": "code",
      "source": [
        "def DFS(v):\n",
        "  global ans\n",
        "  if v == n:\n",
        "    print(ans)\n",
        "  elif a[v] == 0:\n",
        "    print(ans)\n",
        "  elif v == n-1:\n",
        "    ans.append(l[a[v]])\n",
        "    DFS(v+1)\n",
        "    ans.pop()\n",
        "  else:\n",
        "    if (a[v]*10 + a[v+1])<=26:\n",
        "      ans.append(l[(a[v]*10 + a[v+1])])\n",
        "      DFS(v+2)\n",
        "      ans.pop()\n",
        "      ans.append(l[a[v]])\n",
        "      DFS(v+1)\n",
        "      ans.pop()\n",
        "    else:\n",
        "      ans.append(l[a[v]])\n",
        "      DFS(v+1)\n",
        "      ans.pop()"
      ],
      "metadata": {
        "id": "Hp-dASjkn-IE"
      },
      "execution_count": null,
      "outputs": []
    },
    {
      "cell_type": "code",
      "source": [
        "DFS(0)"
      ],
      "metadata": {
        "colab": {
          "base_uri": "https://localhost:8080/"
        },
        "id": "f47wl__7oaeA",
        "outputId": "5b4c9373-b6ea-4bec-c94e-1b9cd90c6837"
      },
      "execution_count": null,
      "outputs": [
        {
          "output_type": "stream",
          "name": "stdout",
          "text": [
            "['Z', 'E', 'U', 'H', 'J']\n",
            "['Z', 'E', 'U', 'H', 'A']\n",
            "['Z', 'E', 'B', 'R', 'J']\n",
            "['Z', 'E', 'B', 'R', 'A']\n",
            "['Z', 'E', 'B', 'A', 'H', 'J']\n",
            "['Z', 'E', 'B', 'A', 'H', 'A']\n",
            "['B', 'F', 'E', 'U', 'H', 'J']\n",
            "['B', 'F', 'E', 'U', 'H', 'A']\n",
            "['B', 'F', 'E', 'B', 'R', 'J']\n",
            "['B', 'F', 'E', 'B', 'R', 'A']\n",
            "['B', 'F', 'E', 'B', 'A', 'H', 'J']\n",
            "['B', 'F', 'E', 'B', 'A', 'H', 'A']\n"
          ]
        }
      ]
    },
    {
      "cell_type": "code",
      "source": [],
      "metadata": {
        "id": "7IJw2MW-zPGe"
      },
      "execution_count": null,
      "outputs": []
    },
    {
      "cell_type": "code",
      "source": [],
      "metadata": {
        "id": "SzkwJth2ZtyQ"
      },
      "execution_count": null,
      "outputs": []
    },
    {
      "cell_type": "markdown",
      "source": [
        "## BFS"
      ],
      "metadata": {
        "id": "urrX1HeeZub3"
      }
    },
    {
      "cell_type": "code",
      "source": [
        "from collections import deque\n",
        "m=1000\n",
        "dq = deque()\n",
        "dq.append(5)\n",
        "l = [0] * (m+1)\n",
        "l[5] = 0\n",
        "t=14"
      ],
      "metadata": {
        "id": "iLIWsI-EZvmS"
      },
      "execution_count": null,
      "outputs": []
    },
    {
      "cell_type": "code",
      "source": [
        "while dq:\n",
        "  if l[t] !=0:\n",
        "    print(l[t])\n",
        "    break\n",
        "  last = dq.popleft()\n",
        "  for i in [last+1,last-1,last+5]:\n",
        "    if i >= 0:\n",
        "      if l[i] == 0:\n",
        "        l[i] = l[last]+1\n",
        "        dq.append(i)"
      ],
      "metadata": {
        "colab": {
          "base_uri": "https://localhost:8080/"
        },
        "id": "uaiseQemZt1y",
        "outputId": "137792f9-6842-44ea-cb23-b96262511546"
      },
      "execution_count": null,
      "outputs": [
        {
          "output_type": "stream",
          "name": "stdout",
          "text": [
            "3\n"
          ]
        }
      ]
    },
    {
      "cell_type": "code",
      "source": [],
      "metadata": {
        "id": "OnXliY_fcQZQ"
      },
      "execution_count": null,
      "outputs": []
    },
    {
      "cell_type": "code",
      "source": [
        "import numpy as np\n",
        "a=list(range(25))\n",
        "a = np.array(a)\n",
        "a = a.reshape(5,5)"
      ],
      "metadata": {
        "id": "uY_Bqw0Xcrd3"
      },
      "execution_count": null,
      "outputs": []
    },
    {
      "cell_type": "code",
      "source": [
        "a"
      ],
      "metadata": {
        "colab": {
          "base_uri": "https://localhost:8080/"
        },
        "id": "sI4v37EzjnB0",
        "outputId": "0966f7d5-bc5e-4010-dac1-1ce51ddf24f6"
      },
      "execution_count": null,
      "outputs": [
        {
          "output_type": "execute_result",
          "data": {
            "text/plain": [
              "array([[ 0,  1,  2,  3,  4],\n",
              "       [ 5,  6,  7,  8,  9],\n",
              "       [10, 11, 12, 13, 14],\n",
              "       [15, 16, 17, 18, 19],\n",
              "       [20, 21, 22, 23, 24]])"
            ]
          },
          "metadata": {},
          "execution_count": 71
        }
      ]
    },
    {
      "cell_type": "code",
      "source": [
        "n = 5\n",
        "m = (n//2)\n",
        "now = m*n+m\n",
        "from collections import deque\n",
        "dq = deque()\n",
        "dq.append(now)\n",
        "l = [0] * (n**2)\n",
        "l[now]=1\n",
        "ans = [a[m,m]]\n",
        "level=0\n",
        "while dq:\n",
        "  if level == m:\n",
        "    break\n",
        "  size = len(dq)\n",
        "  for _ in range(size):\n",
        "    now = dq.popleft()\n",
        "    for i in [now-5,now+5,now-1,now+1]:\n",
        "      if l[i] == 0:\n",
        "        l[i] = l[now]+1\n",
        "        ans.append(a[i//5][i%5])\n",
        "        dq.append(i)\n",
        "  level += 1"
      ],
      "metadata": {
        "id": "MlohOuGwbP-Y"
      },
      "execution_count": null,
      "outputs": []
    },
    {
      "cell_type": "code",
      "source": [
        "ans"
      ],
      "metadata": {
        "colab": {
          "base_uri": "https://localhost:8080/"
        },
        "id": "DsGyTdJmjgF5",
        "outputId": "4dcb0136-369e-4baf-e8c2-b80c29d8ecb1"
      },
      "execution_count": null,
      "outputs": [
        {
          "output_type": "execute_result",
          "data": {
            "text/plain": [
              "[12, 7, 17, 11, 13, 2, 6, 8, 22, 16, 18, 10, 14]"
            ]
          },
          "metadata": {},
          "execution_count": 88
        }
      ]
    },
    {
      "cell_type": "code",
      "source": [
        "a"
      ],
      "metadata": {
        "colab": {
          "base_uri": "https://localhost:8080/"
        },
        "id": "DioUmvUljI1B",
        "outputId": "3ba578e0-1eca-40ce-fc7d-ee3e03bd018c"
      },
      "execution_count": null,
      "outputs": [
        {
          "output_type": "execute_result",
          "data": {
            "text/plain": [
              "array([[ 0,  1,  2,  3,  4],\n",
              "       [ 5,  6,  7,  8,  9],\n",
              "       [10, 11, 12, 13, 14],\n",
              "       [15, 16, 17, 18, 19],\n",
              "       [20, 21, 22, 23, 24]])"
            ]
          },
          "metadata": {},
          "execution_count": 89
        }
      ]
    },
    {
      "cell_type": "code",
      "source": [],
      "metadata": {
        "id": "LbQeiG2rjLVO"
      },
      "execution_count": null,
      "outputs": []
    },
    {
      "cell_type": "code",
      "source": [],
      "metadata": {
        "id": "_oaCRr_1rmVy"
      },
      "execution_count": null,
      "outputs": []
    },
    {
      "cell_type": "code",
      "source": [],
      "metadata": {
        "id": "oWP9Dc23rmY4"
      },
      "execution_count": null,
      "outputs": []
    },
    {
      "cell_type": "code",
      "source": [
        "dx = [1,0,-1,0]\n",
        "dy = [0,1,0,-1]\n",
        "n=7\n",
        "ch = [[0]*n for _ in range(n)]\n",
        "dis = [[0]*n for _ in range(n)]\n",
        "\n",
        "a=[[0,0,0,0,0,0,0],\n",
        "   [0,1,1,1,1,1,0],\n",
        "   [0,0,0,1,0,0,0],\n",
        "   [1,1,0,1,0,1,1],\n",
        "   [1,1,0,1,0,0,0],\n",
        "   [1,0,0,0,1,0,0],\n",
        "   [1,0,1,0,0,0,0]]\n",
        "\n",
        "now = (0,0)\n",
        "\n",
        "dq = deque()\n",
        "dq.append(now)\n"
      ],
      "metadata": {
        "id": "AmB2W22jrmcR"
      },
      "execution_count": null,
      "outputs": []
    },
    {
      "cell_type": "code",
      "source": [
        "l=0\n",
        "while dq:\n",
        "  if dis[n-1][n-1] != 0:\n",
        "    break\n",
        "  size = len(dq)\n",
        "  for _ in range(size):\n",
        "    now = dq.popleft()\n",
        "    ch[now[0]][now[1]] = 1\n",
        "    for x,y in zip(dx,dy):\n",
        "      if (0 <= (now[1]+x) < 7) and (0 <= (now[0]+y) < 7) and (ch[now[0]+y][now[1]+x] == 0) and a[now[0]+y][now[1]+x] == 0:\n",
        "        dq.append((now[0]+y,now[1]+x))\n",
        "        dis[now[0]+y][now[1]+x] = l+1\n",
        "  l+=1"
      ],
      "metadata": {
        "id": "7vE17MkJr3h8"
      },
      "execution_count": null,
      "outputs": []
    },
    {
      "cell_type": "code",
      "source": [
        "dis"
      ],
      "metadata": {
        "colab": {
          "base_uri": "https://localhost:8080/"
        },
        "id": "LxhjgU_lvj9A",
        "outputId": "7db40c7a-9ae1-4392-fd6f-7dfca9dcc112"
      },
      "execution_count": null,
      "outputs": [
        {
          "output_type": "execute_result",
          "data": {
            "text/plain": [
              "[[0, 1, 2, 3, 4, 5, 6],\n",
              " [1, 0, 0, 0, 0, 0, 7],\n",
              " [2, 3, 4, 0, 10, 9, 8],\n",
              " [0, 0, 5, 0, 11, 0, 0],\n",
              " [0, 0, 6, 0, 12, 0, 0],\n",
              " [0, 8, 7, 8, 0, 12, 0],\n",
              " [0, 9, 0, 9, 10, 11, 12]]"
            ]
          },
          "metadata": {},
          "execution_count": 127
        }
      ]
    },
    {
      "cell_type": "code",
      "source": [
        "ch"
      ],
      "metadata": {
        "colab": {
          "base_uri": "https://localhost:8080/"
        },
        "id": "Y7bDt87Kv2Jd",
        "outputId": "a3e03fa8-c484-4422-f4ce-02f9d46d73ce"
      },
      "execution_count": null,
      "outputs": [
        {
          "output_type": "execute_result",
          "data": {
            "text/plain": [
              "[[1, 1, 1, 1, 1, 1, 1],\n",
              " [1, 0, 0, 0, 0, 0, 1],\n",
              " [1, 1, 1, 0, 1, 1, 1],\n",
              " [0, 0, 1, 0, 1, 0, 0],\n",
              " [0, 0, 1, 0, 1, 0, 0],\n",
              " [0, 1, 1, 1, 0, 1, 0],\n",
              " [0, 1, 0, 1, 1, 1, 1]]"
            ]
          },
          "metadata": {},
          "execution_count": 112
        }
      ]
    },
    {
      "cell_type": "code",
      "source": [],
      "metadata": {
        "id": "iXrZBL73wOK_"
      },
      "execution_count": null,
      "outputs": []
    },
    {
      "cell_type": "code",
      "source": [],
      "metadata": {
        "id": "zS4lq3WuMLYK"
      },
      "execution_count": null,
      "outputs": []
    },
    {
      "cell_type": "code",
      "source": [
        "dx = [1,0,-1,0]\n",
        "dy = [0,1,0,-1]\n",
        "n=7\n",
        "ch = [[0]*n for _ in range(n)]\n",
        "dis = [[0]*n for _ in range(n)]\n",
        "\n",
        "a=[[0,0,0,0,0,0,0],\n",
        "   [0,1,1,1,1,1,0],\n",
        "   [0,0,0,1,0,0,0],\n",
        "   [1,1,0,1,0,1,1],\n",
        "   [1,1,0,0,0,0,1],\n",
        "   [1,1,0,1,1,0,0],\n",
        "   [1,0,0,0,0,0,0]]"
      ],
      "metadata": {
        "id": "bPRWZnIxMLbs"
      },
      "execution_count": null,
      "outputs": []
    },
    {
      "cell_type": "code",
      "source": [
        "cnt=0\n",
        "\n",
        "a[0][0] = 1\n",
        "\n",
        "def DFS(x,y,v):\n",
        "  global cnt\n",
        "  if dis[6][6]!=0:\n",
        "    cnt+=1\n",
        "    for i in range(len(dis)):\n",
        "      print(dis[i])\n",
        "    print()\n",
        "  else:\n",
        "    for i in range(4):\n",
        "      next_x = x+dx[i]\n",
        "      next_y = y+dy[i]\n",
        "      if (0<=next_x<=6) and (0<=next_y<=6):\n",
        "        if (a[next_x][next_y] == 0) and (dis[next_x][next_y] == 0):\n",
        "          dis[next_x][next_y] = v+1\n",
        "          a[next_x][next_y] = 1\n",
        "          DFS(next_x,next_y,v+1)\n",
        "          a[next_x][next_y] = 0\n",
        "          dis[next_x][next_y] = 0\n",
        "\n",
        "\n"
      ],
      "metadata": {
        "id": "QceljeuXYyie"
      },
      "execution_count": null,
      "outputs": []
    },
    {
      "cell_type": "code",
      "source": [
        "DFS(0,0,0)"
      ],
      "metadata": {
        "colab": {
          "base_uri": "https://localhost:8080/"
        },
        "id": "DK0c82VlSOeD",
        "outputId": "242954b2-7aae-4da2-eba9-58ee63c5afbd"
      },
      "execution_count": null,
      "outputs": [
        {
          "output_type": "stream",
          "name": "stdout",
          "text": [
            "[0, 0, 0, 0, 0, 0, 0]\n",
            "[1, 0, 0, 0, 0, 0, 0]\n",
            "[2, 3, 4, 0, 0, 0, 0]\n",
            "[0, 0, 5, 0, 0, 0, 0]\n",
            "[0, 0, 6, 0, 0, 0, 0]\n",
            "[0, 0, 7, 0, 0, 0, 0]\n",
            "[0, 0, 8, 9, 10, 11, 12]\n",
            "\n",
            "[0, 0, 0, 0, 0, 0, 0]\n",
            "[1, 0, 0, 0, 0, 0, 0]\n",
            "[2, 3, 4, 0, 0, 0, 0]\n",
            "[0, 0, 5, 0, 0, 0, 0]\n",
            "[0, 0, 6, 0, 0, 0, 0]\n",
            "[0, 0, 7, 0, 0, 12, 13]\n",
            "[0, 0, 8, 9, 10, 11, 14]\n",
            "\n",
            "[0, 0, 0, 0, 0, 0, 0]\n",
            "[1, 0, 0, 0, 0, 0, 0]\n",
            "[2, 3, 4, 0, 0, 0, 0]\n",
            "[0, 0, 5, 0, 0, 0, 0]\n",
            "[0, 0, 6, 7, 8, 9, 0]\n",
            "[0, 0, 0, 0, 0, 10, 0]\n",
            "[0, 0, 0, 0, 0, 11, 12]\n",
            "\n",
            "[0, 0, 0, 0, 0, 0, 0]\n",
            "[1, 0, 0, 0, 0, 0, 0]\n",
            "[2, 3, 4, 0, 0, 0, 0]\n",
            "[0, 0, 5, 0, 0, 0, 0]\n",
            "[0, 0, 6, 7, 8, 9, 0]\n",
            "[0, 0, 0, 0, 0, 10, 11]\n",
            "[0, 0, 0, 0, 0, 0, 12]\n",
            "\n",
            "[0, 1, 2, 3, 4, 5, 6]\n",
            "[0, 0, 0, 0, 0, 0, 7]\n",
            "[0, 0, 0, 0, 10, 9, 8]\n",
            "[0, 0, 0, 0, 11, 0, 0]\n",
            "[0, 0, 0, 0, 12, 13, 0]\n",
            "[0, 0, 0, 0, 0, 14, 0]\n",
            "[0, 0, 0, 0, 0, 15, 16]\n",
            "\n",
            "[0, 1, 2, 3, 4, 5, 6]\n",
            "[0, 0, 0, 0, 0, 0, 7]\n",
            "[0, 0, 0, 0, 10, 9, 8]\n",
            "[0, 0, 0, 0, 11, 0, 0]\n",
            "[0, 0, 0, 0, 12, 13, 0]\n",
            "[0, 0, 0, 0, 0, 14, 15]\n",
            "[0, 0, 0, 0, 0, 0, 16]\n",
            "\n",
            "[0, 1, 2, 3, 4, 5, 6]\n",
            "[0, 0, 0, 0, 0, 0, 7]\n",
            "[0, 0, 0, 0, 10, 9, 8]\n",
            "[0, 0, 0, 0, 11, 0, 0]\n",
            "[0, 0, 14, 13, 12, 0, 0]\n",
            "[0, 0, 15, 0, 0, 0, 0]\n",
            "[0, 0, 16, 17, 18, 19, 20]\n",
            "\n",
            "[0, 1, 2, 3, 4, 5, 6]\n",
            "[0, 0, 0, 0, 0, 0, 7]\n",
            "[0, 0, 0, 0, 10, 9, 8]\n",
            "[0, 0, 0, 0, 11, 0, 0]\n",
            "[0, 0, 14, 13, 12, 0, 0]\n",
            "[0, 0, 15, 0, 0, 20, 21]\n",
            "[0, 0, 16, 17, 18, 19, 22]\n",
            "\n"
          ]
        }
      ]
    },
    {
      "cell_type": "code",
      "source": [
        "cnt"
      ],
      "metadata": {
        "colab": {
          "base_uri": "https://localhost:8080/"
        },
        "id": "EDuhtNeCSR9B",
        "outputId": "b3b9bff5-ce86-41be-be9a-2264c502debd"
      },
      "execution_count": null,
      "outputs": [
        {
          "output_type": "execute_result",
          "data": {
            "text/plain": [
              "8"
            ]
          },
          "metadata": {},
          "execution_count": 44
        }
      ]
    },
    {
      "cell_type": "code",
      "source": [
        "a"
      ],
      "metadata": {
        "colab": {
          "base_uri": "https://localhost:8080/"
        },
        "id": "h5lAcn-KSvLd",
        "outputId": "8f97ccd0-2074-46e4-c489-f60c738bf447"
      },
      "execution_count": null,
      "outputs": [
        {
          "output_type": "execute_result",
          "data": {
            "text/plain": [
              "[[0, 0, 0, 0, 0, 0, 0],\n",
              " [0, 1, 1, 1, 1, 1, 0],\n",
              " [0, 0, 0, 1, 0, 0, 0],\n",
              " [1, 1, 0, 1, 0, 1, 1],\n",
              " [1, 1, 0, 1, 0, 0, 0],\n",
              " [1, 0, 0, 0, 1, 0, 0],\n",
              " [1, 0, 1, 0, 0, 0, 0]]"
            ]
          },
          "metadata": {},
          "execution_count": 22
        }
      ]
    },
    {
      "cell_type": "code",
      "source": [],
      "metadata": {
        "id": "aj2El5rwObu0"
      },
      "execution_count": null,
      "outputs": []
    },
    {
      "cell_type": "code",
      "source": [
        "from collections import deque\n",
        "dq = deque()\n",
        "dq.append((0,0))\n",
        "min = [(0,0),100]\n",
        "max = [(0,0),0]\n",
        "\n",
        "a= [[20,2,92,78,93],\n",
        "    [49,50,48,90,80],\n",
        "    [30,53,70,75,96],\n",
        "    [94,91,82,89,93],\n",
        "    [97,98,100,95,96]]\n",
        "n=len(a)\n",
        "\n",
        "dx = [1,0,-1,0]\n",
        "dy = [0,1,0,-1]\n",
        "\n",
        "ch = [[0]*5 for _ in range(n)]\n",
        "ch[0][0] = 1\n",
        "\n",
        "ans = []\n",
        "v=0\n",
        "while dq:\n",
        "  l = len(dq)\n",
        "  now_x,now_y = dq.popleft()\n",
        "\n",
        "  for i in range(l):\n",
        "    for j in range(4):\n",
        "      next_x = now_x + dx[j]\n",
        "      next_y = now_y + dy[j]\n",
        "\n",
        "      if 0<=next_x<n and 0<=next_y < n:\n",
        "        if a[next_x][next_y] < min[1]:\n",
        "          min = [(next_x,next_y),a[next_x][next_y]]\n",
        "        if a[next_x][next_y] > max[1]:\n",
        "          max = [(next_x,next_y),a[next_x][next_y]]\n",
        "        if ch[next_x][next_y] == 0 and a[next_x][next_y] > a[now_x][now_y]:\n",
        "          dq.append((next_x,next_y))\n",
        "          ch[next_x][next_y] = 1\n",
        "  v+=1\n",
        "\n",
        "print(v)\n",
        "print(min)\n",
        "print(max)"
      ],
      "metadata": {
        "colab": {
          "base_uri": "https://localhost:8080/"
        },
        "id": "MPlodBIAOcO7",
        "outputId": "881e393f-dc31-414d-f9b7-a11aba44b964"
      },
      "execution_count": null,
      "outputs": [
        {
          "output_type": "stream",
          "name": "stdout",
          "text": [
            "18\n",
            "[(0, 1), 2]\n",
            "[(4, 2), 100]\n"
          ]
        }
      ]
    },
    {
      "cell_type": "code",
      "source": [
        "ch = [[0]*5 for _ in range(n)]\n",
        "ch[0][0] = 1\n",
        "cnt=0\n",
        "ans = [min[1]]\n",
        "\n",
        "def DFS(x,y,v):\n",
        "  global cnt\n",
        "  if ch[max[0][0]][max[0][1]] != 0:\n",
        "    cnt+=1\n",
        "    print(ans)\n",
        "  else:\n",
        "    for i in range(4):\n",
        "      next_x = x+dx[i]\n",
        "      next_y = y+dy[i]\n",
        "\n",
        "      if 0<=next_x<n and 0<=next_y<n and ch[next_x][next_y] == 0 and a[x][y] < a[next_x][next_y]:\n",
        "        ans.append(a[next_x][next_y])\n",
        "        ch[next_x][next_y] = 1\n",
        "        DFS(next_x,next_y,v+1)\n",
        "        ch[next_x][next_y] = 0\n",
        "        ans.pop()\n",
        "\n",
        "DFS(min[0][0],min[0][1],0)\n",
        "cnt"
      ],
      "metadata": {
        "colab": {
          "base_uri": "https://localhost:8080/"
        },
        "id": "Fq2RmjPrR9cc",
        "outputId": "d2c5ac46-624d-44f9-bf35-ab30ad6e4033"
      },
      "execution_count": null,
      "outputs": [
        {
          "output_type": "stream",
          "name": "stdout",
          "text": [
            "[2, 50, 53, 91, 98, 100]\n",
            "[2, 50, 53, 91, 94, 97, 98, 100]\n",
            "[2, 50, 53, 70, 82, 100]\n",
            "[2, 50, 53, 70, 82, 89, 95, 100]\n",
            "[2, 50, 53, 70, 82, 91, 98, 100]\n",
            "[2, 50, 53, 70, 82, 91, 94, 97, 98, 100]\n",
            "[2, 50, 53, 70, 75, 89, 95, 100]\n"
          ]
        },
        {
          "output_type": "execute_result",
          "data": {
            "text/plain": [
              "7"
            ]
          },
          "metadata": {},
          "execution_count": 23
        }
      ]
    },
    {
      "cell_type": "code",
      "source": [],
      "metadata": {
        "id": "fQ1N3srNUdxo"
      },
      "execution_count": null,
      "outputs": []
    },
    {
      "cell_type": "code",
      "source": [
        "ch"
      ],
      "metadata": {
        "colab": {
          "base_uri": "https://localhost:8080/"
        },
        "id": "l_o5wQmCoJ0K",
        "outputId": "ce930a4a-dfb9-42c9-edef-ce49f5b037ef"
      },
      "execution_count": null,
      "outputs": [
        {
          "output_type": "execute_result",
          "data": {
            "text/plain": [
              "[[1, 1, 1, 1, 1],\n",
              " [0, 0, 0, 0, 1],\n",
              " [0, 0, 0, 0, 0],\n",
              " [0, 0, 0, 0, 0],\n",
              " [0, 0, 0, 0, 0]]"
            ]
          },
          "metadata": {},
          "execution_count": 3
        }
      ]
    },
    {
      "cell_type": "code",
      "source": [
        "import sys\n",
        "sys.setrecursionlimit(10**6)\n",
        "\n",
        "a=[[6,8,2,6,2],\n",
        "   [3,2,3,4,6],\n",
        "   [6,7,3,3,2],\n",
        "   [7,2,5,3,6],\n",
        "   [8,9,5,2,7]]\n",
        "\n",
        "ch = [[0]*n for _ in range(n)]\n",
        "\n",
        "n=len(a)\n",
        "\n",
        "m=4\n",
        "\n",
        "dx = [1,0,-1,0]\n",
        "dy = [0,1,0,-1]\n",
        "\n",
        "cnt=0\n",
        "ans=[]\n",
        "\n",
        "def DFS(x,y):\n",
        "  global c\n",
        "  for k in range(4):\n",
        "    xx = x+dx[k]\n",
        "    yy = y+dy[k]\n",
        "\n",
        "    if 0<=xx<n and 0<=yy<n:\n",
        "      if a[xx][yy] > m and ch[xx][yy] == 0 :\n",
        "        ch[xx][yy] = 1\n",
        "        c+=1\n",
        "        DFS(xx,yy)\n",
        "\n",
        "for i in range(n):\n",
        "  for j in range(n):\n",
        "    if ch[i][j]==0 and a[i][j]>m:\n",
        "      ch[i][j] = 1\n",
        "      cnt+=1\n",
        "      c=1\n",
        "      DFS(i,j)\n",
        "      ans.append(c)"
      ],
      "metadata": {
        "id": "_PIx9UEaoJ3g"
      },
      "execution_count": null,
      "outputs": []
    },
    {
      "cell_type": "code",
      "source": [
        "ans"
      ],
      "metadata": {
        "colab": {
          "base_uri": "https://localhost:8080/"
        },
        "id": "y5EglJ_sqqdK",
        "outputId": "26fe00b6-5191-4f16-bd11-3461d243d399"
      },
      "execution_count": null,
      "outputs": [
        {
          "output_type": "execute_result",
          "data": {
            "text/plain": [
              "[2, 1, 1, 7, 2]"
            ]
          },
          "metadata": {},
          "execution_count": 15
        }
      ]
    },
    {
      "cell_type": "code",
      "source": [],
      "metadata": {
        "id": "80pdJxJTx4-H"
      },
      "execution_count": null,
      "outputs": []
    },
    {
      "cell_type": "code",
      "source": [
        "from collections import deque\n",
        "dq = deque()\n",
        "\n",
        "a=[[0,0,-1,0,0,0],\n",
        "   [0,0,1,0,-1,0],\n",
        "   [0,0,-1,0,0,0],\n",
        "   [0,0,0,0,-1,1]]\n",
        "\n",
        "n = len(a)\n",
        "m = len(a[0])\n",
        "ch = [[0]*m for _ in range(n)]\n",
        "cnt=0\n",
        "cnt_list=[]\n",
        "\n",
        "cnt_0=0\n",
        "for i in range(n):\n",
        "  for j in range(m):\n",
        "    if a[i][j] == 0:\n",
        "      cnt_0 += 1\n",
        "\n",
        "if cnt_0 == 0:\n",
        "  print('0')\n",
        "\n",
        "else:\n",
        "  for i in range(n):\n",
        "    for j in range(m):\n",
        "\n",
        "      if a[i][j] == 1 and ch[i][j] == 0:\n",
        "        dq.append((i,j))\n",
        "        ch[i][j] = 1\n",
        "\n",
        "\n",
        "v=0\n",
        "while dq:\n",
        "  dq_len = len(dq)\n",
        "  for _ in range(dq_len):\n",
        "    now = dq.popleft()\n",
        "    for k in range(4):\n",
        "      y = now[0] + dy[k]\n",
        "      x = now[1] + dx[k]\n",
        "\n",
        "      if 0<=x<m and 0<=y<n:\n",
        "        if ch[y][x] == 0 and a[y][x] == 0:\n",
        "          dq.append((y,x))\n",
        "          ch[y][x] = 1\n",
        "          a[y][x] = 1\n",
        "  v+=1\n",
        "\n",
        "print(v)\n",
        "\n",
        "cnt_0=0\n",
        "for i in range(n):\n",
        "  for j in range(m):\n",
        "    if a[i][j] == 0:\n",
        "      cnt_0 += 1\n",
        "\n",
        "if cnt_0 > 0:\n",
        "  print('-1')"
      ],
      "metadata": {
        "colab": {
          "base_uri": "https://localhost:8080/"
        },
        "id": "0F02LLFgx5BW",
        "outputId": "0a165811-2219-4e0a-cf26-d9861eff1770"
      },
      "execution_count": null,
      "outputs": [
        {
          "output_type": "stream",
          "name": "stdout",
          "text": [
            "5\n"
          ]
        }
      ]
    },
    {
      "cell_type": "code",
      "source": [
        "cnt_list"
      ],
      "metadata": {
        "colab": {
          "base_uri": "https://localhost:8080/"
        },
        "id": "QJr3AUUEuVjf",
        "outputId": "bce5afdb-f02f-4ca0-96b4-f56c71a33132"
      },
      "execution_count": null,
      "outputs": [
        {
          "output_type": "execute_result",
          "data": {
            "text/plain": [
              "[6, 1]"
            ]
          },
          "metadata": {},
          "execution_count": 20
        }
      ]
    },
    {
      "cell_type": "code",
      "source": [],
      "metadata": {
        "id": "rSDckN9_1b5x"
      },
      "execution_count": null,
      "outputs": []
    },
    {
      "cell_type": "code",
      "source": [],
      "metadata": {
        "id": "ket95kjzrr3i"
      },
      "execution_count": null,
      "outputs": []
    },
    {
      "cell_type": "code",
      "source": [],
      "metadata": {
        "id": "1J77drDlrr7r"
      },
      "execution_count": null,
      "outputs": []
    },
    {
      "cell_type": "markdown",
      "source": [
        "## 사다리타기"
      ],
      "metadata": {
        "id": "if3HaEPUrseE"
      }
    },
    {
      "cell_type": "markdown",
      "source": [
        "### DFS"
      ],
      "metadata": {
        "id": "NNGhw6SA0Amg"
      }
    },
    {
      "cell_type": "code",
      "source": [
        "a=[[1,0,1,0,0,1,0,1,0,1],\n",
        "   [1,0,1,1,1,1,0,1,0,1],\n",
        "   [1,0,1,0,0,1,0,1,0,1],\n",
        "   [1,0,1,0,0,1,0,1,1,1],\n",
        "   [1,0,1,0,0,1,0,1,0,1],\n",
        "   [1,0,1,1,1,1,0,1,0,1],\n",
        "   [1,0,1,0,0,1,0,1,1,1],\n",
        "   [1,1,1,0,0,1,0,1,0,1],\n",
        "   [1,0,1,0,0,1,1,1,0,1],\n",
        "   [1,0,2,0,0,1,0,2,0,1]]\n",
        "\n",
        "n=len(a)\n",
        "\n",
        "ch = [[0]*n for _ in range(n)]\n",
        "\n",
        "\n",
        "def DFS(y,x,v):\n",
        "  if y==(n-1):\n",
        "    if a[y][x] == 2:\n",
        "      print('Starting point : ',v)\n",
        "    else:\n",
        "      print('Wrong : ',v)\n",
        "  else:\n",
        "    ch[y][x] = 1\n",
        "    try:\n",
        "      if x+1 <= n and a[y][x+1] == 1 and ch[y][x+1] == 0:\n",
        "        DFS(y,x+1,v)\n",
        "      elif x-1 >= 0 and a[y][x-1] == 1 and ch[y][x-1] == 0:\n",
        "        DFS(y,x-1,v)\n",
        "      else:\n",
        "        DFS(y+1,x,v)\n",
        "    except:\n",
        "      DFS(y+1,x,v)\n",
        "\n",
        "\n",
        "for v in range(n):\n",
        "  ch = [[0]*n for _ in range(n)]\n",
        "  ch[0][v] = 1\n",
        "  if a[0][v] == 1:\n",
        "    DFS(0,v,v)"
      ],
      "metadata": {
        "colab": {
          "base_uri": "https://localhost:8080/"
        },
        "id": "bnHxdqN4rsGl",
        "outputId": "b66566ab-c793-4472-9c91-4074c68cb584"
      },
      "execution_count": null,
      "outputs": [
        {
          "output_type": "stream",
          "name": "stdout",
          "text": [
            "Starting point :  0\n",
            "Wrong :  2\n",
            "Starting point :  5\n",
            "Wrong :  7\n",
            "Wrong :  9\n"
          ]
        }
      ]
    },
    {
      "cell_type": "markdown",
      "source": [
        "### BFS"
      ],
      "metadata": {
        "id": "AY7kAhoO0CTo"
      }
    },
    {
      "cell_type": "code",
      "source": [
        "from collections import deque\n",
        "dq = deque()\n",
        "\n",
        "a=[[1,0,1,0,0,1,0,1,0,1],\n",
        "   [1,0,1,1,1,1,0,1,0,1],\n",
        "   [1,0,1,0,0,1,0,1,0,1],\n",
        "   [1,0,1,0,0,1,0,1,1,1],\n",
        "   [1,0,1,0,0,1,0,1,0,1],\n",
        "   [1,0,1,1,1,1,0,1,0,1],\n",
        "   [1,0,1,0,0,1,0,1,1,1],\n",
        "   [1,1,1,0,0,1,0,1,0,1],\n",
        "   [1,0,1,0,0,1,1,1,0,1],\n",
        "   [1,0,2,0,0,1,0,2,0,1]]\n",
        "\n",
        "n=len(a)\n",
        "\n",
        "ch = [[0]*n for _ in range(n)]\n",
        "\n",
        "for v in range(n):\n",
        "\n",
        "  if a[0][v] == 1:\n",
        "    dq.append((0,v))\n",
        "    ch = [[0]*n for _ in range(n)]\n",
        "    while dq:\n",
        "      now = dq.popleft()\n",
        "      ch[now[0]][now[1]] = 1\n",
        "\n",
        "      if now[0] == n-1:\n",
        "        if a[now[0]][now[1]] == 2:\n",
        "          print('correct : ',v)\n",
        "        else:\n",
        "          print('wrong : ',v)\n",
        "      else:\n",
        "        y= now[0]\n",
        "        x= now[1]\n",
        "        try:\n",
        "          if x+1 <= n and a[y][x+1] == 1 and ch[y][x+1] == 0:\n",
        "            dq.append((y,x+1))\n",
        "          elif x-1 >= 0 and a[y][x-1] == 1 and ch[y][x-1] == 0:\n",
        "            dq.append((y,x-1))\n",
        "          else:\n",
        "            dq.append((y+1,x))\n",
        "        except:\n",
        "          dq.append((y+1,x))"
      ],
      "metadata": {
        "colab": {
          "base_uri": "https://localhost:8080/"
        },
        "id": "C2Val6x9sMjQ",
        "outputId": "e971ee33-ab07-41f5-a9a7-f606acb3829b"
      },
      "execution_count": null,
      "outputs": [
        {
          "output_type": "stream",
          "name": "stdout",
          "text": [
            "correct :  0\n",
            "wrong :  2\n",
            "correct :  5\n",
            "wrong :  7\n",
            "wrong :  9\n"
          ]
        }
      ]
    },
    {
      "cell_type": "code",
      "source": [],
      "metadata": {
        "id": "ci23v0rCwZ7E"
      },
      "execution_count": null,
      "outputs": []
    },
    {
      "cell_type": "code",
      "source": [],
      "metadata": {
        "id": "7Daa_KDOwZ-L"
      },
      "execution_count": null,
      "outputs": []
    },
    {
      "cell_type": "markdown",
      "source": [
        "## 피자 배달거리"
      ],
      "metadata": {
        "id": "uqQiQos83yZo"
      }
    },
    {
      "cell_type": "code",
      "source": [
        "a=[[0,1,2,0],\n",
        "   [1,0,2,1],\n",
        "   [0,2,1,2],\n",
        "   [2,0,1,2]]\n",
        "\n",
        "def check_pizza(list):\n",
        "  pizzas = []\n",
        "  for i in range(len(a)):\n",
        "    for j in range(len(a[0])):\n",
        "      if a[i][j] == 2:\n",
        "        pizzas.append((i,j))\n",
        "  return pizzas\n",
        "pizzas = check_pizza(a)\n",
        "\n",
        "def check_houses(list):\n",
        "  houses = []\n",
        "  for i in range(len(a)):\n",
        "    for j in range(len(a[0])):\n",
        "      if a[i][j] == 1:\n",
        "        houses.append((i,j))\n",
        "  return houses\n",
        "houses = check_houses(a)\n",
        "\n",
        "pizzas_select = []\n",
        "l = []\n",
        "\n",
        "def combination(v,m,n):\n",
        "  if len(l) == m:\n",
        "    pizzas_select.append([i for i in l])\n",
        "  elif v == len(pizzas):\n",
        "    if len(l)>=n:\n",
        "      pizzas_select.append([i for i in l])\n",
        "  else:\n",
        "    l.append(v)\n",
        "    combination(v+1,m,n)\n",
        "    l.pop()\n",
        "    combination(v+1,m,n)"
      ],
      "metadata": {
        "id": "7lBw8sFG32Fp"
      },
      "execution_count": null,
      "outputs": []
    },
    {
      "cell_type": "code",
      "source": [
        "def check_distances(pizza_r,pizza_c,house_r,house_c):\n",
        "  return (abs(pizza_r-house_r) + abs(pizza_c-house_c))\n",
        "\n",
        "def choose_final():\n",
        "  min = 999\n",
        "  final = []\n",
        "  for i in pizzas_select:\n",
        "    sum_i = 0\n",
        "    for j in i:\n",
        "      pizza_r,pizza_c = pizzas[j]\n",
        "      for house_r,house_c in houses:\n",
        "        sum_i += check_distances(pizza_r,pizza_c,house_r,house_c)\n",
        "    if sum_i/len(i) < min:\n",
        "      min = sum_i/len(i)\n",
        "      final = i\n",
        "  print('final pizza location : ', [pizzas[i] for i in final])\n",
        "  print('minimum pizza distance : ',min)"
      ],
      "metadata": {
        "id": "1S8XjM9h465T"
      },
      "execution_count": null,
      "outputs": []
    },
    {
      "cell_type": "code",
      "source": [],
      "metadata": {
        "id": "Kv1uGQjjByJ2"
      },
      "execution_count": null,
      "outputs": []
    },
    {
      "cell_type": "code",
      "source": [
        "def Pizza(a,m,n):\n",
        "  pizzas=check_pizza(a)\n",
        "  houses=check_houses(a)\n",
        "  pizzas_select = []\n",
        "  l = []\n",
        "  pizza_select=combination(0,m,n)\n",
        "  choose_final()"
      ],
      "metadata": {
        "id": "7YR192QrB8Cc"
      },
      "execution_count": null,
      "outputs": []
    },
    {
      "cell_type": "code",
      "source": [
        "Pizza(a,5,4)"
      ],
      "metadata": {
        "colab": {
          "base_uri": "https://localhost:8080/"
        },
        "id": "B1cS_FRADhCM",
        "outputId": "3a0c8f98-d44d-42e1-ac5b-e2a3576b44f4"
      },
      "execution_count": null,
      "outputs": [
        {
          "output_type": "stream",
          "name": "stdout",
          "text": [
            "final pizza location :  [(0, 2), (1, 2), (2, 1), (2, 3)]\n",
            "minimum pizza distance :  10.25\n"
          ]
        }
      ]
    },
    {
      "cell_type": "code",
      "source": [],
      "metadata": {
        "id": "nuJnltkbDiF9"
      },
      "execution_count": null,
      "outputs": []
    },
    {
      "cell_type": "markdown",
      "source": [],
      "metadata": {
        "id": "1GWCGX3dW3P5"
      }
    },
    {
      "cell_type": "markdown",
      "source": [
        "# 병합정렬"
      ],
      "metadata": {
        "id": "dRerJZHVfqvb"
      }
    },
    {
      "cell_type": "code",
      "source": [
        "a=[4,1,9,5,2,6,3,8]\n",
        "def dsort(lt,rt):\n",
        "  if rt > lt:\n",
        "    mid = (lt+rt)//2\n",
        "    dsort(lt,mid)\n",
        "    dsort(mid+1,rt)\n",
        "    p1=lt\n",
        "    p2=mid+1\n",
        "\n",
        "    tmp=[]\n",
        "\n",
        "    while p1<=mid and p2<=rt:\n",
        "      if a[p1] <= a[p2]:\n",
        "        tmp.append(a[p1])\n",
        "        p1+=1\n",
        "      else:\n",
        "        tmp.append(a[p2])\n",
        "        p2+=1\n",
        "    if p1 <= mid:\n",
        "      tmp = tmp+ a[p1:mid+1]\n",
        "      p1+=1\n",
        "    elif p2 <= rt:\n",
        "      tmp = tmp + a[p2:rt+1]\n",
        "      p2+=1\n",
        "\n",
        "    for i in range(len(tmp)):\n",
        "      a[lt+i] = tmp[i]"
      ],
      "metadata": {
        "id": "qxBTYuGUW25P"
      },
      "execution_count": null,
      "outputs": []
    },
    {
      "cell_type": "code",
      "source": [
        "dsort(0,7)"
      ],
      "metadata": {
        "id": "mNUMlWSSW28E"
      },
      "execution_count": null,
      "outputs": []
    },
    {
      "cell_type": "code",
      "source": [
        "a"
      ],
      "metadata": {
        "colab": {
          "base_uri": "https://localhost:8080/"
        },
        "id": "xYV44Ln9567R",
        "outputId": "b973eb5f-abb9-482c-cb9c-493adb57fe4b"
      },
      "execution_count": null,
      "outputs": [
        {
          "output_type": "execute_result",
          "data": {
            "text/plain": [
              "[1, 2, 3, 4, 5, 6, 8, 9]"
            ]
          },
          "metadata": {},
          "execution_count": 14
        }
      ]
    },
    {
      "cell_type": "code",
      "source": [],
      "metadata": {
        "id": "L_fl3jCy9XIc"
      },
      "execution_count": null,
      "outputs": []
    },
    {
      "cell_type": "code",
      "source": [],
      "metadata": {
        "id": "byyL_bju5sh9"
      },
      "execution_count": null,
      "outputs": []
    },
    {
      "cell_type": "code",
      "source": [
        "a = [36,45,23,14,69,40,39,20,28,34]"
      ],
      "metadata": {
        "id": "PqOKFCOO59IT"
      },
      "execution_count": null,
      "outputs": []
    },
    {
      "cell_type": "code",
      "source": [
        "for i in range(0,10):\n",
        "  print(i)"
      ],
      "metadata": {
        "colab": {
          "base_uri": "https://localhost:8080/"
        },
        "id": "SCV67O_N63Nb",
        "outputId": "c5f08f5c-cef3-40f7-e70d-8384aeca071a"
      },
      "execution_count": null,
      "outputs": [
        {
          "output_type": "stream",
          "name": "stdout",
          "text": [
            "0\n",
            "1\n",
            "2\n",
            "3\n",
            "4\n",
            "5\n",
            "6\n",
            "7\n",
            "8\n",
            "9\n"
          ]
        }
      ]
    },
    {
      "cell_type": "code",
      "source": [
        "ans = [0] * len(a)\n",
        "def csort(lt,rt,v):\n",
        "  if rt>lt:\n",
        "    tmp1=[]\n",
        "    tmp2=[]\n",
        "    crit = a[n-v]\n",
        "    for i in (0,n-v):\n",
        "      if a[i] < crit:\n",
        "        tmp1.append(a[i])\n",
        "      else:\n",
        "        tmp2.append(a[i])\n",
        "    l = len(tmp1)\n",
        "    ans[lt+l] = crit\n",
        "\n",
        "    if len(tmp1)==1:\n",
        "      ans[lt+l-1] = tmp1[0]\n",
        "    elif len(tmp2)==1:\n",
        "      ans[lt+l+1] = tmp2[0]\n",
        "\n",
        "    a.pop()\n",
        "\n",
        "    csort(lt,lt+l-1)\n",
        "    csort(lt+l+1,rt)\n",
        "\n"
      ],
      "metadata": {
        "id": "JEPsOFhf5slc"
      },
      "execution_count": null,
      "outputs": []
    },
    {
      "cell_type": "code",
      "source": [],
      "metadata": {
        "id": "3rBKbtQVR5fg"
      },
      "execution_count": null,
      "outputs": []
    },
    {
      "cell_type": "code",
      "source": [],
      "metadata": {
        "id": "QZ3NyATsR5jK"
      },
      "execution_count": null,
      "outputs": []
    },
    {
      "cell_type": "markdown",
      "source": [
        "# 동적계획법"
      ],
      "metadata": {
        "id": "anarTtCzSL4T"
      }
    },
    {
      "cell_type": "code",
      "source": [
        "n=7\n",
        "ans = [0] * (n+1)\n",
        "ans[1] = 1\n",
        "ans[2] = 2\n",
        "\n",
        "def DFS(v):\n",
        "  if ans[v] != 0:\n",
        "    return ans[v]\n",
        "  if v == 1 or v == 2:\n",
        "    return ans[v]\n",
        "  else:\n",
        "    ans[v] = DFS(v-1) + DFS(v-2)\n",
        "    return ans[v]\n"
      ],
      "metadata": {
        "id": "m26JORWgR5mo"
      },
      "execution_count": null,
      "outputs": []
    },
    {
      "cell_type": "code",
      "source": [
        "DFS(7)"
      ],
      "metadata": {
        "colab": {
          "base_uri": "https://localhost:8080/"
        },
        "id": "75l40Mh2SJ6B",
        "outputId": "1123e850-3ac8-4006-cc24-3887a8efb173"
      },
      "execution_count": null,
      "outputs": [
        {
          "output_type": "execute_result",
          "data": {
            "text/plain": [
              "21"
            ]
          },
          "metadata": {},
          "execution_count": 6
        }
      ]
    },
    {
      "cell_type": "code",
      "source": [],
      "metadata": {
        "id": "Yc7ORJ68R5p-"
      },
      "execution_count": null,
      "outputs": []
    },
    {
      "cell_type": "code",
      "source": [
        "a = [5,3,4,2,8,7,1,9]\n",
        "ans = [0] * (len(a))"
      ],
      "metadata": {
        "id": "F24RZy_aUfas"
      },
      "execution_count": null,
      "outputs": []
    },
    {
      "cell_type": "code",
      "source": [
        "def DFS(v):\n",
        "  if ans[v] != 0:\n",
        "    return ans[v]\n",
        "  if v == 0:\n",
        "    ans[v] = 1\n",
        "    return ans[v]\n",
        "  else:\n",
        "    tmp=[]\n",
        "    for i in range(0,v):\n",
        "      if a[i] < a[v]:\n",
        "        tmp.append(DFS(i))\n",
        "    if tmp:\n",
        "      ans[v] = max(tmp)+1\n",
        "      return ans[v]\n",
        "    else:\n",
        "      ans[v] = 1\n",
        "      return ans[v]"
      ],
      "metadata": {
        "id": "DFp9QmRsUiHG"
      },
      "execution_count": null,
      "outputs": []
    },
    {
      "cell_type": "code",
      "source": [
        "ans"
      ],
      "metadata": {
        "colab": {
          "base_uri": "https://localhost:8080/"
        },
        "id": "kLIeNqOpXC92",
        "outputId": "f9107af4-9251-464f-ec2a-c4fb2a5689e5"
      },
      "execution_count": null,
      "outputs": [
        {
          "output_type": "execute_result",
          "data": {
            "text/plain": [
              "[1, 1, 2, 1, 3, 3, 1, 4]"
            ]
          },
          "metadata": {},
          "execution_count": 6
        }
      ]
    },
    {
      "cell_type": "code",
      "source": [
        "DFS(len(a)-1)"
      ],
      "metadata": {
        "colab": {
          "base_uri": "https://localhost:8080/"
        },
        "id": "UqkZD-x4W1pt",
        "outputId": "16d4d0b6-2997-48d1-97fe-7e8449cad9f5"
      },
      "execution_count": null,
      "outputs": [
        {
          "output_type": "execute_result",
          "data": {
            "text/plain": [
              "4"
            ]
          },
          "metadata": {},
          "execution_count": 5
        }
      ]
    },
    {
      "cell_type": "code",
      "source": [],
      "metadata": {
        "id": "jnoaPzTkW38H"
      },
      "execution_count": null,
      "outputs": []
    },
    {
      "cell_type": "code",
      "source": [
        "a = [[25,3,4],[4,4,6],[9,2,3],[16,2,5],[1,5,2]]\n",
        "(any(a[3][2] > i[2] for i in a))"
      ],
      "metadata": {
        "colab": {
          "base_uri": "https://localhost:8080/"
        },
        "id": "LtAzgz5V1GUB",
        "outputId": "fdbb31ef-58db-4dc0-d115-fc26b1ba7a8e"
      },
      "execution_count": null,
      "outputs": [
        {
          "output_type": "execute_result",
          "data": {
            "text/plain": [
              "True"
            ]
          },
          "metadata": {},
          "execution_count": 8
        }
      ]
    },
    {
      "cell_type": "code",
      "source": [
        "a = [[25,3,4],[4,4,6],[9,2,3],[16,2,5],[1,5,2]]\n",
        "n=len(a)\n",
        "ans = [0]*n\n",
        "\n",
        "def DFS(v):\n",
        "  if ans[v] != 0:\n",
        "    return ans[v]\n",
        "\n",
        "  if (any(a[v][0] > i[0] for i in a)) and (any(a[v][2] > i[2] for i in a)):\n",
        "    max = 0\n",
        "    for i in range(n):\n",
        "      if a[i][0] < a[v][0] and a[i][2] < a[v][2]:\n",
        "        if DFS(i) + a[v][1] > max:\n",
        "          max = DFS(i) + a[v][1]\n",
        "          ans[v] = DFS(i) + a[v][1]\n",
        "    return ans[v]\n",
        "  else:\n",
        "    ans[v] = a[v][1]\n",
        "    return ans[v]\n"
      ],
      "metadata": {
        "id": "vZHkXwAo1Gag"
      },
      "execution_count": null,
      "outputs": []
    },
    {
      "cell_type": "code",
      "source": [
        "DFS(0)"
      ],
      "metadata": {
        "colab": {
          "base_uri": "https://localhost:8080/"
        },
        "id": "RV_ID4l543sC",
        "outputId": "974b27ed-651f-46f1-85de-04fbf23dd11e"
      },
      "execution_count": null,
      "outputs": [
        {
          "output_type": "execute_result",
          "data": {
            "text/plain": [
              "10"
            ]
          },
          "metadata": {},
          "execution_count": 44
        }
      ]
    },
    {
      "cell_type": "code",
      "source": [
        "tmp = []\n",
        "for i in range(n):\n",
        "  ans = [0]*n\n",
        "  tmp.append(DFS(i))\n",
        "\n",
        "max(tmp)"
      ],
      "metadata": {
        "colab": {
          "base_uri": "https://localhost:8080/"
        },
        "id": "n4kRrHXK6vte",
        "outputId": "29faa4cd-e924-482e-b6f1-4642ebca2d03"
      },
      "execution_count": null,
      "outputs": [
        {
          "output_type": "execute_result",
          "data": {
            "text/plain": [
              "10"
            ]
          },
          "metadata": {},
          "execution_count": 48
        }
      ]
    },
    {
      "cell_type": "code",
      "source": [],
      "metadata": {
        "id": "NXzUvrBL8Z63"
      },
      "execution_count": null,
      "outputs": []
    },
    {
      "cell_type": "code",
      "source": [],
      "metadata": {
        "id": "hLX5kHdkNQrX"
      },
      "execution_count": null,
      "outputs": []
    },
    {
      "cell_type": "code",
      "source": [
        "a = [[3,3,5],[2,3,4],[6,5,2]]\n",
        "n=3\n",
        "from collections import deque\n",
        "dq = deque()\n",
        "dq.append((0,0))\n",
        "ans = [[999]*3 for _ in range(3)]\n",
        "ans[0][0] = a[0][0]\n",
        "\n",
        "dx = [0,1]\n",
        "dy = [1,0]\n",
        "\n",
        "while dq:\n",
        "  r,c = dq.pop()\n",
        "\n",
        "  for i in range(2):\n",
        "    rr = r+dx[i]\n",
        "    cc = c+dy[i]\n",
        "\n",
        "    if rr < 3 and cc < 3:\n",
        "      dq.append((rr,cc))\n",
        "      if ans[r][c] + a[rr][cc] < ans[rr][cc]:\n",
        "        ans[rr][cc] = ans[r][c] + a[rr][cc]\n",
        "\n",
        "\n"
      ],
      "metadata": {
        "id": "POp3MvsyNQu1"
      },
      "execution_count": null,
      "outputs": []
    },
    {
      "cell_type": "code",
      "source": [],
      "metadata": {
        "colab": {
          "base_uri": "https://localhost:8080/"
        },
        "id": "g8j2LHVsPPPm",
        "outputId": "5b3cc30b-438c-4a29-e6af-f1f05510c345"
      },
      "execution_count": null,
      "outputs": [
        {
          "output_type": "execute_result",
          "data": {
            "text/plain": [
              "[[3, 6, 11], [5, 8, 12], [11, 13, 14]]"
            ]
          },
          "metadata": {},
          "execution_count": 52
        }
      ]
    },
    {
      "cell_type": "code",
      "source": [],
      "metadata": {
        "id": "bemNWptPRDrG"
      },
      "execution_count": null,
      "outputs": []
    },
    {
      "cell_type": "code",
      "source": [],
      "metadata": {
        "id": "RjViwE1m1HMd"
      },
      "execution_count": null,
      "outputs": []
    },
    {
      "cell_type": "markdown",
      "source": [
        "## 냅색 알고리즘"
      ],
      "metadata": {
        "id": "Eq9MK2Nx8X0l"
      }
    },
    {
      "cell_type": "code",
      "source": [
        "a = [[3,4],[4,5],[7,10],[8,11],[9,13]]\n",
        "n = len(a)\n",
        "max = 0\n",
        "\n",
        "def DFS(s,price):\n",
        "  global max\n",
        "  if price > max:\n",
        "    max = price\n",
        "  for i in range(n):\n",
        "    if s+a[i][0] <= 17:\n",
        "      s = s+a[i][0]\n",
        "      price = price+a[i][1]\n",
        "      DFS(s,price)\n",
        "      s = s-a[i][0]\n",
        "      price = price-a[i][1]"
      ],
      "metadata": {
        "id": "tXfJEGUu1HRL"
      },
      "execution_count": null,
      "outputs": []
    },
    {
      "cell_type": "code",
      "source": [
        "DFS(0,0)"
      ],
      "metadata": {
        "id": "Io9I3YrC28FY"
      },
      "execution_count": null,
      "outputs": []
    },
    {
      "cell_type": "code",
      "source": [
        "max"
      ],
      "metadata": {
        "colab": {
          "base_uri": "https://localhost:8080/"
        },
        "id": "C6YO1GiE2-u0",
        "outputId": "3b87dc25-af89-462b-a1f5-0e67d6b65bf9"
      },
      "execution_count": null,
      "outputs": [
        {
          "output_type": "execute_result",
          "data": {
            "text/plain": [
              "24"
            ]
          },
          "metadata": {},
          "execution_count": 6
        }
      ]
    },
    {
      "cell_type": "code",
      "source": [],
      "metadata": {
        "id": "Vp2psv4Da-YG"
      },
      "execution_count": null,
      "outputs": []
    },
    {
      "cell_type": "code",
      "source": [],
      "metadata": {
        "id": "QCSWKn1ja-an"
      },
      "execution_count": null,
      "outputs": []
    },
    {
      "cell_type": "code",
      "source": [
        "a = [[3,4],[4,5],[7,10],[8,11],[9,13]]\n",
        "n = len(a)\n",
        "max = 0\n",
        "\n",
        "def DFS(s,price):\n",
        "  global max\n",
        "  if price > max:\n",
        "    max = price\n",
        "  for i in range(n):\n",
        "    if s+a[i][0] <= 17:\n",
        "      DFS(s+a[i][0],price+a[i][1])\n",
        "DFS(0,0)\n",
        "max"
      ],
      "metadata": {
        "colab": {
          "base_uri": "https://localhost:8080/"
        },
        "id": "vl7uEbeja-dm",
        "outputId": "f61a7562-359f-480b-c813-57d823ee9785"
      },
      "execution_count": null,
      "outputs": [
        {
          "output_type": "execute_result",
          "data": {
            "text/plain": [
              "24"
            ]
          },
          "metadata": {},
          "execution_count": 11
        }
      ]
    },
    {
      "cell_type": "code",
      "source": [],
      "metadata": {
        "id": "e2m0OIVDbJqD"
      },
      "execution_count": null,
      "outputs": []
    },
    {
      "cell_type": "code",
      "source": [],
      "metadata": {
        "id": "hcPqwchYbJtm"
      },
      "execution_count": null,
      "outputs": []
    },
    {
      "cell_type": "code",
      "source": [
        "a = [[3,4],[4,5],[7,10],[8,11],[9,13]]\n",
        "n = len(a)\n",
        "t = 17\n",
        "ans = [0]*(t+1)\n",
        "\n",
        "def DFS(v):\n",
        "  if v <3:\n",
        "    return ans[v]\n",
        "  if ans[v] != 0:\n",
        "    return ans[v]\n",
        "  else:\n",
        "    for i in a:\n",
        "      if v-i[0] >= 0:\n",
        "        if DFS(v-i[0]) + i[1] > ans[v]:\n",
        "          ans[v] = DFS(v-i[0]) + i[1]\n",
        "    return ans[v]"
      ],
      "metadata": {
        "id": "GUQbmOreX8tH"
      },
      "execution_count": null,
      "outputs": []
    },
    {
      "cell_type": "code",
      "source": [
        "DFS(t)"
      ],
      "metadata": {
        "colab": {
          "base_uri": "https://localhost:8080/"
        },
        "id": "ekohD40MZ6P0",
        "outputId": "a49ccddc-c410-4de0-dc33-25116eb07979"
      },
      "execution_count": null,
      "outputs": [
        {
          "output_type": "execute_result",
          "data": {
            "text/plain": [
              "24"
            ]
          },
          "metadata": {},
          "execution_count": 7
        }
      ]
    },
    {
      "cell_type": "code",
      "source": [],
      "metadata": {
        "id": "NAWkGL5RZ9iG"
      },
      "execution_count": null,
      "outputs": []
    },
    {
      "cell_type": "code",
      "source": [],
      "metadata": {
        "id": "2DtvcAzEBuL7"
      },
      "execution_count": null,
      "outputs": []
    },
    {
      "cell_type": "code",
      "source": [
        "a=[[5,12],[3,8],[6,14],[4,8]]\n",
        "t = 11\n",
        "ans = [0]*(t+1)\n",
        "\n",
        "def DFS(v):\n",
        "  if v <3:\n",
        "    return ans[v]\n",
        "  if ans[v] != 0:\n",
        "    return ans[v]\n",
        "  else:\n",
        "    for i in a:\n",
        "      if v-i[0] >= 0:\n",
        "        if DFS(v-i[0]) + i[1] > ans[v]:\n",
        "          ans[v] = DFS(v-i[0]) + i[1]\n",
        "\n",
        "    return ans[v]"
      ],
      "metadata": {
        "id": "V4jsthSFBuPr"
      },
      "execution_count": null,
      "outputs": []
    },
    {
      "cell_type": "code",
      "source": [
        "DFS(11)"
      ],
      "metadata": {
        "colab": {
          "base_uri": "https://localhost:8080/"
        },
        "id": "6V0geLn6B3-g",
        "outputId": "69e0b66f-3750-44e0-814a-1304cb9dd0f6"
      },
      "execution_count": null,
      "outputs": [
        {
          "output_type": "execute_result",
          "data": {
            "text/plain": [
              "28"
            ]
          },
          "metadata": {},
          "execution_count": 20
        }
      ]
    },
    {
      "cell_type": "code",
      "source": [
        "a=[[5,12],[3,8],[6,14],[4,8]]\n",
        "t = 11\n",
        "ans = [0]*(t+1)\n",
        "n=len(a)\n",
        "\n",
        "for i in a:\n",
        "  for j in range(i[0],t+1):\n",
        "    ans[j] = max(ans[j],ans[j-i[0]] + i[1])\n",
        "\n",
        "ans"
      ],
      "metadata": {
        "id": "-gEy5U6uB5TE",
        "colab": {
          "base_uri": "https://localhost:8080/"
        },
        "outputId": "0e76cdb3-aae2-4173-87f4-c1f6bc590973"
      },
      "execution_count": null,
      "outputs": [
        {
          "output_type": "execute_result",
          "data": {
            "text/plain": [
              "[0, 0, 0, 8, 8, 12, 16, 16, 20, 24, 24, 28]"
            ]
          },
          "metadata": {},
          "execution_count": 3
        }
      ]
    },
    {
      "cell_type": "code",
      "source": [],
      "metadata": {
        "id": "bLtjE0zDjdNU"
      },
      "execution_count": null,
      "outputs": []
    },
    {
      "cell_type": "code",
      "source": [],
      "metadata": {
        "id": "3aJjIBzAjdRN"
      },
      "execution_count": null,
      "outputs": []
    },
    {
      "cell_type": "code",
      "source": [],
      "metadata": {
        "id": "cypV6lqJTIJO"
      },
      "execution_count": null,
      "outputs": []
    },
    {
      "cell_type": "code",
      "source": [
        "a = [1,2,5]\n",
        "t = 99\n",
        "ans = [0]*(t+1)\n",
        "\n",
        "def DFS(v):\n",
        "  if v in a:\n",
        "    ans[v] = 1\n",
        "    return ans[v]\n",
        "  if ans[v] != 0:\n",
        "    return ans[v]\n",
        "  else:\n",
        "    min = 9999\n",
        "    for i in a:\n",
        "      if v-i >= 0:\n",
        "        if DFS(v-i) + 1 < min:\n",
        "          min = DFS(v-i) + 1\n",
        "          ans[v] = DFS(v-i) + 1\n",
        "    return ans[v]\n"
      ],
      "metadata": {
        "id": "jWe7HHAKTINC"
      },
      "execution_count": null,
      "outputs": []
    },
    {
      "cell_type": "code",
      "source": [
        "DFS(99)"
      ],
      "metadata": {
        "colab": {
          "base_uri": "https://localhost:8080/"
        },
        "id": "ISBLMzTKTM_8",
        "outputId": "b7bfd859-0120-4c9f-94a4-8c24bbae1bdb"
      },
      "execution_count": null,
      "outputs": [
        {
          "output_type": "execute_result",
          "data": {
            "text/plain": [
              "21"
            ]
          },
          "metadata": {},
          "execution_count": 53
        }
      ]
    },
    {
      "cell_type": "code",
      "source": [],
      "metadata": {
        "id": "g3M3NoBXWIly"
      },
      "execution_count": null,
      "outputs": []
    },
    {
      "cell_type": "code",
      "source": [
        "a = [[10,5],[25,12],[15,8],[6,3],[7,4]]\n",
        "n=len(a)\n",
        "m_m = 99999\n",
        "for i in range(n):\n",
        "  m_m = min(m_m,a[i][1])\n",
        "m_m-1"
      ],
      "metadata": {
        "colab": {
          "base_uri": "https://localhost:8080/"
        },
        "id": "B2y5duszcDKc",
        "outputId": "5b35a5e8-1d29-4fd3-bd17-a68132549dc4"
      },
      "execution_count": null,
      "outputs": [
        {
          "output_type": "execute_result",
          "data": {
            "text/plain": [
              "2"
            ]
          },
          "metadata": {},
          "execution_count": 4
        }
      ]
    },
    {
      "cell_type": "code",
      "source": [
        "a = [[10,5],[25,12],[15,8],[6,3],[7,4]]\n",
        "n = len(a)\n",
        "t = 20\n",
        "ch = [0]*(t+1)\n",
        "ans = [0]*(t+1)\n",
        "\n",
        "m_m = 99999\n",
        "for i in range(n):\n",
        "  m_m = min(m_m,a[i][1])\n",
        "\n",
        "for i in range(m_m):\n",
        "  ch[i] = 1\n",
        "\n",
        "def DFS(v):\n",
        "\n",
        "  if ch[v] == 1:\n",
        "    return ans[v]\n",
        "  else:\n",
        "    max = 0\n",
        "    for i in a:\n",
        "      if v-i[1] >= 0:\n",
        "        if DFS(v-i[1]) + i[0] > max:\n",
        "          max = DFS(v-i[1]) + i[0]\n",
        "    ans[v] = max\n",
        "    ch[v] = 1\n",
        "    return ans[v]"
      ],
      "metadata": {
        "id": "_ACXUL_0cDPa"
      },
      "execution_count": null,
      "outputs": []
    },
    {
      "cell_type": "code",
      "source": [
        "DFS(20)"
      ],
      "metadata": {
        "colab": {
          "base_uri": "https://localhost:8080/"
        },
        "id": "LhBhYrLLeFf6",
        "outputId": "18d2f7cb-8ea3-4222-eda4-39c41f2540a7"
      },
      "execution_count": null,
      "outputs": [
        {
          "output_type": "execute_result",
          "data": {
            "text/plain": [
              "41"
            ]
          },
          "metadata": {},
          "execution_count": 13
        }
      ]
    },
    {
      "cell_type": "code",
      "source": [],
      "metadata": {
        "id": "KhE9LKwteJxK"
      },
      "execution_count": null,
      "outputs": []
    },
    {
      "cell_type": "code",
      "source": [],
      "metadata": {
        "id": "O6gNO2h1_nWN"
      },
      "execution_count": null,
      "outputs": []
    },
    {
      "cell_type": "code",
      "source": [
        "a = [[10,5],[25,12],[15,8],[6,3],[7,4]]\n",
        "n = len(a)\n",
        "t = 20\n",
        "ans = [0]*(t+1)\n",
        "\n",
        "for i in a:\n",
        "  for j in range(t,i[1]-1,-1):\n",
        "    ans[j] = max(ans[j-i[1]]+i[0],ans[j])"
      ],
      "metadata": {
        "id": "E8_xnHbnkyfg"
      },
      "execution_count": null,
      "outputs": []
    },
    {
      "cell_type": "code",
      "source": [
        "ans"
      ],
      "metadata": {
        "id": "mFate9xFkyim",
        "colab": {
          "base_uri": "https://localhost:8080/"
        },
        "outputId": "2f78964d-0552-41fe-db40-eb56b7a9f54e"
      },
      "execution_count": null,
      "outputs": [
        {
          "output_type": "execute_result",
          "data": {
            "text/plain": [
              "[0, 0, 0, 6, 7, 10, 10, 13, 16, 17, 17, 21, 25, 25, 25, 31, 32, 35, 35, 38, 41]"
            ]
          },
          "metadata": {},
          "execution_count": 5
        }
      ]
    },
    {
      "cell_type": "code",
      "source": [],
      "metadata": {
        "id": "4piGzZ9kkyl_"
      },
      "execution_count": null,
      "outputs": []
    },
    {
      "cell_type": "code",
      "source": [],
      "metadata": {
        "id": "YvLGsv_uE9lo"
      },
      "execution_count": null,
      "outputs": []
    },
    {
      "cell_type": "markdown",
      "source": [
        "# 플로이드-와샬"
      ],
      "metadata": {
        "id": "Po30RLSlE-RW"
      }
    },
    {
      "cell_type": "markdown",
      "source": [
        "## 그래프 최단거리"
      ],
      "metadata": {
        "id": "m5_xoGoLMsDv"
      }
    },
    {
      "cell_type": "markdown",
      "source": [
        "### 플로이드-와샬을 사용하지 않은 솔루션 (DFS 활용)"
      ],
      "metadata": {
        "id": "wQZ4LwQSMmk2"
      }
    },
    {
      "cell_type": "code",
      "source": [
        "M = 2147000000\n",
        "a = [[0,6,3,M,M],[M,0,M,1,13],[M,2,0,5,M],[M,3,M,0,7],[M,M,M,M,0]]\n",
        "ans = [[M]*5 for _ in range(5)]"
      ],
      "metadata": {
        "id": "gbnniEpHFBwt"
      },
      "execution_count": 49,
      "outputs": []
    },
    {
      "cell_type": "code",
      "source": [
        "ch = [0]*5\n",
        "def DFS (start,end,now,dis):\n",
        "  ch[now]=1\n",
        "  if now == end:\n",
        "    if dis < ans[start][end]:\n",
        "      ans[start][end] = dis\n",
        "  else:\n",
        "    for i in range(5):\n",
        "      if ch[i]==0 and a[now][i]+dis < ans[start][end]:\n",
        "        DFS(start,end,i,dis+a[now][i])\n",
        "  ch[now]=0"
      ],
      "metadata": {
        "id": "WhqLWlxJFQLI"
      },
      "execution_count": 50,
      "outputs": []
    },
    {
      "cell_type": "code",
      "source": [
        "for i in range(5):\n",
        "  for j in range(5):\n",
        "    ch = [0]*5\n",
        "    DFS(i,j,i,0)\n",
        "\n",
        "for i in range(5):\n",
        "  for j in range(5):\n",
        "    if ans[i][j] == M:\n",
        "      ans[i][j] = 'M'\n",
        "\n",
        "ans"
      ],
      "metadata": {
        "colab": {
          "base_uri": "https://localhost:8080/"
        },
        "id": "9ZaQ68onJmxL",
        "outputId": "5332e785-2457-430f-96e9-2370b846aa0d"
      },
      "execution_count": 52,
      "outputs": [
        {
          "output_type": "execute_result",
          "data": {
            "text/plain": [
              "[[0, 5, 3, 6, 13],\n",
              " ['M', 0, 'M', 1, 8],\n",
              " ['M', 2, 0, 3, 10],\n",
              " ['M', 3, 'M', 0, 7],\n",
              " ['M', 'M', 'M', 'M', 0]]"
            ]
          },
          "metadata": {},
          "execution_count": 52
        }
      ]
    },
    {
      "cell_type": "code",
      "source": [],
      "metadata": {
        "id": "kr_a3cw0MGrH"
      },
      "execution_count": null,
      "outputs": []
    },
    {
      "cell_type": "markdown",
      "source": [
        "### 플로이드-와샬 사용 (3중 for문)"
      ],
      "metadata": {
        "id": "FidLQUadi8G0"
      }
    },
    {
      "cell_type": "code",
      "source": [
        "M = 2147000000\n",
        "a = [[0,6,3,M,M],[M,0,M,1,13],[M,2,0,5,M],[M,3,M,0,7],[M,M,M,M,0]]\n",
        "for k in range(4,-1,-1):\n",
        "  for i in range(5):\n",
        "    for j in range(5):\n",
        "      a[i][j] = min(a[i][j],a[i][k]+a[k][j])\n",
        "a"
      ],
      "metadata": {
        "colab": {
          "base_uri": "https://localhost:8080/"
        },
        "id": "zkMmNG5tfMKX",
        "outputId": "85a16a0e-4f88-45cd-a6e3-7ca7b049fd97"
      },
      "execution_count": 1,
      "outputs": [
        {
          "output_type": "execute_result",
          "data": {
            "text/plain": [
              "[[0, 5, 3, 6, 13],\n",
              " [2147000000, 0, 2147000000, 1, 8],\n",
              " [2147000000, 2, 0, 3, 10],\n",
              " [2147000000, 3, 2147000000, 0, 7],\n",
              " [2147000000, 2147000000, 2147000000, 2147000000, 0]]"
            ]
          },
          "metadata": {},
          "execution_count": 1
        }
      ]
    },
    {
      "cell_type": "code",
      "source": [],
      "metadata": {
        "id": "qNlXhayBUrrJ"
      },
      "execution_count": null,
      "outputs": []
    },
    {
      "cell_type": "code",
      "source": [],
      "metadata": {
        "id": "0VmL5xHAgodg"
      },
      "execution_count": null,
      "outputs": []
    },
    {
      "cell_type": "code",
      "source": [
        "a=[[5]*5 for _ in range(5)]\n",
        "l = [[1,2],[2,3],[3,4],[4,5],[2,4],[5,3]]\n",
        "\n",
        "for i in l:\n",
        "  a[i[0]-1][i[1]-1] = 1\n",
        "  a[i[1]-1][i[0]-1] = 1\n",
        "\n",
        "a"
      ],
      "metadata": {
        "colab": {
          "base_uri": "https://localhost:8080/"
        },
        "id": "cFHh6b8fUsaa",
        "outputId": "ed2a1fa3-7752-47d0-b42c-a614bb10099a"
      },
      "execution_count": 10,
      "outputs": [
        {
          "output_type": "execute_result",
          "data": {
            "text/plain": [
              "[[5, 1, 5, 5, 5],\n",
              " [1, 5, 1, 1, 5],\n",
              " [5, 1, 5, 1, 1],\n",
              " [5, 1, 1, 5, 1],\n",
              " [5, 5, 1, 1, 5]]"
            ]
          },
          "metadata": {},
          "execution_count": 10
        }
      ]
    },
    {
      "cell_type": "code",
      "source": [
        "for k in range(5):\n",
        "  for i in range(5):\n",
        "    for j in range(5):\n",
        "      a[i][j]=min(a[i][j],a[i][k]+a[k][j])\n"
      ],
      "metadata": {
        "id": "MR2JmDpdVW05"
      },
      "execution_count": 11,
      "outputs": []
    },
    {
      "cell_type": "code",
      "source": [
        "a"
      ],
      "metadata": {
        "colab": {
          "base_uri": "https://localhost:8080/"
        },
        "id": "gjJOCR5SVW4i",
        "outputId": "2b54c228-7984-45d1-b851-2c44c641a207"
      },
      "execution_count": 12,
      "outputs": [
        {
          "output_type": "execute_result",
          "data": {
            "text/plain": [
              "[[2, 1, 2, 2, 3],\n",
              " [1, 2, 1, 1, 2],\n",
              " [2, 1, 2, 1, 1],\n",
              " [2, 1, 1, 2, 1],\n",
              " [3, 2, 1, 1, 2]]"
            ]
          },
          "metadata": {},
          "execution_count": 12
        }
      ]
    },
    {
      "cell_type": "code",
      "source": [
        "m=[]\n",
        "for i in range(5):\n",
        "  m.append(max(a[i]))\n",
        "mn = min(m)\n",
        "ans = []\n",
        "for i in range(5):\n",
        "  if max(a[i]) == mn:\n",
        "    ans.append(i+1)\n",
        "ans"
      ],
      "metadata": {
        "colab": {
          "base_uri": "https://localhost:8080/"
        },
        "id": "ET8PcVU3XmRF",
        "outputId": "8376b27c-50a2-413d-a948-3fc8db733f69"
      },
      "execution_count": 17,
      "outputs": [
        {
          "output_type": "execute_result",
          "data": {
            "text/plain": [
              "[2, 3, 4]"
            ]
          },
          "metadata": {},
          "execution_count": 17
        }
      ]
    },
    {
      "cell_type": "code",
      "source": [],
      "metadata": {
        "id": "SSupRd5T4OCS"
      },
      "execution_count": null,
      "outputs": []
    },
    {
      "cell_type": "code",
      "source": [],
      "metadata": {
        "id": "UT1Iu5lB4OHi"
      },
      "execution_count": null,
      "outputs": []
    },
    {
      "cell_type": "markdown",
      "source": [
        "## 위상정렬"
      ],
      "metadata": {
        "id": "72hRYeU74P9m"
      }
    },
    {
      "cell_type": "code",
      "source": [
        "a= [[1,4],[5,4],[4,3],[2,5],[2,3],[6,2]]\n",
        "graph = [[0]*6 for _ in range(6)]\n",
        "con = [0]*6\n",
        "for i in a:\n",
        "  graph[i[0]-1][i[1]-1] = 1\n",
        "  con[i[1]-1]+=1\n",
        "\n",
        "ans = []\n",
        "ch = [0]*6\n",
        "cnt=0\n",
        "def DFS(v):\n",
        "  global ch\n",
        "  global a\n",
        "  global cnt\n",
        "  if v == 6:\n",
        "    print([k for k in ans])\n",
        "    cnt+=1\n",
        "  else:\n",
        "    for i in range(6):\n",
        "      if ch[i] == 0 and con[i] == 0:\n",
        "        ch[i] = 1\n",
        "        ans.append(i+1)\n",
        "        for j in a:\n",
        "          if j[0] == i+1:\n",
        "            con[j[1]-1]-=1\n",
        "        DFS(v+1)\n",
        "        ch[i] = 0\n",
        "        ans.pop()\n",
        "        for j in a:\n",
        "          if j[0] == i+1:\n",
        "            con[j[1]-1]+=1\n",
        "\n",
        ""
      ],
      "metadata": {
        "id": "SEpKYlugoY5z"
      },
      "execution_count": 17,
      "outputs": []
    },
    {
      "cell_type": "code",
      "source": [
        "DFS(0)\n",
        "print(cnt)"
      ],
      "metadata": {
        "colab": {
          "base_uri": "https://localhost:8080/"
        },
        "id": "xDSa8nNx076N",
        "outputId": "35bbcd66-902c-42a6-de4f-36c8b759f3be"
      },
      "execution_count": 18,
      "outputs": [
        {
          "output_type": "stream",
          "name": "stdout",
          "text": [
            "[1, 6, 2, 5, 4, 3]\n",
            "[6, 1, 2, 5, 4, 3]\n",
            "[6, 2, 1, 5, 4, 3]\n",
            "[6, 2, 5, 1, 4, 3]\n",
            "4\n"
          ]
        }
      ]
    },
    {
      "cell_type": "code",
      "source": [],
      "metadata": {
        "id": "Sa9HV1Ud4HiM"
      },
      "execution_count": null,
      "outputs": []
    }
  ]
}