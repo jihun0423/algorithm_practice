from logging import NullHandler
class Node:
  def __init__(self,data):
    self.data = data
    self.next = None

  def __str__(self):
    return str(self.data)

class Linked_list:
  def __init__(self,data):
    self.head = Node(data)
    self.list_size = 1
  
  def __str__(self):
    res = '['
    node = self.head
    res += str(node)

    while node.next != None:
      node = node.next
      res += ', '
      res += str(node)


    res += ']'
    return res
  
  def insert_first(self,data):
    new_node = Node(data)
    new_node.next = self.head
    self.head = new_node
    self.list_size += 1

  def select_node(self,index):
    if self.list_size <= index:
      print('Overflow')
      return 
    
    cnt = 0
    node = self.head

    while cnt < index:
      node = node.next
      cnt += 1
    
    return node
  
  def insert_middle(self,index,data):
    node = self.select_node(index)
    
    if node:
      new_node = Node(data)
      new_node.next = node.next
      node.next = new_node
      self.list_size += 1
    else:
      print('''Can't insert here''')
      return
