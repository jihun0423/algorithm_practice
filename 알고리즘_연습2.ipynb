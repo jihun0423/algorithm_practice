{
  "nbformat": 4,
  "nbformat_minor": 0,
  "metadata": {
    "colab": {
      "provenance": [],
      "authorship_tag": "ABX9TyMR726uPkcBMMaZ1Q37MwH0",
      "include_colab_link": true
    },
    "kernelspec": {
      "name": "python3",
      "display_name": "Python 3"
    },
    "language_info": {
      "name": "python"
    }
  },
  "cells": [
    {
      "cell_type": "markdown",
      "metadata": {
        "id": "view-in-github",
        "colab_type": "text"
      },
      "source": [
        "<a href=\"https://colab.research.google.com/github/jihun0423/algorithm_practice/blob/main/%EC%95%8C%EA%B3%A0%EB%A6%AC%EC%A6%98_%EC%97%B0%EC%8A%B52.ipynb\" target=\"_parent\"><img src=\"https://colab.research.google.com/assets/colab-badge.svg\" alt=\"Open In Colab\"/></a>"
      ]
    },
    {
      "cell_type": "markdown",
      "source": [
        "# 스택"
      ],
      "metadata": {
        "id": "tYVhq04eGcMh"
      }
    },
    {
      "cell_type": "markdown",
      "source": [
        "### 가장 큰 수"
      ],
      "metadata": {
        "id": "w-oPIE4xGefF"
      }
    },
    {
      "cell_type": "markdown",
      "source": [
        "#### Sol 1"
      ],
      "metadata": {
        "id": "wRue0-ewGjCC"
      }
    },
    {
      "cell_type": "code",
      "execution_count": 67,
      "metadata": {
        "id": "rw3MGnBBYfFw"
      },
      "outputs": [],
      "source": [
        "a = [5,2,7,6,8,2,3]\n",
        "m=4\n",
        "ans = ''\n",
        "while m > 0:\n",
        "  num = max(a[0:len(a)-(m-1)])\n",
        "  idx = a.index(num)\n",
        "  ans += str(num)\n",
        "  a=a[idx:]\n",
        "  a.remove(num)\n",
        "  m-=1\n",
        ""
      ]
    },
    {
      "cell_type": "code",
      "source": [
        "ans"
      ],
      "metadata": {
        "colab": {
          "base_uri": "https://localhost:8080/",
          "height": 35
        },
        "id": "m5VDrduGZume",
        "outputId": "ceb9e324-c822-416c-abff-8eb8f5b6c67d"
      },
      "execution_count": 68,
      "outputs": [
        {
          "output_type": "execute_result",
          "data": {
            "text/plain": [
              "'7823'"
            ],
            "application/vnd.google.colaboratory.intrinsic+json": {
              "type": "string"
            }
          },
          "metadata": {},
          "execution_count": 68
        }
      ]
    },
    {
      "cell_type": "markdown",
      "source": [
        "#### Sol 2"
      ],
      "metadata": {
        "id": "FR81lIhrGlEr"
      }
    },
    {
      "cell_type": "code",
      "source": [
        "a = [5,2,7,6,8,2,3]\n",
        "m=6\n",
        "\n",
        "stack = []\n",
        "\n",
        "for i in a:\n",
        "  while len(stack)>0 and m>0 and i>stack[-1]:\n",
        "    stack.pop()\n",
        "    m-=1\n",
        "  stack.append(i)\n",
        "\n",
        "if m!=0:\n",
        "  stack = stack[:-m]"
      ],
      "metadata": {
        "id": "BnlzdSHidXNM"
      },
      "execution_count": 76,
      "outputs": []
    },
    {
      "cell_type": "code",
      "source": [
        "stack"
      ],
      "metadata": {
        "colab": {
          "base_uri": "https://localhost:8080/"
        },
        "id": "55rd0zrvgWJb",
        "outputId": "c5999414-c002-4a61-ec97-536ebbc6ee33"
      },
      "execution_count": 77,
      "outputs": [
        {
          "output_type": "execute_result",
          "data": {
            "text/plain": [
              "[8]"
            ]
          },
          "metadata": {},
          "execution_count": 77
        }
      ]
    },
    {
      "cell_type": "code",
      "source": [],
      "metadata": {
        "id": "nBv2JaxXgYru"
      },
      "execution_count": null,
      "outputs": []
    },
    {
      "cell_type": "code",
      "source": [],
      "metadata": {
        "id": "tsy7k9ILJ9dt"
      },
      "execution_count": null,
      "outputs": []
    },
    {
      "cell_type": "markdown",
      "source": [
        "## 스택 구현 클래스"
      ],
      "metadata": {
        "id": "CNOzLASpKw9k"
      }
    },
    {
      "cell_type": "code",
      "source": [
        "class ArrayStack:\n",
        "\n",
        "    def __init__(self):\n",
        "        self.data = []\n",
        "\n",
        "    def size(self):\n",
        "        return len(self.data)\n",
        "\n",
        "    def isEmpty(self):\n",
        "        return self.size() == 0\n",
        "\n",
        "    def push(self, item):\n",
        "        self.data.append(item)\n",
        "\n",
        "    def pop(self):\n",
        "        return self.data.pop()\n",
        "\n",
        "    def peek(self):\n",
        "        return self.data[-1]"
      ],
      "metadata": {
        "id": "rPn5i8kiJ9gn"
      },
      "execution_count": 149,
      "outputs": []
    },
    {
      "cell_type": "code",
      "source": [
        "stack = ArrayStack()\n",
        "stack.push(1)\n",
        "stack.data"
      ],
      "metadata": {
        "colab": {
          "base_uri": "https://localhost:8080/"
        },
        "id": "HlIKtVK5J_N8",
        "outputId": "ca034ccb-17c7-475c-d0a7-0c989f2c33cb"
      },
      "execution_count": 162,
      "outputs": [
        {
          "output_type": "execute_result",
          "data": {
            "text/plain": [
              "[1]"
            ]
          },
          "metadata": {},
          "execution_count": 162
        }
      ]
    },
    {
      "cell_type": "markdown",
      "source": [
        "### 레이저"
      ],
      "metadata": {
        "id": "aqVZaSTUGaJG"
      }
    },
    {
      "cell_type": "markdown",
      "source": [
        "#### Sol 1"
      ],
      "metadata": {
        "id": "e-9CsBqGGuOA"
      }
    },
    {
      "cell_type": "code",
      "source": [
        "laser = []\n",
        "bar_start = []\n",
        "bar = []\n",
        "for i,x in enumerate(a):\n",
        "  if x == '(' and a[i+1] == ')':\n",
        "    laser.append(i+0.5)\n",
        "  elif x == '(':\n",
        "    bar_start.append(i)\n",
        "  elif x == ')' and a[i-1] != '(':\n",
        "    bar.append((bar_start.pop(),i))\n",
        "print(laser)\n",
        "print(bar)\n",
        "\n",
        "cnt = len(bar)\n",
        "\n",
        "for i in bar:\n",
        "  for j in laser:\n",
        "    if j>i[0] and j<i[1]:\n",
        "      cnt+=1\n",
        "\n",
        "print(cnt)"
      ],
      "metadata": {
        "colab": {
          "base_uri": "https://localhost:8080/"
        },
        "id": "8YkI_ODOiQDl",
        "outputId": "40c41309-aeaf-44fa-8fc2-cf88a1fa8960"
      },
      "execution_count": 101,
      "outputs": [
        {
          "output_type": "stream",
          "name": "stdout",
          "text": [
            "[0.5, 5.5, 7.5, 11.5, 14.5, 19.5]\n",
            "[(4, 9), (10, 13), (3, 16), (2, 17), (18, 21)]\n",
            "17\n"
          ]
        }
      ]
    },
    {
      "cell_type": "code",
      "source": [],
      "metadata": {
        "id": "pSf_FdHhGX0O"
      },
      "execution_count": null,
      "outputs": []
    },
    {
      "cell_type": "code",
      "source": [],
      "metadata": {
        "id": "Kh767ocL9Ae5"
      },
      "execution_count": null,
      "outputs": []
    },
    {
      "cell_type": "code",
      "source": [
        "a='((3+5*2)*2)-3'\n",
        "\n",
        "stack = []\n",
        "ans = ''\n",
        "for i in a:\n",
        "  if i.isdecimal():\n",
        "    ans+=i\n",
        "  elif i == '+' or i == '-':\n",
        "    while stack and stack[-1] != '(':\n",
        "      ans += stack.pop()\n",
        "    stack.append(i)\n",
        "  elif i == '*' or i == '/':\n",
        "    while stack and (stack[-1] == '*' or stack[-1] == '/'):\n",
        "      ans += stack.pop()\n",
        "    stack.append(i)\n",
        "  elif i == '(':\n",
        "    stack.append('(')\n",
        "  elif i == ')':\n",
        "    while stack[-1] != '(':\n",
        "      ans += stack.pop()\n",
        "    stack.pop()\n",
        "\n",
        "while stack:\n",
        "  ans += stack.pop()"
      ],
      "metadata": {
        "id": "kdrV7v8Y9Ahv"
      },
      "execution_count": 143,
      "outputs": []
    },
    {
      "cell_type": "code",
      "source": [
        "ans"
      ],
      "metadata": {
        "colab": {
          "base_uri": "https://localhost:8080/",
          "height": 35
        },
        "id": "siJGMYLjwC27",
        "outputId": "a0847f80-4c08-49b1-8eea-af16365b6f2c"
      },
      "execution_count": 145,
      "outputs": [
        {
          "output_type": "execute_result",
          "data": {
            "text/plain": [
              "'352*+2*3-'"
            ],
            "application/vnd.google.colaboratory.intrinsic+json": {
              "type": "string"
            }
          },
          "metadata": {},
          "execution_count": 145
        }
      ]
    },
    {
      "cell_type": "code",
      "source": [],
      "metadata": {
        "id": "1gWF7AvQwC8U"
      },
      "execution_count": null,
      "outputs": []
    },
    {
      "cell_type": "code",
      "source": [
        "stack = []\n",
        "a='352*+2*3-'\n",
        "\n",
        "for i in a:\n",
        "  if i.isdecimal():\n",
        "    stack.append(i)\n",
        "  else:\n",
        "    num1 = int(stack.pop())\n",
        "    num2 = int(stack.pop())\n",
        "    if i == '-':\n",
        "      stack.append((num2-num1))\n",
        "    elif i == '+':\n",
        "      stack.append((num2+num1))\n",
        "    elif i == '*':\n",
        "      stack.append((num2*num1))\n",
        "    elif i == '/':\n",
        "      stack.append((num2/num1))\n",
        "\n",
        "\n",
        "\n"
      ],
      "metadata": {
        "id": "aWlhZuhbC5Af"
      },
      "execution_count": 146,
      "outputs": []
    },
    {
      "cell_type": "code",
      "source": [
        "stack[0]"
      ],
      "metadata": {
        "colab": {
          "base_uri": "https://localhost:8080/"
        },
        "id": "-vI5zfWF-lei",
        "outputId": "47a93b0f-2ea1-4727-effb-6ae5a3b75f55"
      },
      "execution_count": 148,
      "outputs": [
        {
          "output_type": "execute_result",
          "data": {
            "text/plain": [
              "23"
            ]
          },
          "metadata": {},
          "execution_count": 148
        }
      ]
    },
    {
      "cell_type": "code",
      "source": [],
      "metadata": {
        "id": "1A4Y-OHu-lhV"
      },
      "execution_count": null,
      "outputs": []
    },
    {
      "cell_type": "code",
      "source": [
        "loc = [0,0]\n",
        "dx = [1,0,-1,0]\n",
        "dy = [0,1,0,-1]\n",
        "d = 0\n",
        "\n",
        "a = 'GGRGGGGGLG'\n",
        "for i in a:\n",
        "  if i == 'G':\n",
        "    loc=[loc[0]+dx[d],loc[1]+dy[d]]\n",
        "  elif i =='R':\n",
        "    d = (d+1)%4\n",
        "  elif i == 'L':\n",
        "    d = (d-1)%4\n",
        "  if loc[0] < 0 or loc[0] > 5 or loc[1] < 0 or loc[1] > 5:\n",
        "    print('Robot out of range')\n",
        "    break\n",
        "  print(f'current location : {loc}, direction {d}')"
      ],
      "metadata": {
        "colab": {
          "base_uri": "https://localhost:8080/"
        },
        "id": "5iFWBIDfnKSc",
        "outputId": "482cf03e-87f2-49fc-b455-a17f76bb630e"
      },
      "execution_count": 118,
      "outputs": [
        {
          "output_type": "stream",
          "name": "stdout",
          "text": [
            "current location : [1, 0], direction 0\n",
            "current location : [2, 0], direction 0\n",
            "current location : [2, 0], direction 1\n",
            "current location : [2, 1], direction 1\n",
            "current location : [2, 2], direction 1\n",
            "current location : [2, 3], direction 1\n",
            "current location : [2, 4], direction 1\n",
            "current location : [2, 5], direction 1\n",
            "current location : [2, 5], direction 0\n",
            "current location : [3, 5], direction 0\n"
          ]
        }
      ]
    },
    {
      "cell_type": "code",
      "source": [],
      "metadata": {
        "id": "922IYc1nopTi"
      },
      "execution_count": null,
      "outputs": []
    }
  ]
}