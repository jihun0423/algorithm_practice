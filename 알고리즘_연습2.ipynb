{
  "nbformat": 4,
  "nbformat_minor": 0,
  "metadata": {
    "colab": {
      "provenance": [],
      "toc_visible": true,
      "authorship_tag": "ABX9TyO01HjhAb2IgwT/mkkaAfDm",
      "include_colab_link": true
    },
    "kernelspec": {
      "name": "python3",
      "display_name": "Python 3"
    },
    "language_info": {
      "name": "python"
    }
  },
  "cells": [
    {
      "cell_type": "markdown",
      "metadata": {
        "id": "view-in-github",
        "colab_type": "text"
      },
      "source": [
        "<a href=\"https://colab.research.google.com/github/jihun0423/algorithm_practice/blob/main/%EC%95%8C%EA%B3%A0%EB%A6%AC%EC%A6%98_%EC%97%B0%EC%8A%B52.ipynb\" target=\"_parent\"><img src=\"https://colab.research.google.com/assets/colab-badge.svg\" alt=\"Open In Colab\"/></a>"
      ]
    },
    {
      "cell_type": "markdown",
      "source": [
        "# 스택"
      ],
      "metadata": {
        "id": "tYVhq04eGcMh"
      }
    },
    {
      "cell_type": "code",
      "source": [],
      "metadata": {
        "id": "vp4BWEDXRgNT"
      },
      "execution_count": null,
      "outputs": []
    },
    {
      "cell_type": "markdown",
      "source": [
        "### 가장 큰 수"
      ],
      "metadata": {
        "id": "w-oPIE4xGefF"
      }
    },
    {
      "cell_type": "markdown",
      "source": [
        "#### Sol 1"
      ],
      "metadata": {
        "id": "wRue0-ewGjCC"
      }
    },
    {
      "cell_type": "code",
      "execution_count": null,
      "metadata": {
        "id": "rw3MGnBBYfFw"
      },
      "outputs": [],
      "source": [
        "a = [5,2,7,6,8,2,3]\n",
        "m=4\n",
        "ans = ''\n",
        "while m > 0:\n",
        "  num = max(a[0:len(a)-(m-1)])\n",
        "  idx = a.index(num)\n",
        "  ans += str(num)\n",
        "  a=a[idx:]\n",
        "  a.remove(num)\n",
        "  m-=1\n"
      ]
    },
    {
      "cell_type": "code",
      "source": [
        "ans"
      ],
      "metadata": {
        "colab": {
          "base_uri": "https://localhost:8080/",
          "height": 35
        },
        "id": "m5VDrduGZume",
        "outputId": "ceb9e324-c822-416c-abff-8eb8f5b6c67d"
      },
      "execution_count": null,
      "outputs": [
        {
          "output_type": "execute_result",
          "data": {
            "text/plain": [
              "'7823'"
            ],
            "application/vnd.google.colaboratory.intrinsic+json": {
              "type": "string"
            }
          },
          "metadata": {},
          "execution_count": 68
        }
      ]
    },
    {
      "cell_type": "markdown",
      "source": [
        "#### Sol 2"
      ],
      "metadata": {
        "id": "FR81lIhrGlEr"
      }
    },
    {
      "cell_type": "code",
      "source": [
        "a = [5,2,7,6,8,2,3]\n",
        "m=6\n",
        "\n",
        "stack = []\n",
        "\n",
        "for i in a:\n",
        "  while len(stack)>0 and m>0 and i>stack[-1]:\n",
        "    stack.pop()\n",
        "    m-=1\n",
        "  stack.append(i)\n",
        "\n",
        "if m!=0:\n",
        "  stack = stack[:-m]"
      ],
      "metadata": {
        "id": "BnlzdSHidXNM"
      },
      "execution_count": null,
      "outputs": []
    },
    {
      "cell_type": "code",
      "source": [
        "stack"
      ],
      "metadata": {
        "colab": {
          "base_uri": "https://localhost:8080/"
        },
        "id": "55rd0zrvgWJb",
        "outputId": "c5999414-c002-4a61-ec97-536ebbc6ee33"
      },
      "execution_count": null,
      "outputs": [
        {
          "output_type": "execute_result",
          "data": {
            "text/plain": [
              "[8]"
            ]
          },
          "metadata": {},
          "execution_count": 77
        }
      ]
    },
    {
      "cell_type": "code",
      "source": [],
      "metadata": {
        "id": "nBv2JaxXgYru"
      },
      "execution_count": null,
      "outputs": []
    },
    {
      "cell_type": "code",
      "source": [],
      "metadata": {
        "id": "tsy7k9ILJ9dt"
      },
      "execution_count": null,
      "outputs": []
    },
    {
      "cell_type": "markdown",
      "source": [
        "## 스택 구현 클래스"
      ],
      "metadata": {
        "id": "CNOzLASpKw9k"
      }
    },
    {
      "cell_type": "code",
      "source": [
        "class ArrayStack:\n",
        "\n",
        "    def __init__(self):\n",
        "        self.data = []\n",
        "\n",
        "    def size(self):\n",
        "        return len(self.data)\n",
        "\n",
        "    def isEmpty(self):\n",
        "        return self.size() == 0\n",
        "\n",
        "    def push(self, item):\n",
        "        self.data.append(item)\n",
        "\n",
        "    def pop(self):\n",
        "        return self.data.pop()\n",
        "\n",
        "    def peek(self):\n",
        "        return self.data[-1]"
      ],
      "metadata": {
        "id": "rPn5i8kiJ9gn"
      },
      "execution_count": null,
      "outputs": []
    },
    {
      "cell_type": "code",
      "source": [
        "stack = ArrayStack()\n",
        "stack.push(1)\n",
        "stack.data"
      ],
      "metadata": {
        "colab": {
          "base_uri": "https://localhost:8080/"
        },
        "id": "HlIKtVK5J_N8",
        "outputId": "ca034ccb-17c7-475c-d0a7-0c989f2c33cb"
      },
      "execution_count": null,
      "outputs": [
        {
          "output_type": "execute_result",
          "data": {
            "text/plain": [
              "[1]"
            ]
          },
          "metadata": {},
          "execution_count": 162
        }
      ]
    },
    {
      "cell_type": "markdown",
      "source": [
        "### 레이저"
      ],
      "metadata": {
        "id": "aqVZaSTUGaJG"
      }
    },
    {
      "cell_type": "markdown",
      "source": [
        "#### Sol 1"
      ],
      "metadata": {
        "id": "e-9CsBqGGuOA"
      }
    },
    {
      "cell_type": "code",
      "source": [
        "laser = []\n",
        "bar_start = []\n",
        "bar = []\n",
        "for i,x in enumerate(a):\n",
        "  if x == '(' and a[i+1] == ')':\n",
        "    laser.append(i+0.5)\n",
        "  elif x == '(':\n",
        "    bar_start.append(i)\n",
        "  elif x == ')' and a[i-1] != '(':\n",
        "    bar.append((bar_start.pop(),i))\n",
        "print(laser)\n",
        "print(bar)\n",
        "\n",
        "cnt = len(bar)\n",
        "\n",
        "for i in bar:\n",
        "  for j in laser:\n",
        "    if j>i[0] and j<i[1]:\n",
        "      cnt+=1\n",
        "\n",
        "print(cnt)"
      ],
      "metadata": {
        "colab": {
          "base_uri": "https://localhost:8080/"
        },
        "id": "8YkI_ODOiQDl",
        "outputId": "40c41309-aeaf-44fa-8fc2-cf88a1fa8960"
      },
      "execution_count": null,
      "outputs": [
        {
          "output_type": "stream",
          "name": "stdout",
          "text": [
            "[0.5, 5.5, 7.5, 11.5, 14.5, 19.5]\n",
            "[(4, 9), (10, 13), (3, 16), (2, 17), (18, 21)]\n",
            "17\n"
          ]
        }
      ]
    },
    {
      "cell_type": "code",
      "source": [],
      "metadata": {
        "id": "pSf_FdHhGX0O"
      },
      "execution_count": null,
      "outputs": []
    },
    {
      "cell_type": "code",
      "source": [],
      "metadata": {
        "id": "Kh767ocL9Ae5"
      },
      "execution_count": null,
      "outputs": []
    },
    {
      "cell_type": "code",
      "source": [
        "a='((3+5*2)*2)-3'\n",
        "\n",
        "stack = []\n",
        "ans = ''\n",
        "for i in a:\n",
        "  if i.isdecimal():\n",
        "    ans+=i\n",
        "  elif i == '+' or i == '-':\n",
        "    while stack and stack[-1] != '(':\n",
        "      ans += stack.pop()\n",
        "    stack.append(i)\n",
        "  elif i == '*' or i == '/':\n",
        "    while stack and (stack[-1] == '*' or stack[-1] == '/'):\n",
        "      ans += stack.pop()\n",
        "    stack.append(i)\n",
        "  elif i == '(':\n",
        "    stack.append('(')\n",
        "  elif i == ')':\n",
        "    while stack[-1] != '(':\n",
        "      ans += stack.pop()\n",
        "    stack.pop()\n",
        "\n",
        "while stack:\n",
        "  ans += stack.pop()"
      ],
      "metadata": {
        "id": "kdrV7v8Y9Ahv"
      },
      "execution_count": null,
      "outputs": []
    },
    {
      "cell_type": "code",
      "source": [
        "ans"
      ],
      "metadata": {
        "colab": {
          "base_uri": "https://localhost:8080/",
          "height": 35
        },
        "id": "siJGMYLjwC27",
        "outputId": "a0847f80-4c08-49b1-8eea-af16365b6f2c"
      },
      "execution_count": null,
      "outputs": [
        {
          "output_type": "execute_result",
          "data": {
            "text/plain": [
              "'352*+2*3-'"
            ],
            "application/vnd.google.colaboratory.intrinsic+json": {
              "type": "string"
            }
          },
          "metadata": {},
          "execution_count": 145
        }
      ]
    },
    {
      "cell_type": "code",
      "source": [],
      "metadata": {
        "id": "1gWF7AvQwC8U"
      },
      "execution_count": null,
      "outputs": []
    },
    {
      "cell_type": "code",
      "source": [
        "stack = []\n",
        "a='352*+2*3-'\n",
        "\n",
        "for i in a:\n",
        "  if i.isdecimal():\n",
        "    stack.append(i)\n",
        "  else:\n",
        "    num1 = int(stack.pop())\n",
        "    num2 = int(stack.pop())\n",
        "    if i == '-':\n",
        "      stack.append((num2-num1))\n",
        "    elif i == '+':\n",
        "      stack.append((num2+num1))\n",
        "    elif i == '*':\n",
        "      stack.append((num2*num1))\n",
        "    elif i == '/':\n",
        "      stack.append((num2/num1))\n",
        "\n",
        "\n",
        "\n"
      ],
      "metadata": {
        "id": "aWlhZuhbC5Af"
      },
      "execution_count": null,
      "outputs": []
    },
    {
      "cell_type": "code",
      "source": [
        "stack[0]"
      ],
      "metadata": {
        "colab": {
          "base_uri": "https://localhost:8080/"
        },
        "id": "-vI5zfWF-lei",
        "outputId": "47a93b0f-2ea1-4727-effb-6ae5a3b75f55"
      },
      "execution_count": null,
      "outputs": [
        {
          "output_type": "execute_result",
          "data": {
            "text/plain": [
              "23"
            ]
          },
          "metadata": {},
          "execution_count": 148
        }
      ]
    },
    {
      "cell_type": "code",
      "source": [],
      "metadata": {
        "id": "1A4Y-OHu-lhV"
      },
      "execution_count": null,
      "outputs": []
    },
    {
      "cell_type": "code",
      "source": [],
      "metadata": {
        "id": "33S6b6-NuLxh"
      },
      "execution_count": null,
      "outputs": []
    },
    {
      "cell_type": "code",
      "source": [
        "k=3\n",
        "a=[1,2,3,4,5,6,7,8]\n",
        "ans = []\n",
        "while a:\n",
        "  for i in range(1,k):\n",
        "    a.append(a.pop(0))\n",
        "  ans.append(a.pop(0))"
      ],
      "metadata": {
        "id": "4USXgGmauLz0"
      },
      "execution_count": null,
      "outputs": []
    },
    {
      "cell_type": "code",
      "source": [
        "ans"
      ],
      "metadata": {
        "colab": {
          "base_uri": "https://localhost:8080/"
        },
        "id": "yayVuRoWuL1z",
        "outputId": "a93c7a3c-de7e-4cf8-db14-f9e7cdc56f6a"
      },
      "execution_count": null,
      "outputs": [
        {
          "output_type": "execute_result",
          "data": {
            "text/plain": [
              "[3, 6, 1, 5, 2, 8, 4, 7]"
            ]
          },
          "metadata": {},
          "execution_count": 2
        }
      ]
    },
    {
      "cell_type": "code",
      "source": [],
      "metadata": {
        "id": "6UZrbAY66i0P"
      },
      "execution_count": null,
      "outputs": []
    },
    {
      "cell_type": "code",
      "source": [
        "a = [60,60,90,60,60,60]\n",
        "l = [[a,i] for i,a in enumerate(a)]\n",
        "m=0\n",
        "x=l[0]\n",
        "n=len(a)\n",
        "ans=[]\n",
        "\n",
        "while l:\n",
        "  next = l.pop(0)\n",
        "  if any(next[0] < i[0] for i in l):\n",
        "    l.append(next)\n",
        "  else:\n",
        "    ans.append(next)"
      ],
      "metadata": {
        "id": "Xdru4I3e6i2X"
      },
      "execution_count": null,
      "outputs": []
    },
    {
      "cell_type": "code",
      "source": [
        "ans.index(x)+1"
      ],
      "metadata": {
        "colab": {
          "base_uri": "https://localhost:8080/"
        },
        "id": "X0QoUxniuL5N",
        "outputId": "5b491345-f6fa-4770-a03a-8c51668bd97b"
      },
      "execution_count": null,
      "outputs": [
        {
          "output_type": "execute_result",
          "data": {
            "text/plain": [
              "5"
            ]
          },
          "metadata": {},
          "execution_count": 18
        }
      ]
    },
    {
      "cell_type": "code",
      "source": [],
      "metadata": {
        "id": "HC6N_clag1Ex"
      },
      "execution_count": null,
      "outputs": []
    },
    {
      "cell_type": "code",
      "source": [],
      "metadata": {
        "id": "0bz33Xlmhkel"
      },
      "execution_count": null,
      "outputs": []
    },
    {
      "cell_type": "code",
      "source": [
        "a='ABsBaaAsBcg'\n",
        "b='BsB'\n",
        "d=dict()\n",
        "for i in a:\n",
        "  d[i] = 0\n",
        "\n",
        "for i in a:\n",
        "  d[i]+=1\n",
        "for i in b:\n",
        "  d[i]-=1"
      ],
      "metadata": {
        "id": "xJmzicYNg1Ix"
      },
      "execution_count": null,
      "outputs": []
    },
    {
      "cell_type": "code",
      "source": [
        "d"
      ],
      "metadata": {
        "colab": {
          "base_uri": "https://localhost:8080/"
        },
        "id": "GgGuliiHg1MV",
        "outputId": "27986c4f-191d-4a9b-f12a-720d33ba8132"
      },
      "execution_count": null,
      "outputs": [
        {
          "output_type": "execute_result",
          "data": {
            "text/plain": [
              "{'A': 2, 'B': 1, 's': 1, 'a': 2, 'c': 1, 'g': 1}"
            ]
          },
          "metadata": {},
          "execution_count": 2
        }
      ]
    },
    {
      "cell_type": "code",
      "source": [],
      "metadata": {
        "id": "KAktCz_h9AhL"
      },
      "execution_count": null,
      "outputs": []
    },
    {
      "cell_type": "code",
      "source": [],
      "metadata": {
        "id": "DXGK2WANmorM"
      },
      "execution_count": null,
      "outputs": []
    },
    {
      "cell_type": "code",
      "source": [],
      "metadata": {
        "id": "gDDhbdwFmouA"
      },
      "execution_count": null,
      "outputs": []
    },
    {
      "cell_type": "markdown",
      "source": [
        "# DFS"
      ],
      "metadata": {
        "id": "gOoteLDvmpGT"
      }
    },
    {
      "cell_type": "markdown",
      "source": [
        "## 부분집합"
      ],
      "metadata": {
        "id": "BASGNO-ymxQQ"
      }
    },
    {
      "cell_type": "code",
      "source": [
        "a=['A','B','C']\n",
        "ans = []"
      ],
      "metadata": {
        "id": "mliuslm3IMUH"
      },
      "execution_count": null,
      "outputs": []
    },
    {
      "cell_type": "code",
      "source": [
        "def DFS(v):\n",
        "  if v == len(a):\n",
        "    print(' '.join(ans))\n",
        "  else:\n",
        "    ans.append(a[v])\n",
        "    DFS(v+1)\n",
        "    ans.remove(a[v])\n",
        "    DFS(v+1)\n"
      ],
      "metadata": {
        "id": "mX_9wL5UIMWX"
      },
      "execution_count": null,
      "outputs": []
    },
    {
      "cell_type": "code",
      "source": [
        "DFS(0)"
      ],
      "metadata": {
        "colab": {
          "base_uri": "https://localhost:8080/"
        },
        "id": "I9FIznkOIMYq",
        "outputId": "a129e4fb-9ec5-4474-9e5c-b1641122f0e1"
      },
      "execution_count": null,
      "outputs": [
        {
          "output_type": "stream",
          "name": "stdout",
          "text": [
            "A B C\n",
            "A B\n",
            "A C\n",
            "A\n",
            "B C\n",
            "B\n",
            "C\n",
            "\n"
          ]
        }
      ]
    },
    {
      "cell_type": "code",
      "source": [],
      "metadata": {
        "id": "tiXq5KAWIMba"
      },
      "execution_count": null,
      "outputs": []
    },
    {
      "cell_type": "markdown",
      "source": [
        "## 부분집합끼리의 합"
      ],
      "metadata": {
        "id": "Eb0sfw_em2Ij"
      }
    },
    {
      "cell_type": "code",
      "source": [
        "a=[1,3,5,8,9,10]\n",
        "tmp = [0] * (len(a))"
      ],
      "metadata": {
        "id": "Ah3JaoiEKYxz"
      },
      "execution_count": null,
      "outputs": []
    },
    {
      "cell_type": "code",
      "source": [
        "def DFS(v):\n",
        "  if v == len(a):\n",
        "    l_0 = []\n",
        "    l_1 = []\n",
        "    for i in [i for i, value in enumerate(tmp) if value == 0]:\n",
        "      l_0.append(a[i])\n",
        "    for i in [i for i, value in enumerate(tmp) if value == 1]:\n",
        "      l_1.append(a[i])\n",
        "    if sum(l_0) == sum(l_1):\n",
        "      print(l_0,' =  ',l_1)\n",
        "      print()\n",
        "\n",
        "\n",
        "  else:\n",
        "    tmp[v]=1\n",
        "    DFS(v+1)\n",
        "    tmp[v]=0\n",
        "    DFS(v+1)\n"
      ],
      "metadata": {
        "id": "O2Q3Kb3AIMdZ"
      },
      "execution_count": null,
      "outputs": []
    },
    {
      "cell_type": "code",
      "source": [
        "DFS(0)"
      ],
      "metadata": {
        "colab": {
          "base_uri": "https://localhost:8080/"
        },
        "id": "HFYe4s5oKKOO",
        "outputId": "7273986a-7e1a-4bec-f671-7d1f8b5dc181"
      },
      "execution_count": null,
      "outputs": [
        {
          "output_type": "stream",
          "name": "stdout",
          "text": [
            "[8, 10]  =   [1, 3, 5, 9]\n",
            "\n",
            "[3, 5, 10]  =   [1, 8, 9]\n",
            "\n",
            "[1, 8, 9]  =   [3, 5, 10]\n",
            "\n",
            "[1, 3, 5, 9]  =   [8, 10]\n",
            "\n"
          ]
        }
      ]
    },
    {
      "cell_type": "code",
      "source": [],
      "metadata": {
        "id": "j1lgRUnTIMfv"
      },
      "execution_count": null,
      "outputs": []
    },
    {
      "cell_type": "markdown",
      "source": [
        "## 순열"
      ],
      "metadata": {
        "id": "9VYyD-10m-wz"
      }
    },
    {
      "cell_type": "code",
      "source": [
        "a=['A','B','C','D']\n",
        "m=3\n",
        "ans = [0] * m\n",
        "def DFS(v):\n",
        "  if v == m:\n",
        "    print(ans)\n",
        "\n",
        "  else :\n",
        "    for i in range(0,len(a)):\n",
        "      if a[i] not in ans:\n",
        "        ans[v] = a[i]\n",
        "        DFS(v+1)\n",
        "        ans[v] = 0\n"
      ],
      "metadata": {
        "id": "n91VDVnIVFYA"
      },
      "execution_count": null,
      "outputs": []
    },
    {
      "cell_type": "code",
      "source": [
        "DFS(0)"
      ],
      "metadata": {
        "id": "aIVV9YwIpZp6",
        "colab": {
          "base_uri": "https://localhost:8080/"
        },
        "outputId": "e2e4162a-0f36-46e4-93e8-d30eb26848ff"
      },
      "execution_count": null,
      "outputs": [
        {
          "output_type": "stream",
          "name": "stdout",
          "text": [
            "['A', 'B', 'C']\n",
            "['A', 'B', 'D']\n",
            "['A', 'C', 'B']\n",
            "['A', 'C', 'D']\n",
            "['A', 'D', 'B']\n",
            "['A', 'D', 'C']\n",
            "['B', 'A', 'C']\n",
            "['B', 'A', 'D']\n",
            "['B', 'C', 'A']\n",
            "['B', 'C', 'D']\n",
            "['B', 'D', 'A']\n",
            "['B', 'D', 'C']\n",
            "['C', 'A', 'B']\n",
            "['C', 'A', 'D']\n",
            "['C', 'B', 'A']\n",
            "['C', 'B', 'D']\n",
            "['C', 'D', 'A']\n",
            "['C', 'D', 'B']\n",
            "['D', 'A', 'B']\n",
            "['D', 'A', 'C']\n",
            "['D', 'B', 'A']\n",
            "['D', 'B', 'C']\n",
            "['D', 'C', 'A']\n",
            "['D', 'C', 'B']\n"
          ]
        }
      ]
    },
    {
      "cell_type": "code",
      "source": [],
      "metadata": {
        "id": "Nt_GZ85PnF51"
      },
      "execution_count": null,
      "outputs": []
    },
    {
      "cell_type": "markdown",
      "source": [
        "## 부분집합의 합 최대"
      ],
      "metadata": {
        "id": "uzJ7lUNnnGTK"
      }
    },
    {
      "cell_type": "code",
      "source": [
        "a=[81,58,42,33,61]\n",
        "n=len(a)\n",
        "m=259\n",
        "fin = []\n",
        "ans = []\n",
        "dif = 259\n",
        "def DFS(v):\n",
        "  if v == n:\n",
        "    if sum(ans) <= m:\n",
        "     fin.append([[i for i in ans],sum(ans)])\n",
        "  else:\n",
        "    ans.append(a[v])\n",
        "    DFS(v+1)\n",
        "    ans.remove(a[v])\n",
        "    DFS(v+1)\n"
      ],
      "metadata": {
        "id": "SuSCiQufltIC"
      },
      "execution_count": null,
      "outputs": []
    },
    {
      "cell_type": "code",
      "source": [
        "DFS(0)\n",
        "fin"
      ],
      "metadata": {
        "colab": {
          "base_uri": "https://localhost:8080/"
        },
        "id": "HFPgVkUbltLP",
        "outputId": "0873eb40-044d-445e-bc0b-5bba61807876"
      },
      "execution_count": null,
      "outputs": [
        {
          "output_type": "execute_result",
          "data": {
            "text/plain": [
              "[[[81, 58, 42, 33], 214],\n",
              " [[81, 58, 42, 61], 242],\n",
              " [[81, 58, 42], 181],\n",
              " [[81, 58, 33, 61], 233],\n",
              " [[81, 58, 33], 172],\n",
              " [[81, 58, 61], 200],\n",
              " [[81, 58], 139],\n",
              " [[81, 42, 33, 61], 217],\n",
              " [[81, 42, 33], 156],\n",
              " [[81, 42, 61], 184],\n",
              " [[81, 42], 123],\n",
              " [[81, 33, 61], 175],\n",
              " [[81, 33], 114],\n",
              " [[81, 61], 142],\n",
              " [[81], 81],\n",
              " [[58, 42, 33, 61], 194],\n",
              " [[58, 42, 33], 133],\n",
              " [[58, 42, 61], 161],\n",
              " [[58, 42], 100],\n",
              " [[58, 33, 61], 152],\n",
              " [[58, 33], 91],\n",
              " [[58, 61], 119],\n",
              " [[58], 58],\n",
              " [[42, 33, 61], 136],\n",
              " [[42, 33], 75],\n",
              " [[42, 61], 103],\n",
              " [[42], 42],\n",
              " [[33, 61], 94],\n",
              " [[33], 33],\n",
              " [[61], 61],\n",
              " [[], 0]]"
            ]
          },
          "metadata": {},
          "execution_count": 61
        }
      ]
    },
    {
      "cell_type": "code",
      "source": [
        "dif=[]\n",
        "for i in range(len(fin)):\n",
        "  dif.append(m-fin[i][1])\n",
        "\n",
        "print(dif)\n",
        "\n",
        "fin[dif.index(min(dif))]"
      ],
      "metadata": {
        "colab": {
          "base_uri": "https://localhost:8080/"
        },
        "id": "4CJsZZucltN8",
        "outputId": "11ae4087-8b27-4073-b72a-67ab9b934986"
      },
      "execution_count": null,
      "outputs": [
        {
          "output_type": "stream",
          "name": "stdout",
          "text": [
            "[45, 17, 78, 26, 87, 59, 120, 42, 103, 75, 136, 84, 145, 117, 178, 65, 126, 98, 159, 107, 168, 140, 201, 123, 184, 156, 217, 165, 226, 198, 259]\n"
          ]
        },
        {
          "output_type": "execute_result",
          "data": {
            "text/plain": [
              "[[81, 58, 42, 61], 242]"
            ]
          },
          "metadata": {},
          "execution_count": 62
        }
      ]
    },
    {
      "cell_type": "code",
      "source": [],
      "metadata": {
        "id": "HPQ2Mh7pPXh7"
      },
      "execution_count": null,
      "outputs": []
    },
    {
      "cell_type": "markdown",
      "source": [
        "## 파스칼 + 순열"
      ],
      "metadata": {
        "id": "UcTqicPNnSxw"
      }
    },
    {
      "cell_type": "code",
      "source": [
        "weight=[]\n",
        "weight.append([1,2,1])\n",
        "for i in range(0,7):\n",
        "  l=[]\n",
        "  l.append(weight[i][0])\n",
        "  for j in range(len(weight[i])-1):\n",
        "    l.append((weight[i][j]+weight[i][j+1]))\n",
        "  l.append(weight[i][-1])\n",
        "  weight.append(l)\n",
        "\n",
        "print(weight)\n",
        "\n",
        "\n",
        "\n"
      ],
      "metadata": {
        "colab": {
          "base_uri": "https://localhost:8080/"
        },
        "id": "b87GqMrwtlQ0",
        "outputId": "d8c5a49d-4a59-4488-9242-95d31ccde312"
      },
      "execution_count": null,
      "outputs": [
        {
          "output_type": "stream",
          "name": "stdout",
          "text": [
            "[[1, 2, 1], [1, 3, 3, 1], [1, 4, 6, 4, 1], [1, 5, 10, 10, 5, 1], [1, 6, 15, 20, 15, 6, 1], [1, 7, 21, 35, 35, 21, 7, 1], [1, 8, 28, 56, 70, 56, 28, 8, 1], [1, 9, 36, 84, 126, 126, 84, 36, 9, 1]]\n"
          ]
        }
      ]
    },
    {
      "cell_type": "code",
      "source": [
        "n=8\n",
        "ans = [0]*n\n",
        "m=500\n",
        "switch = 0\n",
        "import sys\n",
        "\n",
        "def DFS(v):\n",
        "  global switch\n",
        "  if switch==1:\n",
        "    return\n",
        "  if v==n:\n",
        "    if sum(x*y for x,y in zip(ans,weight[n-3])) == m:\n",
        "      print(ans)\n",
        "      switch=1\n",
        "  else:\n",
        "    for i in range(1,n+1):\n",
        "      if i not in ans:\n",
        "        ans[v]=i\n",
        "        DFS(v+1)\n",
        "        ans[v]=0\n"
      ],
      "metadata": {
        "id": "3rLV8wnQtldg"
      },
      "execution_count": null,
      "outputs": []
    },
    {
      "cell_type": "code",
      "source": [
        "DFS(0)"
      ],
      "metadata": {
        "colab": {
          "base_uri": "https://localhost:8080/"
        },
        "id": "M5c6inA6N7jN",
        "outputId": "08df01aa-3711-4242-8118-37d34e47beb8"
      },
      "execution_count": null,
      "outputs": [
        {
          "output_type": "stream",
          "name": "stdout",
          "text": [
            "[2, 3, 4, 1, 5, 6, 7, 8]\n"
          ]
        }
      ]
    },
    {
      "cell_type": "code",
      "source": [],
      "metadata": {
        "id": "0caQn1BuN7lx"
      },
      "execution_count": null,
      "outputs": []
    },
    {
      "cell_type": "code",
      "source": [],
      "metadata": {
        "id": "snBVSj4CN7pK"
      },
      "execution_count": null,
      "outputs": []
    },
    {
      "cell_type": "markdown",
      "source": [
        "## 조합"
      ],
      "metadata": {
        "id": "pvL4MScdnfrW"
      }
    },
    {
      "cell_type": "code",
      "source": [
        "a=['A','B','C','D','E']\n",
        "n=len(a)\n",
        "m=3\n",
        "ans=[0]*m\n",
        "fin=[]\n",
        "def DFS(v,s):\n",
        "  if v==m:\n",
        "    fin.append(' '.join(ans))\n",
        "  else:\n",
        "    for i in range(s,n):\n",
        "      ans[v] = a[i]\n",
        "      DFS(v+1,i+1)\n"
      ],
      "metadata": {
        "id": "D01F80_qJuDv"
      },
      "execution_count": null,
      "outputs": []
    },
    {
      "cell_type": "code",
      "source": [
        "DFS(0,0)"
      ],
      "metadata": {
        "id": "EALgD9E7JuGk"
      },
      "execution_count": null,
      "outputs": []
    },
    {
      "cell_type": "code",
      "source": [
        "fin"
      ],
      "metadata": {
        "colab": {
          "base_uri": "https://localhost:8080/"
        },
        "id": "EVQJP8qkJuJM",
        "outputId": "4466772b-fe22-48fc-99b3-1e1d349e9578"
      },
      "execution_count": null,
      "outputs": [
        {
          "output_type": "execute_result",
          "data": {
            "text/plain": [
              "['A B C',\n",
              " 'A B D',\n",
              " 'A B E',\n",
              " 'A C D',\n",
              " 'A C E',\n",
              " 'A D E',\n",
              " 'B C D',\n",
              " 'B C E',\n",
              " 'B D E',\n",
              " 'C D E']"
            ]
          },
          "metadata": {},
          "execution_count": 25
        }
      ]
    },
    {
      "cell_type": "code",
      "source": [],
      "metadata": {
        "id": "WJDNeHuxJuRG"
      },
      "execution_count": null,
      "outputs": []
    },
    {
      "cell_type": "code",
      "source": [
        "a = [2,4,5,8,12]\n",
        "n=5\n",
        "k=3\n",
        "m=6\n",
        "sum=0\n",
        "ans=[0]*k\n",
        "cnt=0\n",
        "\n",
        "def DFS(v,s,sum):\n",
        "  global cnt\n",
        "  if v==k:\n",
        "    if sum%6==0:\n",
        "      print(ans)\n",
        "      cnt+=1\n",
        "    else:\n",
        "      return\n",
        "  else:\n",
        "    for i in range(s,n):\n",
        "      ans[v] = a[i]\n",
        "      DFS(v+1,i+1,sum+a[i])\n",
        "\n"
      ],
      "metadata": {
        "id": "po0-XEpiiqy4"
      },
      "execution_count": null,
      "outputs": []
    },
    {
      "cell_type": "code",
      "source": [
        "DFS(0,0,sum)"
      ],
      "metadata": {
        "colab": {
          "base_uri": "https://localhost:8080/"
        },
        "id": "CQlmmDYziq0I",
        "outputId": "9486c234-1ad1-4817-b653-2d4b1bbdba29"
      },
      "execution_count": null,
      "outputs": [
        {
          "output_type": "stream",
          "name": "stdout",
          "text": [
            "[2, 4, 12]\n",
            "[4, 8, 12]\n"
          ]
        }
      ]
    },
    {
      "cell_type": "code",
      "source": [],
      "metadata": {
        "id": "nOcxmNjKiq3w"
      },
      "execution_count": null,
      "outputs": []
    },
    {
      "cell_type": "code",
      "source": [],
      "metadata": {
        "id": "arfPQ95AoN-o"
      },
      "execution_count": null,
      "outputs": []
    },
    {
      "cell_type": "markdown",
      "source": [
        "## 인접행렬 + 경로탐색"
      ],
      "metadata": {
        "id": "v_iOMMo1oUg-"
      }
    },
    {
      "cell_type": "code",
      "source": [
        "n=5\n",
        "met = [[0]*(n+1) for _ in range(n+1)]\n",
        "\n",
        "met[1][2]=1\n",
        "met[2][1]=1\n",
        "met[1][3]=1\n",
        "met[1][4]=1\n",
        "met[2][3]=1\n",
        "met[3][4]=1\n",
        "met[4][5]=1\n",
        "met[4][2]=1\n",
        "met[2][5]=1\n",
        "met"
      ],
      "metadata": {
        "colab": {
          "base_uri": "https://localhost:8080/"
        },
        "id": "Yp3YPDZSC1HH",
        "outputId": "50800f43-6261-4227-9d1b-92be3b68467a"
      },
      "execution_count": null,
      "outputs": [
        {
          "output_type": "execute_result",
          "data": {
            "text/plain": [
              "[[0, 0, 0, 0, 0, 0],\n",
              " [0, 0, 1, 1, 1, 0],\n",
              " [0, 1, 0, 1, 0, 1],\n",
              " [0, 0, 0, 0, 1, 0],\n",
              " [0, 0, 1, 0, 0, 1],\n",
              " [0, 0, 0, 0, 0, 0]]"
            ]
          },
          "metadata": {},
          "execution_count": 3
        }
      ]
    },
    {
      "cell_type": "code",
      "source": [
        "cnt=0\n",
        "ans=[1]\n",
        "check = [0]*(n+1)\n",
        "check[1]=1\n",
        "def DFS(v,last):\n",
        "  global ans\n",
        "  global cnt\n",
        "  if last==5:\n",
        "    print(ans)\n",
        "    cnt+=1\n",
        "  else:\n",
        "    for i in range(1,n+1):\n",
        "      if check[i] == 0:\n",
        "        if met[last][i]==1:\n",
        "         check[i] = 1\n",
        "         ans.append(i)\n",
        "         DFS(v+1,i)\n",
        "         check[i] = 0\n",
        "         ans.pop()\n",
        "\n",
        "DFS(0,1)"
      ],
      "metadata": {
        "colab": {
          "base_uri": "https://localhost:8080/"
        },
        "id": "7CoQbC_IC1KQ",
        "outputId": "be7664f4-d125-4949-a04b-17a7e3f72baa"
      },
      "execution_count": null,
      "outputs": [
        {
          "output_type": "stream",
          "name": "stdout",
          "text": [
            "[1, 2, 3, 4, 5]\n",
            "[1, 2, 5]\n",
            "[1, 3, 4, 2, 5]\n",
            "[1, 3, 4, 5]\n",
            "[1, 4, 2, 5]\n",
            "[1, 4, 5]\n"
          ]
        }
      ]
    },
    {
      "cell_type": "code",
      "source": [
        "cnt"
      ],
      "metadata": {
        "colab": {
          "base_uri": "https://localhost:8080/"
        },
        "id": "YywxqypEiq6S",
        "outputId": "08c15d0e-1eb4-4a78-bbe9-3186844fc289"
      },
      "execution_count": null,
      "outputs": [
        {
          "output_type": "execute_result",
          "data": {
            "text/plain": [
              "6"
            ]
          },
          "metadata": {},
          "execution_count": 12
        }
      ]
    },
    {
      "cell_type": "code",
      "source": [],
      "metadata": {
        "id": "Pt9y90m1iq91"
      },
      "execution_count": null,
      "outputs": []
    },
    {
      "cell_type": "code",
      "source": [],
      "metadata": {
        "id": "bGKFDtDGkDGr"
      },
      "execution_count": null,
      "outputs": []
    },
    {
      "cell_type": "markdown",
      "source": [
        "## 최대점수 구하기"
      ],
      "metadata": {
        "id": "GyREnrDrooMB"
      }
    },
    {
      "cell_type": "code",
      "source": [
        "n=5\n",
        "m=20\n",
        "a=[[10,5],[25,12],[15,8],[6,3],[7,4]]\n",
        "ans=[]\n",
        "max = 0\n",
        "score_sum = 0\n",
        "time_sum = 0\n",
        "\n",
        "def DFS(v):\n",
        "  global ans\n",
        "  global max\n",
        "  global score_sum\n",
        "  global time_sum\n",
        "  if v==n:\n",
        "    if score_sum > max:\n",
        "      if time_sum<=m:\n",
        "        for j in ans:\n",
        "          print(j,end = ' ')\n",
        "        print(score_sum)\n",
        "        max = score_sum\n",
        "  else:\n",
        "    ans.append(a[v])\n",
        "    score_sum+=a[v][0]\n",
        "    time_sum+=a[v][1]\n",
        "    DFS(v+1)\n",
        "    ans.pop()\n",
        "    score_sum-=a[v][0]\n",
        "    time_sum-=a[v][1]\n",
        "    DFS(v+1)"
      ],
      "metadata": {
        "id": "VyEK_EOnkDL0"
      },
      "execution_count": null,
      "outputs": []
    },
    {
      "cell_type": "code",
      "source": [
        "DFS(0)"
      ],
      "metadata": {
        "colab": {
          "base_uri": "https://localhost:8080/"
        },
        "id": "ZVFJKHwJG_wZ",
        "outputId": "84a612a1-3040-4466-fa40-56a59bd1cdd5"
      },
      "execution_count": null,
      "outputs": [
        {
          "output_type": "stream",
          "name": "stdout",
          "text": [
            "[10, 5] [25, 12] [6, 3] 41\n"
          ]
        }
      ]
    },
    {
      "cell_type": "code",
      "source": [
        "n=5\n",
        "m=20\n",
        "a=[[10,5],[25,12],[15,8],[6,3],[7,4]]\n",
        "ans=[]\n",
        "max = 0\n",
        "\n",
        "def DFS(v,score_sum,time_sum):\n",
        "  global ans\n",
        "  global max\n",
        "  if v==n:\n",
        "    if score_sum > max:\n",
        "      if time_sum<=m:\n",
        "        for j in ans:\n",
        "          print(j,end = ' ')\n",
        "        print(score_sum)\n",
        "        max = score_sum\n",
        "  else:\n",
        "    ans.append(a[v])\n",
        "    DFS(v+1,score_sum+a[v][0],time_sum+a[v][1])\n",
        "    ans.pop()\n",
        "    DFS(v+1,score_sum,time_sum)"
      ],
      "metadata": {
        "id": "D-juBAr8G_zl"
      },
      "execution_count": null,
      "outputs": []
    },
    {
      "cell_type": "code",
      "source": [
        "DFS(0,0,0)"
      ],
      "metadata": {
        "colab": {
          "base_uri": "https://localhost:8080/"
        },
        "id": "-blrwdwUlsKz",
        "outputId": "fa4022ca-e19b-474b-a57b-ea6c43b86028"
      },
      "execution_count": null,
      "outputs": [
        {
          "output_type": "stream",
          "name": "stdout",
          "text": [
            "[10, 5] [25, 12] [6, 3] 41\n"
          ]
        }
      ]
    },
    {
      "cell_type": "code",
      "source": [
        "max"
      ],
      "metadata": {
        "colab": {
          "base_uri": "https://localhost:8080/"
        },
        "id": "6hn2QEE5lsOI",
        "outputId": "45efa79b-5c4c-4e27-b2e3-9b2b80f0e3c5"
      },
      "execution_count": null,
      "outputs": [
        {
          "output_type": "execute_result",
          "data": {
            "text/plain": [
              "41"
            ]
          },
          "metadata": {},
          "execution_count": 34
        }
      ]
    },
    {
      "cell_type": "code",
      "source": [],
      "metadata": {
        "id": "S0A2IrkLqqTG"
      },
      "execution_count": null,
      "outputs": []
    },
    {
      "cell_type": "code",
      "source": [
        "n=7\n",
        "ti = [0,4,2,3,3,2,2,1]\n",
        "pi = [0,20,10,15,20,30,20,10]\n",
        "s = 0\n",
        "fin = 0\n",
        "max = 0\n",
        "ans = [0]*(n+1)\n",
        "\n",
        "def DFS(pi_sum,fin):\n",
        "  global max\n",
        "  global ans\n",
        "  if fin==7:\n",
        "    if pi_sum > max:\n",
        "      max = pi_sum\n",
        "      print('work_start : ',[j for j in range(n+1) if ans[j] == 1])\n",
        "      print('working_days : ',[ti[j] for j in range(n+1) if ans[j]==1])\n",
        "      print('money_paid : ',[pi[j] for j in range(n+1) if ans[j]==1])\n",
        "  else:\n",
        "    for s in range(fin+1,n+1):\n",
        "      ans[s] = 1\n",
        "      DFS(pi_sum+pi[s],s+ti[s]-1)\n",
        "      ans[s] = 0"
      ],
      "metadata": {
        "id": "HoJX45JHsEzT"
      },
      "execution_count": null,
      "outputs": []
    },
    {
      "cell_type": "code",
      "source": [
        "DFS(0,0)"
      ],
      "metadata": {
        "colab": {
          "base_uri": "https://localhost:8080/"
        },
        "id": "9mBLXdPZsE1w",
        "outputId": "6d4d40bd-d363-4283-822b-0f639fd8809b"
      },
      "execution_count": null,
      "outputs": [
        {
          "output_type": "stream",
          "name": "stdout",
          "text": [
            "work_start :  [1, 5, 7]\n",
            "working_days :  [4, 2, 1]\n",
            "money_paid :  [20, 30, 10]\n"
          ]
        }
      ]
    },
    {
      "cell_type": "code",
      "source": [
        "max"
      ],
      "metadata": {
        "colab": {
          "base_uri": "https://localhost:8080/"
        },
        "id": "wzQ79auQsE30",
        "outputId": "61a56096-5438-432c-f150-4b557ccfe434"
      },
      "execution_count": null,
      "outputs": [
        {
          "output_type": "execute_result",
          "data": {
            "text/plain": [
              "60"
            ]
          },
          "metadata": {},
          "execution_count": 60
        }
      ]
    },
    {
      "cell_type": "code",
      "source": [],
      "metadata": {
        "id": "30VXhxZesE7c"
      },
      "execution_count": null,
      "outputs": []
    },
    {
      "cell_type": "code",
      "source": [],
      "metadata": {
        "id": "sgEopUi8qqWT"
      },
      "execution_count": null,
      "outputs": []
    },
    {
      "cell_type": "code",
      "source": [
        "a=[5]*3 + [10]*2 + [1]*5\n",
        "a.sort(reverse=True)\n",
        "n=len(a)\n",
        "started = [0]*(max(a)+1)\n",
        "\n",
        "t=20\n",
        "ans=[]"
      ],
      "metadata": {
        "id": "E9r72qtyJaeM"
      },
      "execution_count": null,
      "outputs": []
    },
    {
      "cell_type": "code",
      "source": [
        "def DFS(v):\n",
        "  global ans\n",
        "  global started\n",
        "  if v==n:\n",
        "    if sum(ans) == t:\n",
        "      print(ans)\n",
        "    else:\n",
        "      return\n",
        "  if sum(ans) == t:\n",
        "    print(ans)\n",
        "  elif sum(ans)>t:\n",
        "    return\n",
        "  else:\n",
        "    ans.append(a[v])\n",
        "    DFS(v+1)\n",
        "    ans.pop()\n",
        "    DFS(v+1)"
      ],
      "metadata": {
        "id": "yXpZnWriJamu"
      },
      "execution_count": null,
      "outputs": []
    },
    {
      "cell_type": "code",
      "source": [
        "DFS(0)"
      ],
      "metadata": {
        "colab": {
          "base_uri": "https://localhost:8080/"
        },
        "id": "WE_BVFKUqqZ3",
        "outputId": "fe40ce89-250d-4f7a-ea79-dbe88f556bc7"
      },
      "execution_count": null,
      "outputs": [
        {
          "output_type": "stream",
          "name": "stdout",
          "text": [
            "[10, 5, 1, 1, 1, 1, 1]\n",
            "[10, 5, 1, 1, 1, 1, 1]\n",
            "[10, 5, 1, 1, 1, 1, 1]\n",
            "[10, 5, 1, 1, 1, 1, 1]\n",
            "[10, 5, 1, 1, 1, 1, 1]\n",
            "[10, 5, 1, 1, 1, 1, 1]\n"
          ]
        }
      ]
    },
    {
      "cell_type": "code",
      "source": [],
      "metadata": {
        "id": "FUf3C1NrqqdR"
      },
      "execution_count": null,
      "outputs": []
    },
    {
      "cell_type": "code",
      "source": [
        "loc = [0,0]\n",
        "dx = [1,0,-1,0]\n",
        "dy = [0,1,0,-1]\n",
        "d = 0\n",
        "\n",
        "a = 'GGRGGGGGLG'\n",
        "for i in a:\n",
        "  if i == 'G':\n",
        "    loc=[loc[0]+dx[d],loc[1]+dy[d]]\n",
        "  elif i =='R':\n",
        "    d = (d+1)%4\n",
        "  elif i == 'L':\n",
        "    d = (d-1)%4\n",
        "  if loc[0] < 0 or loc[0] > 5 or loc[1] < 0 or loc[1] > 5:\n",
        "    print('Robot out of range')\n",
        "    break\n",
        "  print(f'current location : {loc}, direction {d}')"
      ],
      "metadata": {
        "colab": {
          "base_uri": "https://localhost:8080/"
        },
        "id": "5iFWBIDfnKSc",
        "outputId": "482cf03e-87f2-49fc-b455-a17f76bb630e"
      },
      "execution_count": null,
      "outputs": [
        {
          "output_type": "stream",
          "name": "stdout",
          "text": [
            "current location : [1, 0], direction 0\n",
            "current location : [2, 0], direction 0\n",
            "current location : [2, 0], direction 1\n",
            "current location : [2, 1], direction 1\n",
            "current location : [2, 2], direction 1\n",
            "current location : [2, 3], direction 1\n",
            "current location : [2, 4], direction 1\n",
            "current location : [2, 5], direction 1\n",
            "current location : [2, 5], direction 0\n",
            "current location : [3, 5], direction 0\n"
          ]
        }
      ]
    },
    {
      "cell_type": "code",
      "source": [],
      "metadata": {
        "id": "922IYc1nopTi"
      },
      "execution_count": null,
      "outputs": []
    }
  ]
}