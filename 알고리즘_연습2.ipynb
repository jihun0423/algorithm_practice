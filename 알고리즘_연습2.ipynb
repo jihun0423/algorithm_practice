{
  "nbformat": 4,
  "nbformat_minor": 0,
  "metadata": {
    "colab": {
      "provenance": [],
      "authorship_tag": "ABX9TyPDoqQnts81IkTA15Z9e/wV",
      "include_colab_link": true
    },
    "kernelspec": {
      "name": "python3",
      "display_name": "Python 3"
    },
    "language_info": {
      "name": "python"
    }
  },
  "cells": [
    {
      "cell_type": "markdown",
      "metadata": {
        "id": "view-in-github",
        "colab_type": "text"
      },
      "source": [
        "<a href=\"https://colab.research.google.com/github/jihun0423/algorithm_practice/blob/main/%EC%95%8C%EA%B3%A0%EB%A6%AC%EC%A6%98_%EC%97%B0%EC%8A%B52.ipynb\" target=\"_parent\"><img src=\"https://colab.research.google.com/assets/colab-badge.svg\" alt=\"Open In Colab\"/></a>"
      ]
    },
    {
      "cell_type": "markdown",
      "source": [
        "# 스택"
      ],
      "metadata": {
        "id": "tYVhq04eGcMh"
      }
    },
    {
      "cell_type": "code",
      "source": [],
      "metadata": {
        "id": "vp4BWEDXRgNT"
      },
      "execution_count": null,
      "outputs": []
    },
    {
      "cell_type": "markdown",
      "source": [
        "### 가장 큰 수"
      ],
      "metadata": {
        "id": "w-oPIE4xGefF"
      }
    },
    {
      "cell_type": "markdown",
      "source": [
        "#### Sol 1"
      ],
      "metadata": {
        "id": "wRue0-ewGjCC"
      }
    },
    {
      "cell_type": "code",
      "execution_count": null,
      "metadata": {
        "id": "rw3MGnBBYfFw"
      },
      "outputs": [],
      "source": [
        "a = [5,2,7,6,8,2,3]\n",
        "m=4\n",
        "ans = ''\n",
        "while m > 0:\n",
        "  num = max(a[0:len(a)-(m-1)])\n",
        "  idx = a.index(num)\n",
        "  ans += str(num)\n",
        "  a=a[idx:]\n",
        "  a.remove(num)\n",
        "  m-=1\n"
      ]
    },
    {
      "cell_type": "code",
      "source": [
        "ans"
      ],
      "metadata": {
        "colab": {
          "base_uri": "https://localhost:8080/",
          "height": 35
        },
        "id": "m5VDrduGZume",
        "outputId": "ceb9e324-c822-416c-abff-8eb8f5b6c67d"
      },
      "execution_count": null,
      "outputs": [
        {
          "output_type": "execute_result",
          "data": {
            "text/plain": [
              "'7823'"
            ],
            "application/vnd.google.colaboratory.intrinsic+json": {
              "type": "string"
            }
          },
          "metadata": {},
          "execution_count": 68
        }
      ]
    },
    {
      "cell_type": "markdown",
      "source": [
        "#### Sol 2"
      ],
      "metadata": {
        "id": "FR81lIhrGlEr"
      }
    },
    {
      "cell_type": "code",
      "source": [
        "a = [5,2,7,6,8,2,3]\n",
        "m=6\n",
        "\n",
        "stack = []\n",
        "\n",
        "for i in a:\n",
        "  while len(stack)>0 and m>0 and i>stack[-1]:\n",
        "    stack.pop()\n",
        "    m-=1\n",
        "  stack.append(i)\n",
        "\n",
        "if m!=0:\n",
        "  stack = stack[:-m]"
      ],
      "metadata": {
        "id": "BnlzdSHidXNM"
      },
      "execution_count": null,
      "outputs": []
    },
    {
      "cell_type": "code",
      "source": [
        "stack"
      ],
      "metadata": {
        "colab": {
          "base_uri": "https://localhost:8080/"
        },
        "id": "55rd0zrvgWJb",
        "outputId": "c5999414-c002-4a61-ec97-536ebbc6ee33"
      },
      "execution_count": null,
      "outputs": [
        {
          "output_type": "execute_result",
          "data": {
            "text/plain": [
              "[8]"
            ]
          },
          "metadata": {},
          "execution_count": 77
        }
      ]
    },
    {
      "cell_type": "code",
      "source": [],
      "metadata": {
        "id": "nBv2JaxXgYru"
      },
      "execution_count": null,
      "outputs": []
    },
    {
      "cell_type": "code",
      "source": [],
      "metadata": {
        "id": "tsy7k9ILJ9dt"
      },
      "execution_count": null,
      "outputs": []
    },
    {
      "cell_type": "markdown",
      "source": [
        "## 스택 구현 클래스"
      ],
      "metadata": {
        "id": "CNOzLASpKw9k"
      }
    },
    {
      "cell_type": "code",
      "source": [
        "class ArrayStack:\n",
        "\n",
        "    def __init__(self):\n",
        "        self.data = []\n",
        "\n",
        "    def size(self):\n",
        "        return len(self.data)\n",
        "\n",
        "    def isEmpty(self):\n",
        "        return self.size() == 0\n",
        "\n",
        "    def push(self, item):\n",
        "        self.data.append(item)\n",
        "\n",
        "    def pop(self):\n",
        "        return self.data.pop()\n",
        "\n",
        "    def peek(self):\n",
        "        return self.data[-1]"
      ],
      "metadata": {
        "id": "rPn5i8kiJ9gn"
      },
      "execution_count": null,
      "outputs": []
    },
    {
      "cell_type": "code",
      "source": [
        "stack = ArrayStack()\n",
        "stack.push(1)\n",
        "stack.data"
      ],
      "metadata": {
        "colab": {
          "base_uri": "https://localhost:8080/"
        },
        "id": "HlIKtVK5J_N8",
        "outputId": "ca034ccb-17c7-475c-d0a7-0c989f2c33cb"
      },
      "execution_count": null,
      "outputs": [
        {
          "output_type": "execute_result",
          "data": {
            "text/plain": [
              "[1]"
            ]
          },
          "metadata": {},
          "execution_count": 162
        }
      ]
    },
    {
      "cell_type": "markdown",
      "source": [
        "### 레이저"
      ],
      "metadata": {
        "id": "aqVZaSTUGaJG"
      }
    },
    {
      "cell_type": "markdown",
      "source": [
        "#### Sol 1"
      ],
      "metadata": {
        "id": "e-9CsBqGGuOA"
      }
    },
    {
      "cell_type": "code",
      "source": [
        "laser = []\n",
        "bar_start = []\n",
        "bar = []\n",
        "for i,x in enumerate(a):\n",
        "  if x == '(' and a[i+1] == ')':\n",
        "    laser.append(i+0.5)\n",
        "  elif x == '(':\n",
        "    bar_start.append(i)\n",
        "  elif x == ')' and a[i-1] != '(':\n",
        "    bar.append((bar_start.pop(),i))\n",
        "print(laser)\n",
        "print(bar)\n",
        "\n",
        "cnt = len(bar)\n",
        "\n",
        "for i in bar:\n",
        "  for j in laser:\n",
        "    if j>i[0] and j<i[1]:\n",
        "      cnt+=1\n",
        "\n",
        "print(cnt)"
      ],
      "metadata": {
        "colab": {
          "base_uri": "https://localhost:8080/"
        },
        "id": "8YkI_ODOiQDl",
        "outputId": "40c41309-aeaf-44fa-8fc2-cf88a1fa8960"
      },
      "execution_count": null,
      "outputs": [
        {
          "output_type": "stream",
          "name": "stdout",
          "text": [
            "[0.5, 5.5, 7.5, 11.5, 14.5, 19.5]\n",
            "[(4, 9), (10, 13), (3, 16), (2, 17), (18, 21)]\n",
            "17\n"
          ]
        }
      ]
    },
    {
      "cell_type": "code",
      "source": [],
      "metadata": {
        "id": "pSf_FdHhGX0O"
      },
      "execution_count": null,
      "outputs": []
    },
    {
      "cell_type": "code",
      "source": [],
      "metadata": {
        "id": "Kh767ocL9Ae5"
      },
      "execution_count": null,
      "outputs": []
    },
    {
      "cell_type": "code",
      "source": [
        "a='((3+5*2)*2)-3'\n",
        "\n",
        "stack = []\n",
        "ans = ''\n",
        "for i in a:\n",
        "  if i.isdecimal():\n",
        "    ans+=i\n",
        "  elif i == '+' or i == '-':\n",
        "    while stack and stack[-1] != '(':\n",
        "      ans += stack.pop()\n",
        "    stack.append(i)\n",
        "  elif i == '*' or i == '/':\n",
        "    while stack and (stack[-1] == '*' or stack[-1] == '/'):\n",
        "      ans += stack.pop()\n",
        "    stack.append(i)\n",
        "  elif i == '(':\n",
        "    stack.append('(')\n",
        "  elif i == ')':\n",
        "    while stack[-1] != '(':\n",
        "      ans += stack.pop()\n",
        "    stack.pop()\n",
        "\n",
        "while stack:\n",
        "  ans += stack.pop()"
      ],
      "metadata": {
        "id": "kdrV7v8Y9Ahv"
      },
      "execution_count": null,
      "outputs": []
    },
    {
      "cell_type": "code",
      "source": [
        "ans"
      ],
      "metadata": {
        "colab": {
          "base_uri": "https://localhost:8080/",
          "height": 35
        },
        "id": "siJGMYLjwC27",
        "outputId": "a0847f80-4c08-49b1-8eea-af16365b6f2c"
      },
      "execution_count": null,
      "outputs": [
        {
          "output_type": "execute_result",
          "data": {
            "text/plain": [
              "'352*+2*3-'"
            ],
            "application/vnd.google.colaboratory.intrinsic+json": {
              "type": "string"
            }
          },
          "metadata": {},
          "execution_count": 145
        }
      ]
    },
    {
      "cell_type": "code",
      "source": [],
      "metadata": {
        "id": "1gWF7AvQwC8U"
      },
      "execution_count": null,
      "outputs": []
    },
    {
      "cell_type": "code",
      "source": [
        "stack = []\n",
        "a='352*+2*3-'\n",
        "\n",
        "for i in a:\n",
        "  if i.isdecimal():\n",
        "    stack.append(i)\n",
        "  else:\n",
        "    num1 = int(stack.pop())\n",
        "    num2 = int(stack.pop())\n",
        "    if i == '-':\n",
        "      stack.append((num2-num1))\n",
        "    elif i == '+':\n",
        "      stack.append((num2+num1))\n",
        "    elif i == '*':\n",
        "      stack.append((num2*num1))\n",
        "    elif i == '/':\n",
        "      stack.append((num2/num1))\n",
        "\n",
        "\n",
        "\n"
      ],
      "metadata": {
        "id": "aWlhZuhbC5Af"
      },
      "execution_count": null,
      "outputs": []
    },
    {
      "cell_type": "code",
      "source": [
        "stack[0]"
      ],
      "metadata": {
        "colab": {
          "base_uri": "https://localhost:8080/"
        },
        "id": "-vI5zfWF-lei",
        "outputId": "47a93b0f-2ea1-4727-effb-6ae5a3b75f55"
      },
      "execution_count": null,
      "outputs": [
        {
          "output_type": "execute_result",
          "data": {
            "text/plain": [
              "23"
            ]
          },
          "metadata": {},
          "execution_count": 148
        }
      ]
    },
    {
      "cell_type": "code",
      "source": [],
      "metadata": {
        "id": "1A4Y-OHu-lhV"
      },
      "execution_count": null,
      "outputs": []
    },
    {
      "cell_type": "code",
      "source": [],
      "metadata": {
        "id": "33S6b6-NuLxh"
      },
      "execution_count": null,
      "outputs": []
    },
    {
      "cell_type": "code",
      "source": [
        "k=3\n",
        "a=[1,2,3,4,5,6,7,8]\n",
        "ans = []\n",
        "while a:\n",
        "  for i in range(1,k):\n",
        "    a.append(a.pop(0))\n",
        "  ans.append(a.pop(0))"
      ],
      "metadata": {
        "id": "4USXgGmauLz0"
      },
      "execution_count": null,
      "outputs": []
    },
    {
      "cell_type": "code",
      "source": [
        "ans"
      ],
      "metadata": {
        "colab": {
          "base_uri": "https://localhost:8080/"
        },
        "id": "yayVuRoWuL1z",
        "outputId": "a93c7a3c-de7e-4cf8-db14-f9e7cdc56f6a"
      },
      "execution_count": null,
      "outputs": [
        {
          "output_type": "execute_result",
          "data": {
            "text/plain": [
              "[3, 6, 1, 5, 2, 8, 4, 7]"
            ]
          },
          "metadata": {},
          "execution_count": 2
        }
      ]
    },
    {
      "cell_type": "code",
      "source": [],
      "metadata": {
        "id": "6UZrbAY66i0P"
      },
      "execution_count": null,
      "outputs": []
    },
    {
      "cell_type": "code",
      "source": [
        "a = [60,60,90,60,60,60]\n",
        "l = [[a,i] for i,a in enumerate(a)]\n",
        "m=0\n",
        "x=l[0]\n",
        "n=len(a)\n",
        "ans=[]\n",
        "\n",
        "while l:\n",
        "  next = l.pop(0)\n",
        "  if any(next[0] < i[0] for i in l):\n",
        "    l.append(next)\n",
        "  else:\n",
        "    ans.append(next)"
      ],
      "metadata": {
        "id": "Xdru4I3e6i2X"
      },
      "execution_count": null,
      "outputs": []
    },
    {
      "cell_type": "code",
      "source": [
        "ans.index(x)+1"
      ],
      "metadata": {
        "colab": {
          "base_uri": "https://localhost:8080/"
        },
        "id": "X0QoUxniuL5N",
        "outputId": "5b491345-f6fa-4770-a03a-8c51668bd97b"
      },
      "execution_count": null,
      "outputs": [
        {
          "output_type": "execute_result",
          "data": {
            "text/plain": [
              "5"
            ]
          },
          "metadata": {},
          "execution_count": 18
        }
      ]
    },
    {
      "cell_type": "code",
      "source": [],
      "metadata": {
        "id": "HC6N_clag1Ex"
      },
      "execution_count": null,
      "outputs": []
    },
    {
      "cell_type": "code",
      "source": [],
      "metadata": {
        "id": "0bz33Xlmhkel"
      },
      "execution_count": null,
      "outputs": []
    },
    {
      "cell_type": "code",
      "source": [
        "a='ABsBaaAsBcg'\n",
        "b='BsB'\n",
        "d=dict()\n",
        "for i in a:\n",
        "  d[i] = 0\n",
        "\n",
        "for i in a:\n",
        "  d[i]+=1\n",
        "for i in b:\n",
        "  d[i]-=1"
      ],
      "metadata": {
        "id": "xJmzicYNg1Ix"
      },
      "execution_count": null,
      "outputs": []
    },
    {
      "cell_type": "code",
      "source": [
        "d"
      ],
      "metadata": {
        "colab": {
          "base_uri": "https://localhost:8080/"
        },
        "id": "GgGuliiHg1MV",
        "outputId": "27986c4f-191d-4a9b-f12a-720d33ba8132"
      },
      "execution_count": null,
      "outputs": [
        {
          "output_type": "execute_result",
          "data": {
            "text/plain": [
              "{'A': 2, 'B': 1, 's': 1, 'a': 2, 'c': 1, 'g': 1}"
            ]
          },
          "metadata": {},
          "execution_count": 2
        }
      ]
    },
    {
      "cell_type": "code",
      "source": [],
      "metadata": {
        "id": "KAktCz_h9AhL"
      },
      "execution_count": null,
      "outputs": []
    },
    {
      "cell_type": "code",
      "source": [
        "a=['A','B','C']\n",
        "ans = []"
      ],
      "metadata": {
        "id": "mliuslm3IMUH"
      },
      "execution_count": null,
      "outputs": []
    },
    {
      "cell_type": "code",
      "source": [
        "def DFS(v):\n",
        "  if v == len(a):\n",
        "    print(' '.join(ans))\n",
        "  else:\n",
        "    ans.append(a[v])\n",
        "    DFS(v+1)\n",
        "    ans.remove(a[v])\n",
        "    DFS(v+1)\n"
      ],
      "metadata": {
        "id": "mX_9wL5UIMWX"
      },
      "execution_count": null,
      "outputs": []
    },
    {
      "cell_type": "code",
      "source": [
        "DFS(0)"
      ],
      "metadata": {
        "colab": {
          "base_uri": "https://localhost:8080/"
        },
        "id": "I9FIznkOIMYq",
        "outputId": "a129e4fb-9ec5-4474-9e5c-b1641122f0e1"
      },
      "execution_count": null,
      "outputs": [
        {
          "output_type": "stream",
          "name": "stdout",
          "text": [
            "A B C\n",
            "A B\n",
            "A C\n",
            "A\n",
            "B C\n",
            "B\n",
            "C\n",
            "\n"
          ]
        }
      ]
    },
    {
      "cell_type": "code",
      "source": [],
      "metadata": {
        "id": "tiXq5KAWIMba"
      },
      "execution_count": null,
      "outputs": []
    },
    {
      "cell_type": "code",
      "source": [
        "a=[1,3,5,8,9,10]\n",
        "tmp = [0] * (len(a))"
      ],
      "metadata": {
        "id": "Ah3JaoiEKYxz"
      },
      "execution_count": null,
      "outputs": []
    },
    {
      "cell_type": "code",
      "source": [
        "def DFS(v):\n",
        "  if v == len(a):\n",
        "    l_0 = []\n",
        "    l_1 = []\n",
        "    for i in [i for i, value in enumerate(tmp) if value == 0]:\n",
        "      l_0.append(a[i])\n",
        "    for i in [i for i, value in enumerate(tmp) if value == 1]:\n",
        "      l_1.append(a[i])\n",
        "    if sum(l_0) == sum(l_1):\n",
        "      print(l_0,' =  ',l_1)\n",
        "      print()\n",
        "\n",
        "\n",
        "  else:\n",
        "    tmp[v]=1\n",
        "    DFS(v+1)\n",
        "    tmp[v]=0\n",
        "    DFS(v+1)\n"
      ],
      "metadata": {
        "id": "O2Q3Kb3AIMdZ"
      },
      "execution_count": null,
      "outputs": []
    },
    {
      "cell_type": "code",
      "source": [
        "DFS(0)"
      ],
      "metadata": {
        "colab": {
          "base_uri": "https://localhost:8080/"
        },
        "id": "HFYe4s5oKKOO",
        "outputId": "7273986a-7e1a-4bec-f671-7d1f8b5dc181"
      },
      "execution_count": null,
      "outputs": [
        {
          "output_type": "stream",
          "name": "stdout",
          "text": [
            "[8, 10]  =   [1, 3, 5, 9]\n",
            "\n",
            "[3, 5, 10]  =   [1, 8, 9]\n",
            "\n",
            "[1, 8, 9]  =   [3, 5, 10]\n",
            "\n",
            "[1, 3, 5, 9]  =   [8, 10]\n",
            "\n"
          ]
        }
      ]
    },
    {
      "cell_type": "code",
      "source": [],
      "metadata": {
        "id": "j1lgRUnTIMfv"
      },
      "execution_count": null,
      "outputs": []
    },
    {
      "cell_type": "code",
      "source": [],
      "metadata": {
        "id": "rvOpCwGLpZnJ"
      },
      "execution_count": null,
      "outputs": []
    },
    {
      "cell_type": "code",
      "source": [
        "a=['A','B','C','D']\n",
        "m=3\n",
        "ans = [0] * m\n",
        "def DFS(v):\n",
        "  if v == m:\n",
        "    print(ans)\n",
        "\n",
        "  else :\n",
        "    for i in range(0,len(a)):\n",
        "      if a[i] not in ans:\n",
        "        ans[v] = a[i]\n",
        "        DFS(v+1)\n",
        "        ans[v] = 0\n",
        ""
      ],
      "metadata": {
        "id": "n91VDVnIVFYA"
      },
      "execution_count": 9,
      "outputs": []
    },
    {
      "cell_type": "code",
      "source": [
        "DFS(0)"
      ],
      "metadata": {
        "id": "aIVV9YwIpZp6",
        "colab": {
          "base_uri": "https://localhost:8080/"
        },
        "outputId": "e2e4162a-0f36-46e4-93e8-d30eb26848ff"
      },
      "execution_count": 10,
      "outputs": [
        {
          "output_type": "stream",
          "name": "stdout",
          "text": [
            "['A', 'B', 'C']\n",
            "['A', 'B', 'D']\n",
            "['A', 'C', 'B']\n",
            "['A', 'C', 'D']\n",
            "['A', 'D', 'B']\n",
            "['A', 'D', 'C']\n",
            "['B', 'A', 'C']\n",
            "['B', 'A', 'D']\n",
            "['B', 'C', 'A']\n",
            "['B', 'C', 'D']\n",
            "['B', 'D', 'A']\n",
            "['B', 'D', 'C']\n",
            "['C', 'A', 'B']\n",
            "['C', 'A', 'D']\n",
            "['C', 'B', 'A']\n",
            "['C', 'B', 'D']\n",
            "['C', 'D', 'A']\n",
            "['C', 'D', 'B']\n",
            "['D', 'A', 'B']\n",
            "['D', 'A', 'C']\n",
            "['D', 'B', 'A']\n",
            "['D', 'B', 'C']\n",
            "['D', 'C', 'A']\n",
            "['D', 'C', 'B']\n"
          ]
        }
      ]
    },
    {
      "cell_type": "code",
      "source": [
        "a=[81,58,42,33,61]\n",
        "sum(a)\n",
        "[a,sum(a)]"
      ],
      "metadata": {
        "id": "b1jsnC-xIMlO",
        "colab": {
          "base_uri": "https://localhost:8080/"
        },
        "outputId": "85fb16ae-7711-480c-ac1f-1e7eb967214c"
      },
      "execution_count": 12,
      "outputs": [
        {
          "output_type": "execute_result",
          "data": {
            "text/plain": [
              "[[81, 58, 42, 33, 61], 275]"
            ]
          },
          "metadata": {},
          "execution_count": 12
        }
      ]
    },
    {
      "cell_type": "code",
      "source": [
        "a=[81,58,42,33,61]\n",
        "n=len(a)\n",
        "m=259\n",
        "fin = []\n",
        "ans = []\n",
        "dif = 259\n",
        "def DFS(v):\n",
        "  if v == n:\n",
        "    if sum(ans) <= m:\n",
        "     fin.append([[i for i in ans],sum(ans)])\n",
        "  else:\n",
        "    ans.append(a[v])\n",
        "    DFS(v+1)\n",
        "    ans.remove(a[v])\n",
        "    DFS(v+1)\n"
      ],
      "metadata": {
        "id": "SuSCiQufltIC"
      },
      "execution_count": 60,
      "outputs": []
    },
    {
      "cell_type": "code",
      "source": [
        "DFS(0)\n",
        "fin"
      ],
      "metadata": {
        "colab": {
          "base_uri": "https://localhost:8080/"
        },
        "id": "HFPgVkUbltLP",
        "outputId": "0873eb40-044d-445e-bc0b-5bba61807876"
      },
      "execution_count": 61,
      "outputs": [
        {
          "output_type": "execute_result",
          "data": {
            "text/plain": [
              "[[[81, 58, 42, 33], 214],\n",
              " [[81, 58, 42, 61], 242],\n",
              " [[81, 58, 42], 181],\n",
              " [[81, 58, 33, 61], 233],\n",
              " [[81, 58, 33], 172],\n",
              " [[81, 58, 61], 200],\n",
              " [[81, 58], 139],\n",
              " [[81, 42, 33, 61], 217],\n",
              " [[81, 42, 33], 156],\n",
              " [[81, 42, 61], 184],\n",
              " [[81, 42], 123],\n",
              " [[81, 33, 61], 175],\n",
              " [[81, 33], 114],\n",
              " [[81, 61], 142],\n",
              " [[81], 81],\n",
              " [[58, 42, 33, 61], 194],\n",
              " [[58, 42, 33], 133],\n",
              " [[58, 42, 61], 161],\n",
              " [[58, 42], 100],\n",
              " [[58, 33, 61], 152],\n",
              " [[58, 33], 91],\n",
              " [[58, 61], 119],\n",
              " [[58], 58],\n",
              " [[42, 33, 61], 136],\n",
              " [[42, 33], 75],\n",
              " [[42, 61], 103],\n",
              " [[42], 42],\n",
              " [[33, 61], 94],\n",
              " [[33], 33],\n",
              " [[61], 61],\n",
              " [[], 0]]"
            ]
          },
          "metadata": {},
          "execution_count": 61
        }
      ]
    },
    {
      "cell_type": "code",
      "source": [
        "dif=[]\n",
        "for i in range(len(fin)):\n",
        "  dif.append(m-fin[i][1])\n",
        "\n",
        "print(dif)\n",
        "\n",
        "fin[dif.index(min(dif))]"
      ],
      "metadata": {
        "colab": {
          "base_uri": "https://localhost:8080/"
        },
        "id": "4CJsZZucltN8",
        "outputId": "11ae4087-8b27-4073-b72a-67ab9b934986"
      },
      "execution_count": 62,
      "outputs": [
        {
          "output_type": "stream",
          "name": "stdout",
          "text": [
            "[45, 17, 78, 26, 87, 59, 120, 42, 103, 75, 136, 84, 145, 117, 178, 65, 126, 98, 159, 107, 168, 140, 201, 123, 184, 156, 217, 165, 226, 198, 259]\n"
          ]
        },
        {
          "output_type": "execute_result",
          "data": {
            "text/plain": [
              "[[81, 58, 42, 61], 242]"
            ]
          },
          "metadata": {},
          "execution_count": 62
        }
      ]
    },
    {
      "cell_type": "code",
      "source": [
        "fin.sort()"
      ],
      "metadata": {
        "id": "1K36ln-86tue"
      },
      "execution_count": 53,
      "outputs": []
    },
    {
      "cell_type": "code",
      "source": [],
      "metadata": {
        "id": "HPQ2Mh7pPXh7"
      },
      "execution_count": null,
      "outputs": []
    },
    {
      "cell_type": "code",
      "source": [
        "weight=[]\n",
        "weight.append([1,2,1])\n",
        "for i in range(0,7):\n",
        "  l=[]\n",
        "  l.append(weight[i][0])\n",
        "  for j in range(len(weight[i])-1):\n",
        "    l.append((weight[i][j]+weight[i][j+1]))\n",
        "  l.append(weight[i][-1])\n",
        "  weight.append(l)\n",
        "\n",
        "print(weight)\n",
        "\n",
        "\n",
        "\n",
        ""
      ],
      "metadata": {
        "colab": {
          "base_uri": "https://localhost:8080/"
        },
        "id": "b87GqMrwtlQ0",
        "outputId": "d8c5a49d-4a59-4488-9242-95d31ccde312"
      },
      "execution_count": 1,
      "outputs": [
        {
          "output_type": "stream",
          "name": "stdout",
          "text": [
            "[[1, 2, 1], [1, 3, 3, 1], [1, 4, 6, 4, 1], [1, 5, 10, 10, 5, 1], [1, 6, 15, 20, 15, 6, 1], [1, 7, 21, 35, 35, 21, 7, 1], [1, 8, 28, 56, 70, 56, 28, 8, 1], [1, 9, 36, 84, 126, 126, 84, 36, 9, 1]]\n"
          ]
        }
      ]
    },
    {
      "cell_type": "code",
      "source": [
        "n=8\n",
        "ans = [0]*n\n",
        "m=500\n",
        "switch = 0\n",
        "import sys\n",
        "\n",
        "def DFS(v):\n",
        "  global switch\n",
        "  if switch==1:\n",
        "    return\n",
        "  if v==n:\n",
        "    if sum(x*y for x,y in zip(ans,weight[n-3])) == m:\n",
        "      print(ans)\n",
        "      switch=1\n",
        "  else:\n",
        "    for i in range(1,n+1):\n",
        "      if i not in ans:\n",
        "        ans[v]=i\n",
        "        DFS(v+1)\n",
        "        ans[v]=0\n"
      ],
      "metadata": {
        "id": "3rLV8wnQtldg"
      },
      "execution_count": 9,
      "outputs": []
    },
    {
      "cell_type": "code",
      "source": [
        "DFS(0)"
      ],
      "metadata": {
        "colab": {
          "base_uri": "https://localhost:8080/"
        },
        "id": "M5c6inA6N7jN",
        "outputId": "08df01aa-3711-4242-8118-37d34e47beb8"
      },
      "execution_count": 10,
      "outputs": [
        {
          "output_type": "stream",
          "name": "stdout",
          "text": [
            "[2, 3, 4, 1, 5, 6, 7, 8]\n"
          ]
        }
      ]
    },
    {
      "cell_type": "code",
      "source": [],
      "metadata": {
        "id": "0caQn1BuN7lx"
      },
      "execution_count": null,
      "outputs": []
    },
    {
      "cell_type": "code",
      "source": [],
      "metadata": {
        "id": "snBVSj4CN7pK"
      },
      "execution_count": null,
      "outputs": []
    },
    {
      "cell_type": "code",
      "source": [
        "a=['A','B','C','D','E']\n",
        "n=len(a)\n",
        "m=3\n",
        "ans=[0]*m\n",
        "fin=[]\n",
        "def DFS(v,s):\n",
        "  if v==m:\n",
        "    fin.append(' '.join(ans))\n",
        "  else:\n",
        "    for i in range(s,n):\n",
        "      ans[v] = a[i]\n",
        "      DFS(v+1,i+1)\n"
      ],
      "metadata": {
        "id": "D01F80_qJuDv"
      },
      "execution_count": 23,
      "outputs": []
    },
    {
      "cell_type": "code",
      "source": [
        "DFS(0,0)"
      ],
      "metadata": {
        "id": "EALgD9E7JuGk"
      },
      "execution_count": 24,
      "outputs": []
    },
    {
      "cell_type": "code",
      "source": [
        "fin"
      ],
      "metadata": {
        "colab": {
          "base_uri": "https://localhost:8080/"
        },
        "id": "EVQJP8qkJuJM",
        "outputId": "4466772b-fe22-48fc-99b3-1e1d349e9578"
      },
      "execution_count": 25,
      "outputs": [
        {
          "output_type": "execute_result",
          "data": {
            "text/plain": [
              "['A B C',\n",
              " 'A B D',\n",
              " 'A B E',\n",
              " 'A C D',\n",
              " 'A C E',\n",
              " 'A D E',\n",
              " 'B C D',\n",
              " 'B C E',\n",
              " 'B D E',\n",
              " 'C D E']"
            ]
          },
          "metadata": {},
          "execution_count": 25
        }
      ]
    },
    {
      "cell_type": "code",
      "source": [],
      "metadata": {
        "id": "WJDNeHuxJuRG"
      },
      "execution_count": null,
      "outputs": []
    },
    {
      "cell_type": "code",
      "source": [
        "loc = [0,0]\n",
        "dx = [1,0,-1,0]\n",
        "dy = [0,1,0,-1]\n",
        "d = 0\n",
        "\n",
        "a = 'GGRGGGGGLG'\n",
        "for i in a:\n",
        "  if i == 'G':\n",
        "    loc=[loc[0]+dx[d],loc[1]+dy[d]]\n",
        "  elif i =='R':\n",
        "    d = (d+1)%4\n",
        "  elif i == 'L':\n",
        "    d = (d-1)%4\n",
        "  if loc[0] < 0 or loc[0] > 5 or loc[1] < 0 or loc[1] > 5:\n",
        "    print('Robot out of range')\n",
        "    break\n",
        "  print(f'current location : {loc}, direction {d}')"
      ],
      "metadata": {
        "colab": {
          "base_uri": "https://localhost:8080/"
        },
        "id": "5iFWBIDfnKSc",
        "outputId": "482cf03e-87f2-49fc-b455-a17f76bb630e"
      },
      "execution_count": null,
      "outputs": [
        {
          "output_type": "stream",
          "name": "stdout",
          "text": [
            "current location : [1, 0], direction 0\n",
            "current location : [2, 0], direction 0\n",
            "current location : [2, 0], direction 1\n",
            "current location : [2, 1], direction 1\n",
            "current location : [2, 2], direction 1\n",
            "current location : [2, 3], direction 1\n",
            "current location : [2, 4], direction 1\n",
            "current location : [2, 5], direction 1\n",
            "current location : [2, 5], direction 0\n",
            "current location : [3, 5], direction 0\n"
          ]
        }
      ]
    },
    {
      "cell_type": "code",
      "source": [],
      "metadata": {
        "id": "922IYc1nopTi"
      },
      "execution_count": null,
      "outputs": []
    }
  ]
}