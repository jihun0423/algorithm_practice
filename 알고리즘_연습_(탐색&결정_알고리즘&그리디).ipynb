{
  "nbformat": 4,
  "nbformat_minor": 0,
  "metadata": {
    "colab": {
      "provenance": [],
      "authorship_tag": "ABX9TyNz+giqFk5/Y2SYtHbDmrvj",
      "include_colab_link": true
    },
    "kernelspec": {
      "name": "python3",
      "display_name": "Python 3"
    },
    "language_info": {
      "name": "python"
    }
  },
  "cells": [
    {
      "cell_type": "markdown",
      "metadata": {
        "id": "view-in-github",
        "colab_type": "text"
      },
      "source": [
        "<a href=\"https://colab.research.google.com/github/jihun0423/algorithm_practice/blob/main/%EC%95%8C%EA%B3%A0%EB%A6%AC%EC%A6%98_%EC%97%B0%EC%8A%B5_(%ED%83%90%EC%83%89%26%EA%B2%B0%EC%A0%95_%EC%95%8C%EA%B3%A0%EB%A6%AC%EC%A6%98%26%EA%B7%B8%EB%A6%AC%EB%94%94).ipynb\" target=\"_parent\"><img src=\"https://colab.research.google.com/assets/colab-badge.svg\" alt=\"Open In Colab\"/></a>"
      ]
    },
    {
      "cell_type": "markdown",
      "source": [
        "# 탐색 & 시뮬레이션"
      ],
      "metadata": {
        "id": "hLl3TibOXYR6"
      }
    },
    {
      "cell_type": "markdown",
      "source": [
        "## 평균과 가장 가까운 수"
      ],
      "metadata": {
        "id": "m0lO0_rho0Fj"
      }
    },
    {
      "cell_type": "code",
      "source": [
        "a = '90 80 70 60 50 40 70 60'\n",
        "a = list(map(int,a.split()))"
      ],
      "metadata": {
        "id": "eHgmgw9eo4K0"
      },
      "execution_count": null,
      "outputs": []
    },
    {
      "cell_type": "code",
      "source": [
        "import numpy as np\n",
        "avg = np.mean(a)"
      ],
      "metadata": {
        "id": "_Oxa5tEKHJhB"
      },
      "execution_count": null,
      "outputs": []
    },
    {
      "cell_type": "code",
      "source": [
        "l = []\n",
        "for i,j in enumerate(a-avg):\n",
        "  if abs(j) == min(abs(a-avg)):\n",
        "    l.append(a[i])\n",
        "\n",
        "a.index(max(l))+1\n",
        "\n",
        "\n"
      ],
      "metadata": {
        "colab": {
          "base_uri": "https://localhost:8080/"
        },
        "id": "O7RHz030HJjw",
        "outputId": "9b23ff6c-a7ef-4594-ad94-2a988b8e600d"
      },
      "execution_count": null,
      "outputs": [
        {
          "output_type": "execute_result",
          "data": {
            "text/plain": [
              "3"
            ]
          },
          "metadata": {},
          "execution_count": 28
        }
      ]
    },
    {
      "cell_type": "code",
      "source": [
        "l_2 = []\n",
        "for i,j in enumerate(a):\n",
        "  if j == max(l):\n",
        "    l_2.append(i)"
      ],
      "metadata": {
        "id": "A3vg7lvsJ6Et"
      },
      "execution_count": null,
      "outputs": []
    },
    {
      "cell_type": "code",
      "source": [
        "l_2[-1]+1"
      ],
      "metadata": {
        "colab": {
          "base_uri": "https://localhost:8080/"
        },
        "id": "1Hl_NNZ5KJNe",
        "outputId": "c48a0321-15bd-4bae-c9bd-9c6d44d8cc9d"
      },
      "execution_count": null,
      "outputs": [
        {
          "output_type": "execute_result",
          "data": {
            "text/plain": [
              "7"
            ]
          },
          "metadata": {},
          "execution_count": 31
        }
      ]
    },
    {
      "cell_type": "code",
      "source": [],
      "metadata": {
        "id": "D1cKpVZ9LOUe"
      },
      "execution_count": null,
      "outputs": []
    },
    {
      "cell_type": "markdown",
      "source": [
        "## 정다면체 2개의 눈의 합 중 최다 빈도"
      ],
      "metadata": {
        "id": "d2wqY2w5pYWG"
      }
    },
    {
      "cell_type": "markdown",
      "source": [
        "### Sol 1"
      ],
      "metadata": {
        "id": "U8_vc9M9qIlZ"
      }
    },
    {
      "cell_type": "code",
      "source": [
        "import pandas as pd\n",
        "t = input()\n",
        "n,m=list(map(int,t.split()))\n",
        "l=[]\n",
        "for i in range(n):\n",
        "  for j in range(m):\n",
        "    l.append((i+j+2))\n",
        "\n",
        "v=pd.DataFrame(l)[0].value_counts()\n",
        "print(' '.join(str(i) for i in v[v==v.max()].index))\n",
        "\n",
        "s=pd.Series(l).value_counts()\n",
        "print(' '.join(str(i) for i in s[s==s.max()].index))"
      ],
      "metadata": {
        "colab": {
          "base_uri": "https://localhost:8080/"
        },
        "id": "XJ-F_e-0LOWv",
        "outputId": "64e0bfd1-08dd-4dcc-fa46-42b521c8caa2"
      },
      "execution_count": null,
      "outputs": [
        {
          "output_type": "stream",
          "name": "stdout",
          "text": [
            "4 6\n",
            "5 6 7\n",
            "5 6 7\n"
          ]
        }
      ]
    },
    {
      "cell_type": "markdown",
      "source": [
        "### Sol 2"
      ],
      "metadata": {
        "id": "R0MWYg6gqN6T"
      }
    },
    {
      "cell_type": "code",
      "source": [
        "cnt = [0] * (n+m+2)\n",
        "for i in range(1,n+1):\n",
        "  for j in range(1,m+1):\n",
        "    cnt[i+j]+=1\n",
        "\n",
        "for i in range(len(cnt)):\n",
        "  if cnt[i] == max(cnt):\n",
        "    print(i,end=' ')\n"
      ],
      "metadata": {
        "colab": {
          "base_uri": "https://localhost:8080/"
        },
        "id": "mAhzJo-TNUsn",
        "outputId": "02057483-a42b-4099-f1d0-588128f6a2bb"
      },
      "execution_count": null,
      "outputs": [
        {
          "output_type": "stream",
          "name": "stdout",
          "text": [
            "5 6 7 "
          ]
        }
      ]
    },
    {
      "cell_type": "code",
      "source": [],
      "metadata": {
        "id": "CACuKBT8UatP"
      },
      "execution_count": null,
      "outputs": []
    },
    {
      "cell_type": "markdown",
      "source": [
        "## 각 자릿수의 합이 최대인 수"
      ],
      "metadata": {
        "id": "3ZEIezm2qTD3"
      }
    },
    {
      "cell_type": "code",
      "source": [
        "n = 3\n",
        "N = [12345,134,35]\n",
        "\n",
        "def digit_sum(x):\n",
        "  max = 0\n",
        "  for i in range(n):\n",
        "    if max < sum(map(int,str(x[i]))):\n",
        "      max = sum(map(int,str(x[i])))\n",
        "      m = i\n",
        "  return x[m]\n",
        "\n",
        "digit_sum(N)"
      ],
      "metadata": {
        "colab": {
          "base_uri": "https://localhost:8080/"
        },
        "id": "THlpQMmRUa3t",
        "outputId": "230b2edf-1372-4d34-8d86-c30c17a6b91d"
      },
      "execution_count": null,
      "outputs": [
        {
          "output_type": "execute_result",
          "data": {
            "text/plain": [
              "12345"
            ]
          },
          "metadata": {},
          "execution_count": 91
        }
      ]
    },
    {
      "cell_type": "code",
      "source": [
        "inp = '123 12345 536'\n",
        "l = list(map(int,inp.split(' ')))\n",
        "\n",
        "list(map(int,str(l[1])))\n",
        "\n"
      ],
      "metadata": {
        "colab": {
          "base_uri": "https://localhost:8080/"
        },
        "id": "NKY5g-lqX59m",
        "outputId": "c6cb02e6-655b-42d5-f969-a97e96cdcf88"
      },
      "execution_count": null,
      "outputs": [
        {
          "output_type": "execute_result",
          "data": {
            "text/plain": [
              "[1, 2, 3, 4, 5]"
            ]
          },
          "metadata": {},
          "execution_count": 96
        }
      ]
    },
    {
      "cell_type": "code",
      "source": [],
      "metadata": {
        "id": "apzGfPulqitl"
      },
      "execution_count": null,
      "outputs": []
    },
    {
      "cell_type": "markdown",
      "source": [
        "## 소수 (에라토스테네스 체)"
      ],
      "metadata": {
        "id": "vqmLA5Qmr8m_"
      }
    },
    {
      "cell_type": "code",
      "source": [
        "n=200000"
      ],
      "metadata": {
        "id": "gmO4vjric5DK"
      },
      "execution_count": null,
      "outputs": []
    },
    {
      "cell_type": "code",
      "source": [
        "cnt = [0] * (n+1)\n",
        "num = 0\n",
        "for i in range(2,n+1):\n",
        "  if cnt[i] == 0:\n",
        "    num+=1\n",
        "    for j in range(i,n+1,i):\n",
        "        cnt[j]=1\n",
        "print('\\n',num)"
      ],
      "metadata": {
        "colab": {
          "base_uri": "https://localhost:8080/"
        },
        "id": "utqjhAbxc5F2",
        "outputId": "f54afe37-fade-44ba-e4a5-1fbc1bf62157"
      },
      "execution_count": null,
      "outputs": [
        {
          "output_type": "stream",
          "name": "stdout",
          "text": [
            "\n",
            " 17984\n"
          ]
        }
      ]
    },
    {
      "cell_type": "code",
      "source": [],
      "metadata": {
        "id": "hZkZgM1lnAHO"
      },
      "execution_count": null,
      "outputs": []
    },
    {
      "cell_type": "code",
      "source": [],
      "metadata": {
        "id": "-w_48YxLsxXb"
      },
      "execution_count": null,
      "outputs": []
    },
    {
      "cell_type": "markdown",
      "source": [
        "## 주사위 곱 경우의수 확률"
      ],
      "metadata": {
        "id": "WD97k-scszfi"
      }
    },
    {
      "cell_type": "code",
      "source": [
        "n = 6\n",
        "ch = [0] * ((n**3)+1)\n",
        "\n",
        "for i in range(1,n+1):\n",
        "  for j in range(1,n+1):\n",
        "    for k in range(1,n+1):\n",
        "      ch[(i*j*k)] += 1\n"
      ],
      "metadata": {
        "id": "7NAmXeJnnAKP"
      },
      "execution_count": null,
      "outputs": []
    },
    {
      "cell_type": "code",
      "source": [],
      "metadata": {
        "id": "h4cb7sMvs64p"
      },
      "execution_count": null,
      "outputs": []
    },
    {
      "cell_type": "code",
      "source": [
        "import numpy as np\n",
        "np.max(ch)"
      ],
      "metadata": {
        "colab": {
          "base_uri": "https://localhost:8080/"
        },
        "id": "EJRyI3dEoGY5",
        "outputId": "9662b932-c1f9-4c57-f8c8-28438b2ad0ab"
      },
      "execution_count": null,
      "outputs": [
        {
          "output_type": "execute_result",
          "data": {
            "text/plain": [
              "15"
            ]
          },
          "metadata": {},
          "execution_count": 198
        }
      ]
    },
    {
      "cell_type": "code",
      "source": [
        "for i,j in enumerate(ch):\n",
        "  if j == np.max(ch):\n",
        "    print(i,end=' ')"
      ],
      "metadata": {
        "colab": {
          "base_uri": "https://localhost:8080/"
        },
        "id": "CGq70vJ_na6j",
        "outputId": "c6c52d8c-11b3-4016-84fa-ae87b3ce28ff"
      },
      "execution_count": null,
      "outputs": [
        {
          "output_type": "stream",
          "name": "stdout",
          "text": [
            "12 24 "
          ]
        }
      ]
    },
    {
      "cell_type": "code",
      "source": [
        "df=pd.DataFrame(pd.Series(ch)/sum(ch),columns=['prob'])\n",
        "df[df['prob']!=0].reset_index()"
      ],
      "metadata": {
        "colab": {
          "base_uri": "https://localhost:8080/",
          "height": 1000
        },
        "id": "C7U9Z2aU53uV",
        "outputId": "5f5bd035-a0d3-4b03-fc1f-f9057961f118"
      },
      "execution_count": null,
      "outputs": [
        {
          "output_type": "execute_result",
          "data": {
            "text/plain": [
              "    index      prob\n",
              "0       1  0.004630\n",
              "1       2  0.013889\n",
              "2       3  0.013889\n",
              "3       4  0.027778\n",
              "4       5  0.013889\n",
              "5       6  0.041667\n",
              "6       8  0.032407\n",
              "7       9  0.013889\n",
              "8      10  0.027778\n",
              "9      12  0.069444\n",
              "10     15  0.027778\n",
              "11     16  0.027778\n",
              "12     18  0.041667\n",
              "13     20  0.041667\n",
              "14     24  0.069444\n",
              "15     25  0.013889\n",
              "16     27  0.004630\n",
              "17     30  0.055556\n",
              "18     32  0.013889\n",
              "19     36  0.055556\n",
              "20     40  0.027778\n",
              "21     45  0.013889\n",
              "22     48  0.041667\n",
              "23     50  0.013889\n",
              "24     54  0.013889\n",
              "25     60  0.055556\n",
              "26     64  0.004630\n",
              "27     72  0.041667\n",
              "28     75  0.013889\n",
              "29     80  0.013889\n",
              "30     90  0.027778\n",
              "31     96  0.013889\n",
              "32    100  0.013889\n",
              "33    108  0.013889\n",
              "34    120  0.027778\n",
              "35    125  0.004630\n",
              "36    144  0.013889\n",
              "37    150  0.013889\n",
              "38    180  0.013889\n",
              "39    216  0.004630"
            ],
            "text/html": [
              "\n",
              "  <div id=\"df-5375f51f-0d34-41eb-a3c0-83f80a2b408a\" class=\"colab-df-container\">\n",
              "    <div>\n",
              "<style scoped>\n",
              "    .dataframe tbody tr th:only-of-type {\n",
              "        vertical-align: middle;\n",
              "    }\n",
              "\n",
              "    .dataframe tbody tr th {\n",
              "        vertical-align: top;\n",
              "    }\n",
              "\n",
              "    .dataframe thead th {\n",
              "        text-align: right;\n",
              "    }\n",
              "</style>\n",
              "<table border=\"1\" class=\"dataframe\">\n",
              "  <thead>\n",
              "    <tr style=\"text-align: right;\">\n",
              "      <th></th>\n",
              "      <th>index</th>\n",
              "      <th>prob</th>\n",
              "    </tr>\n",
              "  </thead>\n",
              "  <tbody>\n",
              "    <tr>\n",
              "      <th>0</th>\n",
              "      <td>1</td>\n",
              "      <td>0.004630</td>\n",
              "    </tr>\n",
              "    <tr>\n",
              "      <th>1</th>\n",
              "      <td>2</td>\n",
              "      <td>0.013889</td>\n",
              "    </tr>\n",
              "    <tr>\n",
              "      <th>2</th>\n",
              "      <td>3</td>\n",
              "      <td>0.013889</td>\n",
              "    </tr>\n",
              "    <tr>\n",
              "      <th>3</th>\n",
              "      <td>4</td>\n",
              "      <td>0.027778</td>\n",
              "    </tr>\n",
              "    <tr>\n",
              "      <th>4</th>\n",
              "      <td>5</td>\n",
              "      <td>0.013889</td>\n",
              "    </tr>\n",
              "    <tr>\n",
              "      <th>5</th>\n",
              "      <td>6</td>\n",
              "      <td>0.041667</td>\n",
              "    </tr>\n",
              "    <tr>\n",
              "      <th>6</th>\n",
              "      <td>8</td>\n",
              "      <td>0.032407</td>\n",
              "    </tr>\n",
              "    <tr>\n",
              "      <th>7</th>\n",
              "      <td>9</td>\n",
              "      <td>0.013889</td>\n",
              "    </tr>\n",
              "    <tr>\n",
              "      <th>8</th>\n",
              "      <td>10</td>\n",
              "      <td>0.027778</td>\n",
              "    </tr>\n",
              "    <tr>\n",
              "      <th>9</th>\n",
              "      <td>12</td>\n",
              "      <td>0.069444</td>\n",
              "    </tr>\n",
              "    <tr>\n",
              "      <th>10</th>\n",
              "      <td>15</td>\n",
              "      <td>0.027778</td>\n",
              "    </tr>\n",
              "    <tr>\n",
              "      <th>11</th>\n",
              "      <td>16</td>\n",
              "      <td>0.027778</td>\n",
              "    </tr>\n",
              "    <tr>\n",
              "      <th>12</th>\n",
              "      <td>18</td>\n",
              "      <td>0.041667</td>\n",
              "    </tr>\n",
              "    <tr>\n",
              "      <th>13</th>\n",
              "      <td>20</td>\n",
              "      <td>0.041667</td>\n",
              "    </tr>\n",
              "    <tr>\n",
              "      <th>14</th>\n",
              "      <td>24</td>\n",
              "      <td>0.069444</td>\n",
              "    </tr>\n",
              "    <tr>\n",
              "      <th>15</th>\n",
              "      <td>25</td>\n",
              "      <td>0.013889</td>\n",
              "    </tr>\n",
              "    <tr>\n",
              "      <th>16</th>\n",
              "      <td>27</td>\n",
              "      <td>0.004630</td>\n",
              "    </tr>\n",
              "    <tr>\n",
              "      <th>17</th>\n",
              "      <td>30</td>\n",
              "      <td>0.055556</td>\n",
              "    </tr>\n",
              "    <tr>\n",
              "      <th>18</th>\n",
              "      <td>32</td>\n",
              "      <td>0.013889</td>\n",
              "    </tr>\n",
              "    <tr>\n",
              "      <th>19</th>\n",
              "      <td>36</td>\n",
              "      <td>0.055556</td>\n",
              "    </tr>\n",
              "    <tr>\n",
              "      <th>20</th>\n",
              "      <td>40</td>\n",
              "      <td>0.027778</td>\n",
              "    </tr>\n",
              "    <tr>\n",
              "      <th>21</th>\n",
              "      <td>45</td>\n",
              "      <td>0.013889</td>\n",
              "    </tr>\n",
              "    <tr>\n",
              "      <th>22</th>\n",
              "      <td>48</td>\n",
              "      <td>0.041667</td>\n",
              "    </tr>\n",
              "    <tr>\n",
              "      <th>23</th>\n",
              "      <td>50</td>\n",
              "      <td>0.013889</td>\n",
              "    </tr>\n",
              "    <tr>\n",
              "      <th>24</th>\n",
              "      <td>54</td>\n",
              "      <td>0.013889</td>\n",
              "    </tr>\n",
              "    <tr>\n",
              "      <th>25</th>\n",
              "      <td>60</td>\n",
              "      <td>0.055556</td>\n",
              "    </tr>\n",
              "    <tr>\n",
              "      <th>26</th>\n",
              "      <td>64</td>\n",
              "      <td>0.004630</td>\n",
              "    </tr>\n",
              "    <tr>\n",
              "      <th>27</th>\n",
              "      <td>72</td>\n",
              "      <td>0.041667</td>\n",
              "    </tr>\n",
              "    <tr>\n",
              "      <th>28</th>\n",
              "      <td>75</td>\n",
              "      <td>0.013889</td>\n",
              "    </tr>\n",
              "    <tr>\n",
              "      <th>29</th>\n",
              "      <td>80</td>\n",
              "      <td>0.013889</td>\n",
              "    </tr>\n",
              "    <tr>\n",
              "      <th>30</th>\n",
              "      <td>90</td>\n",
              "      <td>0.027778</td>\n",
              "    </tr>\n",
              "    <tr>\n",
              "      <th>31</th>\n",
              "      <td>96</td>\n",
              "      <td>0.013889</td>\n",
              "    </tr>\n",
              "    <tr>\n",
              "      <th>32</th>\n",
              "      <td>100</td>\n",
              "      <td>0.013889</td>\n",
              "    </tr>\n",
              "    <tr>\n",
              "      <th>33</th>\n",
              "      <td>108</td>\n",
              "      <td>0.013889</td>\n",
              "    </tr>\n",
              "    <tr>\n",
              "      <th>34</th>\n",
              "      <td>120</td>\n",
              "      <td>0.027778</td>\n",
              "    </tr>\n",
              "    <tr>\n",
              "      <th>35</th>\n",
              "      <td>125</td>\n",
              "      <td>0.004630</td>\n",
              "    </tr>\n",
              "    <tr>\n",
              "      <th>36</th>\n",
              "      <td>144</td>\n",
              "      <td>0.013889</td>\n",
              "    </tr>\n",
              "    <tr>\n",
              "      <th>37</th>\n",
              "      <td>150</td>\n",
              "      <td>0.013889</td>\n",
              "    </tr>\n",
              "    <tr>\n",
              "      <th>38</th>\n",
              "      <td>180</td>\n",
              "      <td>0.013889</td>\n",
              "    </tr>\n",
              "    <tr>\n",
              "      <th>39</th>\n",
              "      <td>216</td>\n",
              "      <td>0.004630</td>\n",
              "    </tr>\n",
              "  </tbody>\n",
              "</table>\n",
              "</div>\n",
              "    <div class=\"colab-df-buttons\">\n",
              "\n",
              "  <div class=\"colab-df-container\">\n",
              "    <button class=\"colab-df-convert\" onclick=\"convertToInteractive('df-5375f51f-0d34-41eb-a3c0-83f80a2b408a')\"\n",
              "            title=\"Convert this dataframe to an interactive table.\"\n",
              "            style=\"display:none;\">\n",
              "\n",
              "  <svg xmlns=\"http://www.w3.org/2000/svg\" height=\"24px\" viewBox=\"0 -960 960 960\">\n",
              "    <path d=\"M120-120v-720h720v720H120Zm60-500h600v-160H180v160Zm220 220h160v-160H400v160Zm0 220h160v-160H400v160ZM180-400h160v-160H180v160Zm440 0h160v-160H620v160ZM180-180h160v-160H180v160Zm440 0h160v-160H620v160Z\"/>\n",
              "  </svg>\n",
              "    </button>\n",
              "\n",
              "  <style>\n",
              "    .colab-df-container {\n",
              "      display:flex;\n",
              "      gap: 12px;\n",
              "    }\n",
              "\n",
              "    .colab-df-convert {\n",
              "      background-color: #E8F0FE;\n",
              "      border: none;\n",
              "      border-radius: 50%;\n",
              "      cursor: pointer;\n",
              "      display: none;\n",
              "      fill: #1967D2;\n",
              "      height: 32px;\n",
              "      padding: 0 0 0 0;\n",
              "      width: 32px;\n",
              "    }\n",
              "\n",
              "    .colab-df-convert:hover {\n",
              "      background-color: #E2EBFA;\n",
              "      box-shadow: 0px 1px 2px rgba(60, 64, 67, 0.3), 0px 1px 3px 1px rgba(60, 64, 67, 0.15);\n",
              "      fill: #174EA6;\n",
              "    }\n",
              "\n",
              "    .colab-df-buttons div {\n",
              "      margin-bottom: 4px;\n",
              "    }\n",
              "\n",
              "    [theme=dark] .colab-df-convert {\n",
              "      background-color: #3B4455;\n",
              "      fill: #D2E3FC;\n",
              "    }\n",
              "\n",
              "    [theme=dark] .colab-df-convert:hover {\n",
              "      background-color: #434B5C;\n",
              "      box-shadow: 0px 1px 3px 1px rgba(0, 0, 0, 0.15);\n",
              "      filter: drop-shadow(0px 1px 2px rgba(0, 0, 0, 0.3));\n",
              "      fill: #FFFFFF;\n",
              "    }\n",
              "  </style>\n",
              "\n",
              "    <script>\n",
              "      const buttonEl =\n",
              "        document.querySelector('#df-5375f51f-0d34-41eb-a3c0-83f80a2b408a button.colab-df-convert');\n",
              "      buttonEl.style.display =\n",
              "        google.colab.kernel.accessAllowed ? 'block' : 'none';\n",
              "\n",
              "      async function convertToInteractive(key) {\n",
              "        const element = document.querySelector('#df-5375f51f-0d34-41eb-a3c0-83f80a2b408a');\n",
              "        const dataTable =\n",
              "          await google.colab.kernel.invokeFunction('convertToInteractive',\n",
              "                                                    [key], {});\n",
              "        if (!dataTable) return;\n",
              "\n",
              "        const docLinkHtml = 'Like what you see? Visit the ' +\n",
              "          '<a target=\"_blank\" href=https://colab.research.google.com/notebooks/data_table.ipynb>data table notebook</a>'\n",
              "          + ' to learn more about interactive tables.';\n",
              "        element.innerHTML = '';\n",
              "        dataTable['output_type'] = 'display_data';\n",
              "        await google.colab.output.renderOutput(dataTable, element);\n",
              "        const docLink = document.createElement('div');\n",
              "        docLink.innerHTML = docLinkHtml;\n",
              "        element.appendChild(docLink);\n",
              "      }\n",
              "    </script>\n",
              "  </div>\n",
              "\n",
              "\n",
              "<div id=\"df-41c60d13-dfa3-4de3-be04-5da68432d0ed\">\n",
              "  <button class=\"colab-df-quickchart\" onclick=\"quickchart('df-41c60d13-dfa3-4de3-be04-5da68432d0ed')\"\n",
              "            title=\"Suggest charts\"\n",
              "            style=\"display:none;\">\n",
              "\n",
              "<svg xmlns=\"http://www.w3.org/2000/svg\" height=\"24px\"viewBox=\"0 0 24 24\"\n",
              "     width=\"24px\">\n",
              "    <g>\n",
              "        <path d=\"M19 3H5c-1.1 0-2 .9-2 2v14c0 1.1.9 2 2 2h14c1.1 0 2-.9 2-2V5c0-1.1-.9-2-2-2zM9 17H7v-7h2v7zm4 0h-2V7h2v10zm4 0h-2v-4h2v4z\"/>\n",
              "    </g>\n",
              "</svg>\n",
              "  </button>\n",
              "\n",
              "<style>\n",
              "  .colab-df-quickchart {\n",
              "      --bg-color: #E8F0FE;\n",
              "      --fill-color: #1967D2;\n",
              "      --hover-bg-color: #E2EBFA;\n",
              "      --hover-fill-color: #174EA6;\n",
              "      --disabled-fill-color: #AAA;\n",
              "      --disabled-bg-color: #DDD;\n",
              "  }\n",
              "\n",
              "  [theme=dark] .colab-df-quickchart {\n",
              "      --bg-color: #3B4455;\n",
              "      --fill-color: #D2E3FC;\n",
              "      --hover-bg-color: #434B5C;\n",
              "      --hover-fill-color: #FFFFFF;\n",
              "      --disabled-bg-color: #3B4455;\n",
              "      --disabled-fill-color: #666;\n",
              "  }\n",
              "\n",
              "  .colab-df-quickchart {\n",
              "    background-color: var(--bg-color);\n",
              "    border: none;\n",
              "    border-radius: 50%;\n",
              "    cursor: pointer;\n",
              "    display: none;\n",
              "    fill: var(--fill-color);\n",
              "    height: 32px;\n",
              "    padding: 0;\n",
              "    width: 32px;\n",
              "  }\n",
              "\n",
              "  .colab-df-quickchart:hover {\n",
              "    background-color: var(--hover-bg-color);\n",
              "    box-shadow: 0 1px 2px rgba(60, 64, 67, 0.3), 0 1px 3px 1px rgba(60, 64, 67, 0.15);\n",
              "    fill: var(--button-hover-fill-color);\n",
              "  }\n",
              "\n",
              "  .colab-df-quickchart-complete:disabled,\n",
              "  .colab-df-quickchart-complete:disabled:hover {\n",
              "    background-color: var(--disabled-bg-color);\n",
              "    fill: var(--disabled-fill-color);\n",
              "    box-shadow: none;\n",
              "  }\n",
              "\n",
              "  .colab-df-spinner {\n",
              "    border: 2px solid var(--fill-color);\n",
              "    border-color: transparent;\n",
              "    border-bottom-color: var(--fill-color);\n",
              "    animation:\n",
              "      spin 1s steps(1) infinite;\n",
              "  }\n",
              "\n",
              "  @keyframes spin {\n",
              "    0% {\n",
              "      border-color: transparent;\n",
              "      border-bottom-color: var(--fill-color);\n",
              "      border-left-color: var(--fill-color);\n",
              "    }\n",
              "    20% {\n",
              "      border-color: transparent;\n",
              "      border-left-color: var(--fill-color);\n",
              "      border-top-color: var(--fill-color);\n",
              "    }\n",
              "    30% {\n",
              "      border-color: transparent;\n",
              "      border-left-color: var(--fill-color);\n",
              "      border-top-color: var(--fill-color);\n",
              "      border-right-color: var(--fill-color);\n",
              "    }\n",
              "    40% {\n",
              "      border-color: transparent;\n",
              "      border-right-color: var(--fill-color);\n",
              "      border-top-color: var(--fill-color);\n",
              "    }\n",
              "    60% {\n",
              "      border-color: transparent;\n",
              "      border-right-color: var(--fill-color);\n",
              "    }\n",
              "    80% {\n",
              "      border-color: transparent;\n",
              "      border-right-color: var(--fill-color);\n",
              "      border-bottom-color: var(--fill-color);\n",
              "    }\n",
              "    90% {\n",
              "      border-color: transparent;\n",
              "      border-bottom-color: var(--fill-color);\n",
              "    }\n",
              "  }\n",
              "</style>\n",
              "\n",
              "  <script>\n",
              "    async function quickchart(key) {\n",
              "      const quickchartButtonEl =\n",
              "        document.querySelector('#' + key + ' button');\n",
              "      quickchartButtonEl.disabled = true;  // To prevent multiple clicks.\n",
              "      quickchartButtonEl.classList.add('colab-df-spinner');\n",
              "      try {\n",
              "        const charts = await google.colab.kernel.invokeFunction(\n",
              "            'suggestCharts', [key], {});\n",
              "      } catch (error) {\n",
              "        console.error('Error during call to suggestCharts:', error);\n",
              "      }\n",
              "      quickchartButtonEl.classList.remove('colab-df-spinner');\n",
              "      quickchartButtonEl.classList.add('colab-df-quickchart-complete');\n",
              "    }\n",
              "    (() => {\n",
              "      let quickchartButtonEl =\n",
              "        document.querySelector('#df-41c60d13-dfa3-4de3-be04-5da68432d0ed button');\n",
              "      quickchartButtonEl.style.display =\n",
              "        google.colab.kernel.accessAllowed ? 'block' : 'none';\n",
              "    })();\n",
              "  </script>\n",
              "</div>\n",
              "\n",
              "    </div>\n",
              "  </div>\n"
            ]
          },
          "metadata": {},
          "execution_count": 222
        }
      ]
    },
    {
      "cell_type": "code",
      "source": [
        "df[df['prob']==df['prob'].max()]"
      ],
      "metadata": {
        "colab": {
          "base_uri": "https://localhost:8080/",
          "height": 112
        },
        "id": "OMNYbBQ67Dgk",
        "outputId": "737bcf09-5ec4-4121-9aaa-5bde8f87b36f"
      },
      "execution_count": null,
      "outputs": [
        {
          "output_type": "execute_result",
          "data": {
            "text/plain": [
              "        prob\n",
              "12  0.069444\n",
              "24  0.069444"
            ],
            "text/html": [
              "\n",
              "  <div id=\"df-3d6138cf-fc96-419a-91e7-d8055c66f618\" class=\"colab-df-container\">\n",
              "    <div>\n",
              "<style scoped>\n",
              "    .dataframe tbody tr th:only-of-type {\n",
              "        vertical-align: middle;\n",
              "    }\n",
              "\n",
              "    .dataframe tbody tr th {\n",
              "        vertical-align: top;\n",
              "    }\n",
              "\n",
              "    .dataframe thead th {\n",
              "        text-align: right;\n",
              "    }\n",
              "</style>\n",
              "<table border=\"1\" class=\"dataframe\">\n",
              "  <thead>\n",
              "    <tr style=\"text-align: right;\">\n",
              "      <th></th>\n",
              "      <th>prob</th>\n",
              "    </tr>\n",
              "  </thead>\n",
              "  <tbody>\n",
              "    <tr>\n",
              "      <th>12</th>\n",
              "      <td>0.069444</td>\n",
              "    </tr>\n",
              "    <tr>\n",
              "      <th>24</th>\n",
              "      <td>0.069444</td>\n",
              "    </tr>\n",
              "  </tbody>\n",
              "</table>\n",
              "</div>\n",
              "    <div class=\"colab-df-buttons\">\n",
              "\n",
              "  <div class=\"colab-df-container\">\n",
              "    <button class=\"colab-df-convert\" onclick=\"convertToInteractive('df-3d6138cf-fc96-419a-91e7-d8055c66f618')\"\n",
              "            title=\"Convert this dataframe to an interactive table.\"\n",
              "            style=\"display:none;\">\n",
              "\n",
              "  <svg xmlns=\"http://www.w3.org/2000/svg\" height=\"24px\" viewBox=\"0 -960 960 960\">\n",
              "    <path d=\"M120-120v-720h720v720H120Zm60-500h600v-160H180v160Zm220 220h160v-160H400v160Zm0 220h160v-160H400v160ZM180-400h160v-160H180v160Zm440 0h160v-160H620v160ZM180-180h160v-160H180v160Zm440 0h160v-160H620v160Z\"/>\n",
              "  </svg>\n",
              "    </button>\n",
              "\n",
              "  <style>\n",
              "    .colab-df-container {\n",
              "      display:flex;\n",
              "      gap: 12px;\n",
              "    }\n",
              "\n",
              "    .colab-df-convert {\n",
              "      background-color: #E8F0FE;\n",
              "      border: none;\n",
              "      border-radius: 50%;\n",
              "      cursor: pointer;\n",
              "      display: none;\n",
              "      fill: #1967D2;\n",
              "      height: 32px;\n",
              "      padding: 0 0 0 0;\n",
              "      width: 32px;\n",
              "    }\n",
              "\n",
              "    .colab-df-convert:hover {\n",
              "      background-color: #E2EBFA;\n",
              "      box-shadow: 0px 1px 2px rgba(60, 64, 67, 0.3), 0px 1px 3px 1px rgba(60, 64, 67, 0.15);\n",
              "      fill: #174EA6;\n",
              "    }\n",
              "\n",
              "    .colab-df-buttons div {\n",
              "      margin-bottom: 4px;\n",
              "    }\n",
              "\n",
              "    [theme=dark] .colab-df-convert {\n",
              "      background-color: #3B4455;\n",
              "      fill: #D2E3FC;\n",
              "    }\n",
              "\n",
              "    [theme=dark] .colab-df-convert:hover {\n",
              "      background-color: #434B5C;\n",
              "      box-shadow: 0px 1px 3px 1px rgba(0, 0, 0, 0.15);\n",
              "      filter: drop-shadow(0px 1px 2px rgba(0, 0, 0, 0.3));\n",
              "      fill: #FFFFFF;\n",
              "    }\n",
              "  </style>\n",
              "\n",
              "    <script>\n",
              "      const buttonEl =\n",
              "        document.querySelector('#df-3d6138cf-fc96-419a-91e7-d8055c66f618 button.colab-df-convert');\n",
              "      buttonEl.style.display =\n",
              "        google.colab.kernel.accessAllowed ? 'block' : 'none';\n",
              "\n",
              "      async function convertToInteractive(key) {\n",
              "        const element = document.querySelector('#df-3d6138cf-fc96-419a-91e7-d8055c66f618');\n",
              "        const dataTable =\n",
              "          await google.colab.kernel.invokeFunction('convertToInteractive',\n",
              "                                                    [key], {});\n",
              "        if (!dataTable) return;\n",
              "\n",
              "        const docLinkHtml = 'Like what you see? Visit the ' +\n",
              "          '<a target=\"_blank\" href=https://colab.research.google.com/notebooks/data_table.ipynb>data table notebook</a>'\n",
              "          + ' to learn more about interactive tables.';\n",
              "        element.innerHTML = '';\n",
              "        dataTable['output_type'] = 'display_data';\n",
              "        await google.colab.output.renderOutput(dataTable, element);\n",
              "        const docLink = document.createElement('div');\n",
              "        docLink.innerHTML = docLinkHtml;\n",
              "        element.appendChild(docLink);\n",
              "      }\n",
              "    </script>\n",
              "  </div>\n",
              "\n",
              "\n",
              "<div id=\"df-17768ce0-1059-4a1d-8c4c-9ddab4237f4c\">\n",
              "  <button class=\"colab-df-quickchart\" onclick=\"quickchart('df-17768ce0-1059-4a1d-8c4c-9ddab4237f4c')\"\n",
              "            title=\"Suggest charts\"\n",
              "            style=\"display:none;\">\n",
              "\n",
              "<svg xmlns=\"http://www.w3.org/2000/svg\" height=\"24px\"viewBox=\"0 0 24 24\"\n",
              "     width=\"24px\">\n",
              "    <g>\n",
              "        <path d=\"M19 3H5c-1.1 0-2 .9-2 2v14c0 1.1.9 2 2 2h14c1.1 0 2-.9 2-2V5c0-1.1-.9-2-2-2zM9 17H7v-7h2v7zm4 0h-2V7h2v10zm4 0h-2v-4h2v4z\"/>\n",
              "    </g>\n",
              "</svg>\n",
              "  </button>\n",
              "\n",
              "<style>\n",
              "  .colab-df-quickchart {\n",
              "      --bg-color: #E8F0FE;\n",
              "      --fill-color: #1967D2;\n",
              "      --hover-bg-color: #E2EBFA;\n",
              "      --hover-fill-color: #174EA6;\n",
              "      --disabled-fill-color: #AAA;\n",
              "      --disabled-bg-color: #DDD;\n",
              "  }\n",
              "\n",
              "  [theme=dark] .colab-df-quickchart {\n",
              "      --bg-color: #3B4455;\n",
              "      --fill-color: #D2E3FC;\n",
              "      --hover-bg-color: #434B5C;\n",
              "      --hover-fill-color: #FFFFFF;\n",
              "      --disabled-bg-color: #3B4455;\n",
              "      --disabled-fill-color: #666;\n",
              "  }\n",
              "\n",
              "  .colab-df-quickchart {\n",
              "    background-color: var(--bg-color);\n",
              "    border: none;\n",
              "    border-radius: 50%;\n",
              "    cursor: pointer;\n",
              "    display: none;\n",
              "    fill: var(--fill-color);\n",
              "    height: 32px;\n",
              "    padding: 0;\n",
              "    width: 32px;\n",
              "  }\n",
              "\n",
              "  .colab-df-quickchart:hover {\n",
              "    background-color: var(--hover-bg-color);\n",
              "    box-shadow: 0 1px 2px rgba(60, 64, 67, 0.3), 0 1px 3px 1px rgba(60, 64, 67, 0.15);\n",
              "    fill: var(--button-hover-fill-color);\n",
              "  }\n",
              "\n",
              "  .colab-df-quickchart-complete:disabled,\n",
              "  .colab-df-quickchart-complete:disabled:hover {\n",
              "    background-color: var(--disabled-bg-color);\n",
              "    fill: var(--disabled-fill-color);\n",
              "    box-shadow: none;\n",
              "  }\n",
              "\n",
              "  .colab-df-spinner {\n",
              "    border: 2px solid var(--fill-color);\n",
              "    border-color: transparent;\n",
              "    border-bottom-color: var(--fill-color);\n",
              "    animation:\n",
              "      spin 1s steps(1) infinite;\n",
              "  }\n",
              "\n",
              "  @keyframes spin {\n",
              "    0% {\n",
              "      border-color: transparent;\n",
              "      border-bottom-color: var(--fill-color);\n",
              "      border-left-color: var(--fill-color);\n",
              "    }\n",
              "    20% {\n",
              "      border-color: transparent;\n",
              "      border-left-color: var(--fill-color);\n",
              "      border-top-color: var(--fill-color);\n",
              "    }\n",
              "    30% {\n",
              "      border-color: transparent;\n",
              "      border-left-color: var(--fill-color);\n",
              "      border-top-color: var(--fill-color);\n",
              "      border-right-color: var(--fill-color);\n",
              "    }\n",
              "    40% {\n",
              "      border-color: transparent;\n",
              "      border-right-color: var(--fill-color);\n",
              "      border-top-color: var(--fill-color);\n",
              "    }\n",
              "    60% {\n",
              "      border-color: transparent;\n",
              "      border-right-color: var(--fill-color);\n",
              "    }\n",
              "    80% {\n",
              "      border-color: transparent;\n",
              "      border-right-color: var(--fill-color);\n",
              "      border-bottom-color: var(--fill-color);\n",
              "    }\n",
              "    90% {\n",
              "      border-color: transparent;\n",
              "      border-bottom-color: var(--fill-color);\n",
              "    }\n",
              "  }\n",
              "</style>\n",
              "\n",
              "  <script>\n",
              "    async function quickchart(key) {\n",
              "      const quickchartButtonEl =\n",
              "        document.querySelector('#' + key + ' button');\n",
              "      quickchartButtonEl.disabled = true;  // To prevent multiple clicks.\n",
              "      quickchartButtonEl.classList.add('colab-df-spinner');\n",
              "      try {\n",
              "        const charts = await google.colab.kernel.invokeFunction(\n",
              "            'suggestCharts', [key], {});\n",
              "      } catch (error) {\n",
              "        console.error('Error during call to suggestCharts:', error);\n",
              "      }\n",
              "      quickchartButtonEl.classList.remove('colab-df-spinner');\n",
              "      quickchartButtonEl.classList.add('colab-df-quickchart-complete');\n",
              "    }\n",
              "    (() => {\n",
              "      let quickchartButtonEl =\n",
              "        document.querySelector('#df-17768ce0-1059-4a1d-8c4c-9ddab4237f4c button');\n",
              "      quickchartButtonEl.style.display =\n",
              "        google.colab.kernel.accessAllowed ? 'block' : 'none';\n",
              "    })();\n",
              "  </script>\n",
              "</div>\n",
              "\n",
              "    </div>\n",
              "  </div>\n"
            ]
          },
          "metadata": {},
          "execution_count": 223
        }
      ]
    },
    {
      "cell_type": "code",
      "source": [],
      "metadata": {
        "id": "mEoYo3SF3bnI"
      },
      "execution_count": null,
      "outputs": []
    },
    {
      "cell_type": "markdown",
      "source": [
        "## 뒤집은 소수"
      ],
      "metadata": {
        "id": "lNKL3I883dJf"
      }
    },
    {
      "cell_type": "code",
      "source": [
        "def reverse(x):\n",
        "  l_r = str(x)[::-1]\n",
        "  return int(''.join(l_r))"
      ],
      "metadata": {
        "id": "tv-7eb49vL23"
      },
      "execution_count": null,
      "outputs": []
    },
    {
      "cell_type": "code",
      "source": [
        "def isPrime(x):\n",
        "  if x==1:\n",
        "    return False\n",
        "  for i in range(2,x):\n",
        "    if x%i == 0:\n",
        "      break;\n",
        "  else:\n",
        "     return(x)"
      ],
      "metadata": {
        "id": "tw8o6scp0cwe"
      },
      "execution_count": null,
      "outputs": []
    },
    {
      "cell_type": "code",
      "source": [
        "a = input()\n",
        "a = list(map(int,a.split()))\n",
        "\n",
        "for i in a:\n",
        "  i_r = int(reverse(i))\n",
        "  if isPrime(i_r):\n",
        "    print(i,' reversed is ',isPrime(i_r),' which is Prime Number')"
      ],
      "metadata": {
        "colab": {
          "base_uri": "https://localhost:8080/"
        },
        "id": "KPS0cATn0czC",
        "outputId": "bb3f21c7-744b-4f23-d579-b105a7975fd9"
      },
      "execution_count": null,
      "outputs": [
        {
          "output_type": "stream",
          "name": "stdout",
          "text": [
            "73 200 53 76 900\n",
            "73  reversed is  37  which is Prime Number\n",
            "200  reversed is  2  which is Prime Number\n",
            "76  reversed is  67  which is Prime Number\n"
          ]
        }
      ]
    },
    {
      "cell_type": "code",
      "source": [],
      "metadata": {
        "id": "tUVxfuow3UrT"
      },
      "execution_count": null,
      "outputs": []
    },
    {
      "cell_type": "code",
      "source": [
        "import pandas as pd\n",
        "n = 3\n",
        "l = [[3,3,5],[4,4,4],[5,6,2]]\n",
        "price = []\n",
        "for i in range(n):\n",
        "  if len(pd.Series(l[i]).value_counts()) == 1:\n",
        "    price.append(10000+l[i][0]*1000)\n",
        "  if len(pd.Series(l[i]).value_counts()) == 2:\n",
        "    price.append(10000+list(pd.Series(l[i]).value_counts()[(pd.Series(l[i]).value_counts()==2)].index)[0]*100)\n",
        "  if len(pd.Series(l[i]).value_counts()) == 3:\n",
        "    price.append(max(l[i])*100)\n",
        "\n",
        "print(max(price))"
      ],
      "metadata": {
        "colab": {
          "base_uri": "https://localhost:8080/"
        },
        "id": "lpcsnURMEdSE",
        "outputId": "f5384926-5973-4e92-9567-660047ed7ae8"
      },
      "execution_count": null,
      "outputs": [
        {
          "output_type": "stream",
          "name": "stdout",
          "text": [
            "14000\n"
          ]
        }
      ]
    },
    {
      "cell_type": "code",
      "source": [],
      "metadata": {
        "id": "aXGXmHCcH-tx"
      },
      "execution_count": null,
      "outputs": []
    },
    {
      "cell_type": "code",
      "source": [],
      "metadata": {
        "id": "1aDUulmVJcIQ"
      },
      "execution_count": null,
      "outputs": []
    },
    {
      "cell_type": "markdown",
      "source": [
        "## 연속 정답 점수"
      ],
      "metadata": {
        "id": "50Fu8jkStFS-"
      }
    },
    {
      "cell_type": "code",
      "source": [
        "a = [0,1,0,1,1,1,0,1,1,0]\n",
        "score = []\n",
        "cnt = 0\n",
        "for i in a:\n",
        "  if i==1:\n",
        "    cnt+=1\n",
        "    score.append(cnt)\n",
        "  else:\n",
        "    cnt=0\n",
        "    score.append(cnt)"
      ],
      "metadata": {
        "id": "01Rh5RPCJcL2"
      },
      "execution_count": null,
      "outputs": []
    },
    {
      "cell_type": "code",
      "source": [
        "score"
      ],
      "metadata": {
        "colab": {
          "base_uri": "https://localhost:8080/"
        },
        "id": "SUGvF4oUJcPG",
        "outputId": "5a914e87-67e2-4a3c-d8e0-f00c393648fd"
      },
      "execution_count": null,
      "outputs": [
        {
          "output_type": "execute_result",
          "data": {
            "text/plain": [
              "[0, 1, 0, 1, 2, 3, 0, 1, 2, 0]"
            ]
          },
          "metadata": {},
          "execution_count": 66
        }
      ]
    },
    {
      "cell_type": "code",
      "source": [],
      "metadata": {
        "id": "ke5v-e33LTQJ"
      },
      "execution_count": null,
      "outputs": []
    },
    {
      "cell_type": "code",
      "source": [],
      "metadata": {
        "id": "5T7wgTGpLTYA"
      },
      "execution_count": null,
      "outputs": []
    },
    {
      "cell_type": "markdown",
      "source": [
        "## 문자열 거꾸로"
      ],
      "metadata": {
        "id": "FW37e-7RtKaz"
      }
    },
    {
      "cell_type": "code",
      "source": [
        "a=input()\n",
        "l=list(map(str,a.split()))\n",
        "\n",
        "for i in l:\n",
        "  if i[::-1].upper() == i.upper():\n",
        "    print(i, ' : YES')\n",
        "  else:\n",
        "    print(i, ' : NO')"
      ],
      "metadata": {
        "colab": {
          "base_uri": "https://localhost:8080/"
        },
        "id": "7WHmCUdFLTaS",
        "outputId": "0c92b3a3-a039-4a32-fd1b-fdc53b1039c9"
      },
      "execution_count": null,
      "outputs": [
        {
          "output_type": "stream",
          "name": "stdout",
          "text": [
            "gooG\n",
            "gooG  : YES\n"
          ]
        }
      ]
    },
    {
      "cell_type": "code",
      "source": [],
      "metadata": {
        "id": "vLx-rjaCLUB-"
      },
      "execution_count": null,
      "outputs": []
    },
    {
      "cell_type": "code",
      "source": [],
      "metadata": {
        "id": "TCruzl6xtPww"
      },
      "execution_count": null,
      "outputs": []
    },
    {
      "cell_type": "code",
      "source": [
        "a = list(range(21))\n",
        "\n",
        "def change(x,a,b):\n",
        "  for i in range((b-a+1)//2):\n",
        "    x[a+i],x[b-i] = x[b-i],x[a+i]\n",
        "  return x\n",
        "\n",
        "change(a,4,7)"
      ],
      "metadata": {
        "colab": {
          "base_uri": "https://localhost:8080/"
        },
        "id": "9R8AsQhyLaJY",
        "outputId": "f8e5e322-c45d-4a51-e741-d31aab7f1bdd"
      },
      "execution_count": null,
      "outputs": [
        {
          "output_type": "execute_result",
          "data": {
            "text/plain": [
              "[0, 1, 2, 3, 7, 6, 5, 4, 8, 9, 10, 11, 12, 13, 14, 15, 16, 17, 18, 19, 20]"
            ]
          },
          "metadata": {},
          "execution_count": 2
        }
      ]
    },
    {
      "cell_type": "code",
      "source": [],
      "metadata": {
        "id": "ctj4FxmILe-x"
      },
      "execution_count": null,
      "outputs": []
    },
    {
      "cell_type": "code",
      "source": [],
      "metadata": {
        "id": "Tqik-Ac7rZer"
      },
      "execution_count": null,
      "outputs": []
    },
    {
      "cell_type": "code",
      "source": [],
      "metadata": {
        "id": "G9HtlaxtrZhP"
      },
      "execution_count": null,
      "outputs": []
    },
    {
      "cell_type": "code",
      "source": [],
      "metadata": {
        "id": "Q-oPkGk4rZkJ"
      },
      "execution_count": null,
      "outputs": []
    },
    {
      "cell_type": "code",
      "source": [],
      "metadata": {
        "id": "ddE2pl14q6O0"
      },
      "execution_count": null,
      "outputs": []
    },
    {
      "cell_type": "markdown",
      "source": [],
      "metadata": {
        "id": "6tZsprJvtRJY"
      }
    },
    {
      "cell_type": "code",
      "source": [
        "a=[1,2,3,1,4,2,5,6,2,3,2,4,1]\n",
        "m=5\n",
        "n=len(a)\n",
        "cnt=0\n",
        "\n",
        "for i in range(n-1):\n",
        "  sum = a[i]\n",
        "\n",
        "  for j in range(i+1,n):\n",
        "    if sum < m:\n",
        "      sum+=a[j]\n",
        "    elif sum == m:\n",
        "      cnt+=1\n",
        "      break;\n",
        "    else:\n",
        "      break;\n"
      ],
      "metadata": {
        "id": "4QbJjHGeq6R-"
      },
      "execution_count": null,
      "outputs": []
    },
    {
      "cell_type": "code",
      "source": [
        "cnt"
      ],
      "metadata": {
        "colab": {
          "base_uri": "https://localhost:8080/"
        },
        "id": "owqEXxyjrpVb",
        "outputId": "70818ba6-b026-4ed7-f884-a2d48901feda"
      },
      "execution_count": null,
      "outputs": [
        {
          "output_type": "execute_result",
          "data": {
            "text/plain": [
              "5"
            ]
          },
          "metadata": {},
          "execution_count": 9
        }
      ]
    },
    {
      "cell_type": "code",
      "source": [],
      "metadata": {
        "id": "YHK6GYYO8C33"
      },
      "execution_count": null,
      "outputs": []
    },
    {
      "cell_type": "code",
      "source": [
        "a=[]\n",
        "n=7\n",
        "for i in range(n):\n",
        "  a.append([(n*i)+j for j in range(n)])\n"
      ],
      "metadata": {
        "id": "WVz6ZQqbsLi8"
      },
      "execution_count": null,
      "outputs": []
    },
    {
      "cell_type": "code",
      "source": [
        "mid = n//2\n",
        "l=[]\n",
        "for i in range(n):\n",
        "  if i <= mid:\n",
        "    for j in range(mid-i,mid+i+1):\n",
        "      l.append(a[i][j])\n",
        "  else:\n",
        "    for j in range(i-mid,n-i+mid):\n",
        "      l.append(a[i][j])\n",
        "\n",
        "sum(l)"
      ],
      "metadata": {
        "colab": {
          "base_uri": "https://localhost:8080/"
        },
        "id": "IvPXhQ1Cra8m",
        "outputId": "2aefb67a-fe64-42ce-ba11-d5193ec14105"
      },
      "execution_count": null,
      "outputs": [
        {
          "output_type": "execute_result",
          "data": {
            "text/plain": [
              "600"
            ]
          },
          "metadata": {},
          "execution_count": 27
        }
      ]
    },
    {
      "cell_type": "code",
      "source": [],
      "metadata": {
        "id": "iB033z_DYDlO"
      },
      "execution_count": null,
      "outputs": []
    },
    {
      "cell_type": "code",
      "source": [],
      "metadata": {
        "id": "gElkVdy4YDn_"
      },
      "execution_count": null,
      "outputs": []
    },
    {
      "cell_type": "code",
      "source": [
        "a=[]\n",
        "n=7\n",
        "for i in range(n):\n",
        "  a.append([(n*i)+j for j in range(n)])\n"
      ],
      "metadata": {
        "id": "4Htpgq1dYrQb"
      },
      "execution_count": null,
      "outputs": []
    },
    {
      "cell_type": "code",
      "source": [
        "r,d,n = map(int,input().split())"
      ],
      "metadata": {
        "colab": {
          "base_uri": "https://localhost:8080/"
        },
        "id": "GD5qOBKQYveX",
        "outputId": "13db6762-5da5-4699-c89b-adb997341a3a"
      },
      "execution_count": null,
      "outputs": [
        {
          "name": "stdout",
          "output_type": "stream",
          "text": [
            "4 0 4\n"
          ]
        }
      ]
    },
    {
      "cell_type": "code",
      "source": [
        "for i in range(n):\n",
        "  if d==0:\n",
        "    a[r] = [a[r].pop((len(a[r])-1))] + a[r]\n",
        "  if d==1:\n",
        "    a[r] = a[r] + [a[r].pop(0)]"
      ],
      "metadata": {
        "id": "TGkXMTaBZLfE"
      },
      "execution_count": null,
      "outputs": []
    },
    {
      "cell_type": "code",
      "source": [
        "a"
      ],
      "metadata": {
        "colab": {
          "base_uri": "https://localhost:8080/"
        },
        "id": "MMbHnIhqaDNg",
        "outputId": "1bef4e68-0368-4f21-97e0-030076cdc35e"
      },
      "execution_count": null,
      "outputs": [
        {
          "output_type": "execute_result",
          "data": {
            "text/plain": [
              "[[0, 1, 2, 3, 4, 5, 6],\n",
              " [7, 8, 9, 10, 11, 12, 13],\n",
              " [14, 15, 16, 17, 18, 19, 20],\n",
              " [21, 22, 23, 24, 25, 26, 27],\n",
              " [31, 32, 33, 34, 28, 29, 30],\n",
              " [35, 36, 37, 38, 39, 40, 41],\n",
              " [42, 43, 44, 45, 46, 47, 48]]"
            ]
          },
          "metadata": {},
          "execution_count": 52
        }
      ]
    },
    {
      "cell_type": "code",
      "source": [
        "s=0\n",
        "e=len(a)-1\n",
        "l=[]\n",
        "for i in range(len(a)):\n",
        "  for j in range(s,e+1):\n",
        "    l.append(a[i][j])\n",
        "  if i < (len(a)-1)//2:\n",
        "    s+=1\n",
        "    e-=1\n",
        "  else:\n",
        "    s-=1\n",
        "    e+=1\n",
        "\n",
        "sum(l)"
      ],
      "metadata": {
        "colab": {
          "base_uri": "https://localhost:8080/"
        },
        "id": "USp124GwatrH",
        "outputId": "a5ccaa87-316b-48e5-d058-192287d3abf7"
      },
      "execution_count": null,
      "outputs": [
        {
          "output_type": "execute_result",
          "data": {
            "text/plain": [
              "746"
            ]
          },
          "metadata": {},
          "execution_count": 62
        }
      ]
    },
    {
      "cell_type": "code",
      "source": [],
      "metadata": {
        "id": "3eYVd2LUilWO"
      },
      "execution_count": null,
      "outputs": []
    },
    {
      "cell_type": "markdown",
      "source": [
        "## 봉우리 찾기"
      ],
      "metadata": {
        "id": "5okAYILnA9aQ"
      }
    },
    {
      "cell_type": "code",
      "source": [
        "a=[[0,0,0,0,0,0,0],\n",
        "   [0,5,3,7,2,3,0],\n",
        "   [0,3,7,1,6,1,0],\n",
        "   [0,7,2,5,3,4,0],\n",
        "   [0,4,3,6,4,1,0],\n",
        "   [0,8,7,3,5,2,0],\n",
        "   [0,0,0,0,0,0,0]]"
      ],
      "metadata": {
        "id": "HjpVCeJ5ilY4"
      },
      "execution_count": null,
      "outputs": []
    },
    {
      "cell_type": "code",
      "source": [
        "cnt=0\n",
        "for i in range(1,6):\n",
        "  for j in range(1,6):\n",
        "    if (a[i][j] > a[i-1][j]) & (a[i][j] > a[i+1][j]) & (a[i][j] > a[i][j-1]) & (a[i][j] > a[i][j+1]):\n",
        "      cnt+=1\n",
        "\n",
        "cnt"
      ],
      "metadata": {
        "colab": {
          "base_uri": "https://localhost:8080/"
        },
        "id": "wEabRzJ8iz67",
        "outputId": "6406c348-a11d-4767-b376-62662ee2be64"
      },
      "execution_count": null,
      "outputs": [
        {
          "output_type": "execute_result",
          "data": {
            "text/plain": [
              "10"
            ]
          },
          "metadata": {},
          "execution_count": 68
        }
      ]
    },
    {
      "cell_type": "code",
      "source": [],
      "metadata": {
        "id": "h6s_kHPPBEJk"
      },
      "execution_count": null,
      "outputs": []
    },
    {
      "cell_type": "code",
      "source": [],
      "metadata": {
        "id": "vN5Oav99BEDB"
      },
      "execution_count": null,
      "outputs": []
    },
    {
      "cell_type": "markdown",
      "source": [
        "# 결정 알고리즘"
      ],
      "metadata": {
        "id": "m4pcm5UnGuGm"
      }
    },
    {
      "cell_type": "markdown",
      "source": [
        "## 랜선 자르기 (결정 알고리즘 & 이분 검색)"
      ],
      "metadata": {
        "id": "KS2KJH6BBE6t"
      }
    },
    {
      "cell_type": "code",
      "source": [
        "a = [802,743,457,539]\n",
        "\n",
        "lt = 1\n",
        "rt = 1000\n",
        "max = 0\n",
        "while rt>=lt:\n",
        "  mid = (lt+rt)//2\n",
        "  if sum([i//mid for i in a]) < 11:\n",
        "    rt = mid-1\n",
        "  elif sum([i//mid for i in a]) > 11:\n",
        "    lt = mid+1\n",
        "  else:\n",
        "    if mid>max:\n",
        "      max = mid\n",
        "    lt = mid+1\n",
        "\n",
        "print(max)"
      ],
      "metadata": {
        "colab": {
          "base_uri": "https://localhost:8080/"
        },
        "id": "fsp90FT765gE",
        "outputId": "d8531cf3-72fe-4d1c-8429-41236d56d3a2"
      },
      "execution_count": null,
      "outputs": [
        {
          "output_type": "stream",
          "name": "stdout",
          "text": [
            "200\n"
          ]
        }
      ]
    },
    {
      "cell_type": "code",
      "source": [
        "cnt"
      ],
      "metadata": {
        "colab": {
          "base_uri": "https://localhost:8080/"
        },
        "id": "AMvbwocYFleU",
        "outputId": "56042e0f-3fc9-45f7-ca17-92a046f2e6e2"
      },
      "execution_count": null,
      "outputs": [
        {
          "output_type": "execute_result",
          "data": {
            "text/plain": [
              "10"
            ]
          },
          "metadata": {},
          "execution_count": 36
        }
      ]
    },
    {
      "cell_type": "code",
      "source": [],
      "metadata": {
        "id": "pHp1SpkIGVqd"
      },
      "execution_count": null,
      "outputs": []
    },
    {
      "cell_type": "code",
      "source": [],
      "metadata": {
        "id": "IKt6GL-JZPh_"
      },
      "execution_count": null,
      "outputs": []
    },
    {
      "cell_type": "code",
      "source": [
        "m=3\n",
        "a=[1,2,3,4,5,6,7,8,9]\n",
        "lt=1\n",
        "rt=45\n",
        "cnt=1\n",
        "tmp=45\n",
        "while rt>=lt:\n",
        "  s=0\n",
        "  cnt=1\n",
        "\n",
        "  mid = (rt+lt)//2\n",
        "\n",
        "  for i in a:\n",
        "    if s+i > mid:\n",
        "      cnt+=1\n",
        "      s=i\n",
        "    else:\n",
        "      s+=i\n",
        "  print(mid,cnt)\n",
        "  if cnt > m:\n",
        "    lt = mid+1\n",
        "  elif cnt < m:\n",
        "    rt = mid-1\n",
        "  else:\n",
        "    rt = mid-1\n",
        "    tmp=min(tmp,mid)"
      ],
      "metadata": {
        "colab": {
          "base_uri": "https://localhost:8080/"
        },
        "id": "CgZ80nn4ZPl-",
        "outputId": "36780537-49d3-4b26-8682-31f2389287be"
      },
      "execution_count": null,
      "outputs": [
        {
          "output_type": "stream",
          "name": "stdout",
          "text": [
            "23 3\n",
            "11 5\n",
            "17 3\n",
            "14 5\n",
            "15 4\n",
            "16 4\n"
          ]
        }
      ]
    },
    {
      "cell_type": "code",
      "source": [
        "tmp"
      ],
      "metadata": {
        "colab": {
          "base_uri": "https://localhost:8080/"
        },
        "id": "6AkMlkOHbsaU",
        "outputId": "a2a7afbf-c1bd-4213-f3ee-b3022e875ff9"
      },
      "execution_count": null,
      "outputs": [
        {
          "output_type": "execute_result",
          "data": {
            "text/plain": [
              "17"
            ]
          },
          "metadata": {},
          "execution_count": 65
        }
      ]
    },
    {
      "cell_type": "code",
      "source": [],
      "metadata": {
        "id": "EVdpGv5tdqma"
      },
      "execution_count": null,
      "outputs": []
    },
    {
      "cell_type": "code",
      "source": [
        "a=[1,2,3,4,6,9]\n",
        "\n",
        "ls=1\n",
        "rs=9\n",
        "m=2\n",
        "ans=1\n",
        "\n",
        "while rs>=ls:\n",
        "  mid = (ls+rs)//2\n",
        "  tmp = a[0]\n",
        "  cnt = 1\n",
        "\n",
        "  for i in a:\n",
        "    if (i-tmp) >= mid:\n",
        "      tmp=i\n",
        "      cnt+=1\n",
        "\n",
        "  print(f'ls : {ls}, rs : {rs}, mid : {mid}, cnt : {cnt}')\n",
        "\n",
        "  if cnt < m:\n",
        "      rs=mid-1\n",
        "  elif cnt >= m:\n",
        "      ls=mid+1\n",
        "      ans = max(mid,ans)\n"
      ],
      "metadata": {
        "colab": {
          "base_uri": "https://localhost:8080/"
        },
        "id": "Or0uhiUWdKDp",
        "outputId": "1fdda24c-ff2f-447e-87af-7c878ebeef63"
      },
      "execution_count": 1,
      "outputs": [
        {
          "output_type": "stream",
          "name": "stdout",
          "text": [
            "ls : 1, rs : 9, mid : 5, cnt : 2\n",
            "ls : 6, rs : 9, mid : 7, cnt : 2\n",
            "ls : 8, rs : 9, mid : 8, cnt : 2\n",
            "ls : 9, rs : 9, mid : 9, cnt : 1\n"
          ]
        }
      ]
    },
    {
      "cell_type": "code",
      "source": [
        "ans"
      ],
      "metadata": {
        "colab": {
          "base_uri": "https://localhost:8080/"
        },
        "id": "_dh8l6Z3eHFh",
        "outputId": "1285e183-9666-4245-fa21-20d09eac6110"
      },
      "execution_count": null,
      "outputs": [
        {
          "output_type": "execute_result",
          "data": {
            "text/plain": [
              "8"
            ]
          },
          "metadata": {},
          "execution_count": 44
        }
      ]
    },
    {
      "cell_type": "code",
      "source": [],
      "metadata": {
        "id": "X_1LskOsese1"
      },
      "execution_count": null,
      "outputs": []
    },
    {
      "cell_type": "code",
      "source": [],
      "metadata": {
        "id": "o_NS3UeaE3QF"
      },
      "execution_count": null,
      "outputs": []
    },
    {
      "cell_type": "markdown",
      "source": [
        "# 그리디 알고리즘"
      ],
      "metadata": {
        "id": "5ag747TqHEII"
      }
    },
    {
      "cell_type": "code",
      "source": [
        "a = [[180,66],[175,74],[178,73],[182,66],[185,58],[188,72],[176,75]]"
      ],
      "metadata": {
        "id": "HVe4Bf6oE3TJ"
      },
      "execution_count": null,
      "outputs": []
    },
    {
      "cell_type": "code",
      "source": [
        "a.sort(key=lambda x: (x[0],x[1]))\n",
        "a"
      ],
      "metadata": {
        "colab": {
          "base_uri": "https://localhost:8080/"
        },
        "id": "g30uTTZnFG1w",
        "outputId": "f28e9a69-e9a4-4eee-a04c-28388f57769d"
      },
      "execution_count": null,
      "outputs": [
        {
          "output_type": "execute_result",
          "data": {
            "text/plain": [
              "[[175, 74], [176, 75], [178, 73], [180, 66], [182, 66], [185, 58], [188, 72]]"
            ]
          },
          "metadata": {},
          "execution_count": 12
        }
      ]
    },
    {
      "cell_type": "code",
      "source": [
        "ans = []\n",
        "for i in range(len(a)-1):\n",
        "  if all(a[i][1] > a[j][1] for j in range(i+1,len(a))):\n",
        "    ans.append(a[i])\n",
        "ans.append(a[-1])"
      ],
      "metadata": {
        "id": "3OAfbDAgFML2"
      },
      "execution_count": null,
      "outputs": []
    },
    {
      "cell_type": "code",
      "source": [
        "ans"
      ],
      "metadata": {
        "colab": {
          "base_uri": "https://localhost:8080/"
        },
        "id": "BpZe-F7cFmy9",
        "outputId": "22908892-84df-4f99-ab9c-f4768f1812af"
      },
      "execution_count": null,
      "outputs": [
        {
          "output_type": "execute_result",
          "data": {
            "text/plain": [
              "[[176, 75], [178, 73], [188, 72]]"
            ]
          },
          "metadata": {},
          "execution_count": 29
        }
      ]
    },
    {
      "cell_type": "code",
      "source": [],
      "metadata": {
        "id": "YdpOTgdNFPKy"
      },
      "execution_count": null,
      "outputs": []
    },
    {
      "cell_type": "code",
      "source": [
        "a[0][1] > all(([a[j][1] for j in range(1,len(a))]))"
      ],
      "metadata": {
        "colab": {
          "base_uri": "https://localhost:8080/"
        },
        "id": "r0git_v5GQ6u",
        "outputId": "462707d3-7c71-433a-a7b7-038c2285cc5e"
      },
      "execution_count": null,
      "outputs": [
        {
          "output_type": "execute_result",
          "data": {
            "text/plain": [
              "True"
            ]
          },
          "metadata": {},
          "execution_count": 21
        }
      ]
    },
    {
      "cell_type": "code",
      "source": [
        "all(a[0][1]> a[j][1] for j in range(1,len(a)))"
      ],
      "metadata": {
        "colab": {
          "base_uri": "https://localhost:8080/"
        },
        "id": "BMH9AxnwGioe",
        "outputId": "b39a306a-046d-4184-f9bc-47f0b92952ff"
      },
      "execution_count": null,
      "outputs": [
        {
          "output_type": "execute_result",
          "data": {
            "text/plain": [
              "False"
            ]
          },
          "metadata": {},
          "execution_count": 25
        }
      ]
    },
    {
      "cell_type": "code",
      "source": [
        "a=[9,4,2,3,6,4,8,1]\n",
        "boxes = []\n",
        "for i in range(len(a)):\n",
        "  boxes.append([a[i],i])\n",
        "\n",
        "m=4\n",
        "for i in range(m):\n",
        "  boxes.sort(reverse=True)\n",
        "  boxes[0][0] = boxes[0][0]-1\n",
        "  boxes[-1][0] = boxes[-1][0]+1\n"
      ],
      "metadata": {
        "id": "LPpiem76Ma5B"
      },
      "execution_count": 2,
      "outputs": []
    },
    {
      "cell_type": "code",
      "source": [
        "boxes.sort(key = lambda x: x[1])\n",
        "boxes"
      ],
      "metadata": {
        "colab": {
          "base_uri": "https://localhost:8080/"
        },
        "id": "3LXjHRTTOrPl",
        "outputId": "4613c14b-1c2d-4603-c05c-30ffb1d3e711"
      },
      "execution_count": 3,
      "outputs": [
        {
          "output_type": "execute_result",
          "data": {
            "text/plain": [
              "[[7, 0], [4, 1], [4, 2], [3, 3], [6, 4], [4, 5], [6, 6], [3, 7]]"
            ]
          },
          "metadata": {},
          "execution_count": 3
        }
      ]
    },
    {
      "cell_type": "code",
      "source": [],
      "metadata": {
        "id": "0B6uP-bnYYj6"
      },
      "execution_count": null,
      "outputs": []
    },
    {
      "cell_type": "code",
      "source": [
        "a=[90,50,70,100,60,80,40,120]\n",
        "a.sort()\n",
        "m=130\n",
        "cnt=0\n",
        "\n",
        "while len(a) > 0:\n",
        "  if a[0]+a[-1] > m:\n",
        "    a.pop(-1)\n",
        "    cnt+=1\n",
        "  else:\n",
        "    a.pop(0)\n",
        "    a.pop(-1)\n",
        "    cnt+=1"
      ],
      "metadata": {
        "id": "s8ihdJkzYYpu"
      },
      "execution_count": null,
      "outputs": []
    },
    {
      "cell_type": "code",
      "source": [
        "a=[2,4,5,1,3]\n",
        "last=0\n",
        "ans = ''\n",
        "l = []\n",
        "while len(a)>0:\n",
        "  if (last < a[0]) & (last < a[-1]):\n",
        "    if a[0] < a[-1]:\n",
        "      last = a[0]\n",
        "      ans+='l'\n",
        "      l.append(a[0])\n",
        "      a.pop(0)\n",
        "    else:\n",
        "      last = a[-1]\n",
        "      ans+='r'\n",
        "      l.append(a[-1])\n",
        "      a.pop(-1)\n",
        "  elif last < a[0]:\n",
        "    last = a[0]\n",
        "    ans+='l'\n",
        "    l.append(a[0])\n",
        "    a.pop(0)\n",
        "  elif last < a[-1]:\n",
        "    last = a[-1]\n",
        "    ans+='r'\n",
        "    l.append(a[-1])\n",
        "    a.pop(-1)\n",
        "  else:\n",
        "    break"
      ],
      "metadata": {
        "id": "dfb--qDdGqBW"
      },
      "execution_count": 18,
      "outputs": []
    },
    {
      "cell_type": "code",
      "source": [],
      "metadata": {
        "id": "XGKKhWULMVLo"
      },
      "execution_count": null,
      "outputs": []
    },
    {
      "cell_type": "code",
      "source": [],
      "metadata": {
        "id": "j7vLexC5UTFS"
      },
      "execution_count": null,
      "outputs": []
    },
    {
      "cell_type": "code",
      "source": [],
      "metadata": {
        "id": "hN_J_Q2DWdJl"
      },
      "execution_count": null,
      "outputs": []
    },
    {
      "cell_type": "markdown",
      "source": [
        "## 역수열"
      ],
      "metadata": {
        "id": "GKsyCfIBWeCD"
      }
    },
    {
      "cell_type": "markdown",
      "source": [
        "#### 역수열 구하기"
      ],
      "metadata": {
        "id": "8yVSdepSWiKf"
      }
    },
    {
      "cell_type": "code",
      "source": [
        "a= [4,6,2,1,3,5,8,7]\n",
        "ans = []\n",
        "for i in sorted(a):\n",
        "  cnt=0\n",
        "  for j in range(0,a.index(i)+1):\n",
        "    if a[j]>i:\n",
        "      cnt+=1\n",
        "  ans.append(cnt)\n",
        "\n",
        "ans"
      ],
      "metadata": {
        "colab": {
          "base_uri": "https://localhost:8080/"
        },
        "id": "1FDBlhPKJ4Hy",
        "outputId": "81dddd56-5f30-4fd3-aab9-b89a19e8ab27"
      },
      "execution_count": 31,
      "outputs": [
        {
          "output_type": "execute_result",
          "data": {
            "text/plain": [
              "[3, 2, 2, 0, 1, 0, 1, 0]"
            ]
          },
          "metadata": {},
          "execution_count": 31
        }
      ]
    },
    {
      "cell_type": "markdown",
      "source": [
        "### 원래수열 구하기"
      ],
      "metadata": {
        "id": "Ju_R197QWqCy"
      }
    },
    {
      "cell_type": "code",
      "source": [],
      "metadata": {
        "id": "KZEj0f9yWpUR"
      },
      "execution_count": null,
      "outputs": []
    },
    {
      "cell_type": "markdown",
      "source": [
        "#### sol 1"
      ],
      "metadata": {
        "id": "4rduEhTUWsY2"
      }
    },
    {
      "cell_type": "code",
      "source": [
        "a=[3,2,2,0,1,0,1,0]\n",
        "ans = [0]*(len(a))\n",
        "for i in range(0,len(a)):\n",
        "  for j in range(len(a)):\n",
        "    if a[i] == 0:\n",
        "      for k in range(len(a)):\n",
        "        if ans[k] == 0:\n",
        "          ans[k] = i+1\n",
        "          break\n",
        "      break\n",
        "    if ans[:j+1].count(0) == a[i]:\n",
        "      for k in range(j+1,len(a)):\n",
        "        if ans[k] == 0:\n",
        "          ans[k] = i+1\n",
        "          break\n",
        "      break\n",
        "\n"
      ],
      "metadata": {
        "id": "HYDbkpOXLDtC"
      },
      "execution_count": 54,
      "outputs": []
    },
    {
      "cell_type": "code",
      "source": [
        "ans"
      ],
      "metadata": {
        "colab": {
          "base_uri": "https://localhost:8080/"
        },
        "id": "LAOSBz4cROE_",
        "outputId": "e180d7ab-fa91-48e5-b02c-5ac96b0c471f"
      },
      "execution_count": 55,
      "outputs": [
        {
          "output_type": "execute_result",
          "data": {
            "text/plain": [
              "[4, 6, 2, 1, 3, 5, 8, 7]"
            ]
          },
          "metadata": {},
          "execution_count": 55
        }
      ]
    },
    {
      "cell_type": "markdown",
      "source": [
        "#### sol 2"
      ],
      "metadata": {
        "id": "FrjBQg7-WuDJ"
      }
    },
    {
      "cell_type": "code",
      "source": [
        "a=[3,2,2,0,1,0,1,0]\n",
        "ans = [0]*(len(a))\n",
        "for i in range(0,len(a)):\n",
        "  for j in range(0, len(a)):\n",
        "    if (ans[j] == 0) & (a[i] == 0):\n",
        "      ans[j] = i+1\n",
        "      break\n",
        "    elif ans[j] == 0:\n",
        "      a[i] -= 1"
      ],
      "metadata": {
        "id": "BAGHzKzfT-DL"
      },
      "execution_count": 60,
      "outputs": []
    },
    {
      "cell_type": "code",
      "source": [
        "ans"
      ],
      "metadata": {
        "colab": {
          "base_uri": "https://localhost:8080/"
        },
        "id": "nYdAVH0GWKWL",
        "outputId": "efacbb6a-76a0-4824-edd2-7659273572e0"
      },
      "execution_count": 61,
      "outputs": [
        {
          "output_type": "execute_result",
          "data": {
            "text/plain": [
              "[4, 6, 2, 1, 3, 5, 8, 7]"
            ]
          },
          "metadata": {},
          "execution_count": 61
        }
      ]
    }
  ]
}