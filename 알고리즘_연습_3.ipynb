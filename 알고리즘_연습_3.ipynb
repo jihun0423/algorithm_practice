{
  "nbformat": 4,
  "nbformat_minor": 0,
  "metadata": {
    "colab": {
      "provenance": [],
      "authorship_tag": "ABX9TyNLXn1jrWEgjoLCy0SCtWgm",
      "include_colab_link": true
    },
    "kernelspec": {
      "name": "python3",
      "display_name": "Python 3"
    },
    "language_info": {
      "name": "python"
    }
  },
  "cells": [
    {
      "cell_type": "markdown",
      "metadata": {
        "id": "view-in-github",
        "colab_type": "text"
      },
      "source": [
        "<a href=\"https://colab.research.google.com/github/jihun0423/algorithm_practice/blob/main/%EC%95%8C%EA%B3%A0%EB%A6%AC%EC%A6%98_%EC%97%B0%EC%8A%B5_3.ipynb\" target=\"_parent\"><img src=\"https://colab.research.google.com/assets/colab-badge.svg\" alt=\"Open In Colab\"/></a>"
      ]
    },
    {
      "cell_type": "code",
      "execution_count": null,
      "metadata": {
        "id": "0Hv9OPlJqPTi"
      },
      "outputs": [],
      "source": []
    },
    {
      "cell_type": "code",
      "source": [
        "a=[[5,3],[10,2],[1,5]]\n",
        "n=len(a)\n",
        "\n",
        "t=20\n",
        "ans=dict()\n",
        "cnt=0"
      ],
      "metadata": {
        "id": "z4apNjycqSjU"
      },
      "execution_count": null,
      "outputs": []
    },
    {
      "cell_type": "code",
      "source": [
        "def DFS(v,sum):\n",
        "  global cnt\n",
        "  if v==n:\n",
        "    if sum == t:\n",
        "      print(ans)\n",
        "      cnt+=1\n",
        "    else:\n",
        "      return\n",
        "  else:\n",
        "    for i in range(0,a[v][1]+1):\n",
        "      ans[a[v][0]]=i\n",
        "      DFS(v+1,sum+(a[v][0]*i))\n",
        "      ans[a[v][0]]=0"
      ],
      "metadata": {
        "id": "2dPKlmTJ-_J_"
      },
      "execution_count": null,
      "outputs": []
    },
    {
      "cell_type": "code",
      "source": [
        "DFS(0,0)"
      ],
      "metadata": {
        "colab": {
          "base_uri": "https://localhost:8080/"
        },
        "id": "coGFKPV5ACIv",
        "outputId": "9b45f17e-914e-44b0-cbad-2e31ce1227a6"
      },
      "execution_count": null,
      "outputs": [
        {
          "output_type": "stream",
          "name": "stdout",
          "text": [
            "{5: 0, 10: 2, 1: 0}\n",
            "{5: 1, 10: 1, 1: 5}\n",
            "{5: 2, 10: 1, 1: 0}\n",
            "{5: 3, 10: 0, 1: 5}\n"
          ]
        }
      ]
    },
    {
      "cell_type": "code",
      "source": [
        "cnt"
      ],
      "metadata": {
        "colab": {
          "base_uri": "https://localhost:8080/"
        },
        "id": "LGRmFxsqAE3a",
        "outputId": "465389d2-57f9-4ff2-ad31-145eb2e91f36"
      },
      "execution_count": null,
      "outputs": [
        {
          "output_type": "execute_result",
          "data": {
            "text/plain": [
              "8"
            ]
          },
          "metadata": {},
          "execution_count": 17
        }
      ]
    },
    {
      "cell_type": "code",
      "source": [
        "a=3\n",
        "b=4\n",
        "c=5\n",
        "min(a,b,c)"
      ],
      "metadata": {
        "colab": {
          "base_uri": "https://localhost:8080/"
        },
        "id": "voxH3eMLAb0q",
        "outputId": "5ee990e7-ee4c-4f5e-95a0-d169bd00a617"
      },
      "execution_count": null,
      "outputs": [
        {
          "output_type": "execute_result",
          "data": {
            "text/plain": [
              "3"
            ]
          },
          "metadata": {},
          "execution_count": 19
        }
      ]
    },
    {
      "cell_type": "code",
      "source": [
        "a = [8,9,11,12,23,15,17]\n",
        "n = len(a)\n",
        "mini = 999\n",
        "def DFS(v,sum_a,sum_b,sum_c):\n",
        "  global mini\n",
        "  if v == n:\n",
        "    if sum_a != sum_b and sum_b != sum_c and sum_a != sum_c:\n",
        "      if (max(sum_a,sum_b,sum_c) - min(sum_a,sum_b,sum_c)) < mini:\n",
        "        mini = (max(sum_a,sum_b,sum_c) - min(sum_a,sum_b,sum_c))\n",
        "        print(sum_a,sum_b,sum_c,mini)\n",
        "  else:\n",
        "    DFS(v+1,sum_a+a[v],sum_b,sum_c)\n",
        "    DFS(v+1,sum_a,sum_b+a[v],sum_c)\n",
        "    DFS(v+1,sum_a,sum_b,sum_c+a[v])\n"
      ],
      "metadata": {
        "id": "PMk39duzZe1X"
      },
      "execution_count": null,
      "outputs": []
    },
    {
      "cell_type": "code",
      "source": [
        "DFS(0,0,0,0)"
      ],
      "metadata": {
        "colab": {
          "base_uri": "https://localhost:8080/"
        },
        "id": "y2nidprWZe4s",
        "outputId": "0cd533a5-6267-4c9a-c991-2aa64af916e1"
      },
      "execution_count": null,
      "outputs": [
        {
          "output_type": "stream",
          "name": "stdout",
          "text": [
            "78 17 0 78\n",
            "63 32 0 63\n",
            "63 15 17 48\n",
            "55 23 17 38\n",
            "40 38 17 23\n",
            "40 23 32 17\n",
            "28 35 32 7\n",
            "29 34 32 5\n"
          ]
        }
      ]
    },
    {
      "cell_type": "code",
      "source": [
        "mini"
      ],
      "metadata": {
        "colab": {
          "base_uri": "https://localhost:8080/"
        },
        "id": "xDossvkpaP_l",
        "outputId": "6d1642cf-207d-49d8-c1d1-acf2ae540eeb"
      },
      "execution_count": null,
      "outputs": [
        {
          "output_type": "execute_result",
          "data": {
            "text/plain": [
              "5"
            ]
          },
          "metadata": {},
          "execution_count": 43
        }
      ]
    },
    {
      "cell_type": "code",
      "source": [],
      "metadata": {
        "id": "RyDoA4K3bHEP"
      },
      "execution_count": null,
      "outputs": []
    },
    {
      "cell_type": "code",
      "source": [],
      "metadata": {
        "id": "Ue9G30s4n-CI"
      },
      "execution_count": null,
      "outputs": []
    },
    {
      "cell_type": "code",
      "source": [
        "l=['END']\n",
        "for i in range(ord('A'),ord('Z')+1):\n",
        "  l.append(chr(i))\n",
        "\n",
        "ans=[]\n",
        "\n",
        "a= list(map(int,'26521810'))\n",
        "n= len(a)"
      ],
      "metadata": {
        "id": "6zhgsWIdn-Ey"
      },
      "execution_count": null,
      "outputs": []
    },
    {
      "cell_type": "code",
      "source": [
        "def DFS(v):\n",
        "  global ans\n",
        "  if v == n:\n",
        "    print(ans)\n",
        "  elif a[v] == 0:\n",
        "    print(ans)\n",
        "  elif v == n-1:\n",
        "    ans.append(l[a[v]])\n",
        "    DFS(v+1)\n",
        "    ans.pop()\n",
        "  else:\n",
        "    if (a[v]*10 + a[v+1])<=26:\n",
        "      ans.append(l[(a[v]*10 + a[v+1])])\n",
        "      DFS(v+2)\n",
        "      ans.pop()\n",
        "      ans.append(l[a[v]])\n",
        "      DFS(v+1)\n",
        "      ans.pop()\n",
        "    else:\n",
        "      ans.append(l[a[v]])\n",
        "      DFS(v+1)\n",
        "      ans.pop()"
      ],
      "metadata": {
        "id": "Hp-dASjkn-IE"
      },
      "execution_count": null,
      "outputs": []
    },
    {
      "cell_type": "code",
      "source": [
        "DFS(0)"
      ],
      "metadata": {
        "colab": {
          "base_uri": "https://localhost:8080/"
        },
        "id": "f47wl__7oaeA",
        "outputId": "5b4c9373-b6ea-4bec-c94e-1b9cd90c6837"
      },
      "execution_count": null,
      "outputs": [
        {
          "output_type": "stream",
          "name": "stdout",
          "text": [
            "['Z', 'E', 'U', 'H', 'J']\n",
            "['Z', 'E', 'U', 'H', 'A']\n",
            "['Z', 'E', 'B', 'R', 'J']\n",
            "['Z', 'E', 'B', 'R', 'A']\n",
            "['Z', 'E', 'B', 'A', 'H', 'J']\n",
            "['Z', 'E', 'B', 'A', 'H', 'A']\n",
            "['B', 'F', 'E', 'U', 'H', 'J']\n",
            "['B', 'F', 'E', 'U', 'H', 'A']\n",
            "['B', 'F', 'E', 'B', 'R', 'J']\n",
            "['B', 'F', 'E', 'B', 'R', 'A']\n",
            "['B', 'F', 'E', 'B', 'A', 'H', 'J']\n",
            "['B', 'F', 'E', 'B', 'A', 'H', 'A']\n"
          ]
        }
      ]
    },
    {
      "cell_type": "code",
      "source": [],
      "metadata": {
        "id": "7IJw2MW-zPGe"
      },
      "execution_count": null,
      "outputs": []
    },
    {
      "cell_type": "code",
      "source": [],
      "metadata": {
        "id": "SzkwJth2ZtyQ"
      },
      "execution_count": null,
      "outputs": []
    },
    {
      "cell_type": "markdown",
      "source": [
        "## BFS"
      ],
      "metadata": {
        "id": "urrX1HeeZub3"
      }
    },
    {
      "cell_type": "code",
      "source": [
        "from collections import deque\n",
        "m=1000\n",
        "dq = deque()\n",
        "dq.append(5)\n",
        "l = [0] * (m+1)\n",
        "l[5] = 0\n",
        "t=14"
      ],
      "metadata": {
        "id": "iLIWsI-EZvmS"
      },
      "execution_count": null,
      "outputs": []
    },
    {
      "cell_type": "code",
      "source": [
        "while dq:\n",
        "  if l[t] !=0:\n",
        "    print(l[t])\n",
        "    break\n",
        "  last = dq.popleft()\n",
        "  for i in [last+1,last-1,last+5]:\n",
        "    if i >= 0:\n",
        "      if l[i] == 0:\n",
        "        l[i] = l[last]+1\n",
        "        dq.append(i)"
      ],
      "metadata": {
        "colab": {
          "base_uri": "https://localhost:8080/"
        },
        "id": "uaiseQemZt1y",
        "outputId": "137792f9-6842-44ea-cb23-b96262511546"
      },
      "execution_count": null,
      "outputs": [
        {
          "output_type": "stream",
          "name": "stdout",
          "text": [
            "3\n"
          ]
        }
      ]
    },
    {
      "cell_type": "code",
      "source": [],
      "metadata": {
        "id": "OnXliY_fcQZQ"
      },
      "execution_count": null,
      "outputs": []
    },
    {
      "cell_type": "code",
      "source": [
        "import numpy as np\n",
        "a=list(range(25))\n",
        "a = np.array(a)\n",
        "a = a.reshape(5,5)"
      ],
      "metadata": {
        "id": "uY_Bqw0Xcrd3"
      },
      "execution_count": null,
      "outputs": []
    },
    {
      "cell_type": "code",
      "source": [
        "a"
      ],
      "metadata": {
        "colab": {
          "base_uri": "https://localhost:8080/"
        },
        "id": "sI4v37EzjnB0",
        "outputId": "0966f7d5-bc5e-4010-dac1-1ce51ddf24f6"
      },
      "execution_count": null,
      "outputs": [
        {
          "output_type": "execute_result",
          "data": {
            "text/plain": [
              "array([[ 0,  1,  2,  3,  4],\n",
              "       [ 5,  6,  7,  8,  9],\n",
              "       [10, 11, 12, 13, 14],\n",
              "       [15, 16, 17, 18, 19],\n",
              "       [20, 21, 22, 23, 24]])"
            ]
          },
          "metadata": {},
          "execution_count": 71
        }
      ]
    },
    {
      "cell_type": "code",
      "source": [
        "n = 5\n",
        "m = (n//2)\n",
        "now = m*n+m\n",
        "from collections import deque\n",
        "dq = deque()\n",
        "dq.append(now)\n",
        "l = [0] * (n**2)\n",
        "l[now]=1\n",
        "ans = [a[m,m]]\n",
        "level=0\n",
        "while dq:\n",
        "  if level == m:\n",
        "    break\n",
        "  size = len(dq)\n",
        "  for _ in range(size):\n",
        "    now = dq.popleft()\n",
        "    for i in [now-5,now+5,now-1,now+1]:\n",
        "      if l[i] == 0:\n",
        "        l[i] = l[now]+1\n",
        "        ans.append(a[i//5][i%5])\n",
        "        dq.append(i)\n",
        "  level += 1"
      ],
      "metadata": {
        "id": "MlohOuGwbP-Y"
      },
      "execution_count": null,
      "outputs": []
    },
    {
      "cell_type": "code",
      "source": [
        "ans"
      ],
      "metadata": {
        "colab": {
          "base_uri": "https://localhost:8080/"
        },
        "id": "DsGyTdJmjgF5",
        "outputId": "4dcb0136-369e-4baf-e8c2-b80c29d8ecb1"
      },
      "execution_count": null,
      "outputs": [
        {
          "output_type": "execute_result",
          "data": {
            "text/plain": [
              "[12, 7, 17, 11, 13, 2, 6, 8, 22, 16, 18, 10, 14]"
            ]
          },
          "metadata": {},
          "execution_count": 88
        }
      ]
    },
    {
      "cell_type": "code",
      "source": [
        "a"
      ],
      "metadata": {
        "colab": {
          "base_uri": "https://localhost:8080/"
        },
        "id": "DioUmvUljI1B",
        "outputId": "3ba578e0-1eca-40ce-fc7d-ee3e03bd018c"
      },
      "execution_count": null,
      "outputs": [
        {
          "output_type": "execute_result",
          "data": {
            "text/plain": [
              "array([[ 0,  1,  2,  3,  4],\n",
              "       [ 5,  6,  7,  8,  9],\n",
              "       [10, 11, 12, 13, 14],\n",
              "       [15, 16, 17, 18, 19],\n",
              "       [20, 21, 22, 23, 24]])"
            ]
          },
          "metadata": {},
          "execution_count": 89
        }
      ]
    },
    {
      "cell_type": "code",
      "source": [],
      "metadata": {
        "id": "LbQeiG2rjLVO"
      },
      "execution_count": null,
      "outputs": []
    },
    {
      "cell_type": "code",
      "source": [],
      "metadata": {
        "id": "_oaCRr_1rmVy"
      },
      "execution_count": null,
      "outputs": []
    },
    {
      "cell_type": "code",
      "source": [],
      "metadata": {
        "id": "oWP9Dc23rmY4"
      },
      "execution_count": null,
      "outputs": []
    },
    {
      "cell_type": "code",
      "source": [
        "dx = [1,0,-1,0]\n",
        "dy = [0,1,0,-1]\n",
        "n=7\n",
        "ch = [[0]*n for _ in range(n)]\n",
        "dis = [[0]*n for _ in range(n)]\n",
        "\n",
        "a=[[0,0,0,0,0,0,0],\n",
        "   [0,1,1,1,1,1,0],\n",
        "   [0,0,0,1,0,0,0],\n",
        "   [1,1,0,1,0,1,1],\n",
        "   [1,1,0,1,0,0,0],\n",
        "   [1,0,0,0,1,0,0],\n",
        "   [1,0,1,0,0,0,0]]\n",
        "\n",
        "now = (0,0)\n",
        "\n",
        "dq = deque()\n",
        "dq.append(now)\n"
      ],
      "metadata": {
        "id": "AmB2W22jrmcR"
      },
      "execution_count": null,
      "outputs": []
    },
    {
      "cell_type": "code",
      "source": [
        "l=0\n",
        "while dq:\n",
        "  if dis[n-1][n-1] != 0:\n",
        "    break\n",
        "  size = len(dq)\n",
        "  for _ in range(size):\n",
        "    now = dq.popleft()\n",
        "    ch[now[0]][now[1]] = 1\n",
        "    for x,y in zip(dx,dy):\n",
        "      if (0 <= (now[1]+x) < 7) and (0 <= (now[0]+y) < 7) and (ch[now[0]+y][now[1]+x] == 0) and a[now[0]+y][now[1]+x] == 0:\n",
        "        dq.append((now[0]+y,now[1]+x))\n",
        "        dis[now[0]+y][now[1]+x] = l+1\n",
        "  l+=1"
      ],
      "metadata": {
        "id": "7vE17MkJr3h8"
      },
      "execution_count": null,
      "outputs": []
    },
    {
      "cell_type": "code",
      "source": [
        "dis"
      ],
      "metadata": {
        "colab": {
          "base_uri": "https://localhost:8080/"
        },
        "id": "LxhjgU_lvj9A",
        "outputId": "7db40c7a-9ae1-4392-fd6f-7dfca9dcc112"
      },
      "execution_count": null,
      "outputs": [
        {
          "output_type": "execute_result",
          "data": {
            "text/plain": [
              "[[0, 1, 2, 3, 4, 5, 6],\n",
              " [1, 0, 0, 0, 0, 0, 7],\n",
              " [2, 3, 4, 0, 10, 9, 8],\n",
              " [0, 0, 5, 0, 11, 0, 0],\n",
              " [0, 0, 6, 0, 12, 0, 0],\n",
              " [0, 8, 7, 8, 0, 12, 0],\n",
              " [0, 9, 0, 9, 10, 11, 12]]"
            ]
          },
          "metadata": {},
          "execution_count": 127
        }
      ]
    },
    {
      "cell_type": "code",
      "source": [
        "ch"
      ],
      "metadata": {
        "colab": {
          "base_uri": "https://localhost:8080/"
        },
        "id": "Y7bDt87Kv2Jd",
        "outputId": "a3e03fa8-c484-4422-f4ce-02f9d46d73ce"
      },
      "execution_count": null,
      "outputs": [
        {
          "output_type": "execute_result",
          "data": {
            "text/plain": [
              "[[1, 1, 1, 1, 1, 1, 1],\n",
              " [1, 0, 0, 0, 0, 0, 1],\n",
              " [1, 1, 1, 0, 1, 1, 1],\n",
              " [0, 0, 1, 0, 1, 0, 0],\n",
              " [0, 0, 1, 0, 1, 0, 0],\n",
              " [0, 1, 1, 1, 0, 1, 0],\n",
              " [0, 1, 0, 1, 1, 1, 1]]"
            ]
          },
          "metadata": {},
          "execution_count": 112
        }
      ]
    },
    {
      "cell_type": "code",
      "source": [],
      "metadata": {
        "id": "iXrZBL73wOK_"
      },
      "execution_count": null,
      "outputs": []
    },
    {
      "cell_type": "code",
      "source": [],
      "metadata": {
        "id": "zS4lq3WuMLYK"
      },
      "execution_count": null,
      "outputs": []
    },
    {
      "cell_type": "code",
      "source": [
        "dx = [1,0,-1,0]\n",
        "dy = [0,1,0,-1]\n",
        "n=7\n",
        "ch = [[0]*n for _ in range(n)]\n",
        "dis = [[0]*n for _ in range(n)]\n",
        "\n",
        "a=[[0,0,0,0,0,0,0],\n",
        "   [0,1,1,1,1,1,0],\n",
        "   [0,0,0,1,0,0,0],\n",
        "   [1,1,0,1,0,1,1],\n",
        "   [1,1,0,0,0,0,1],\n",
        "   [1,1,0,1,1,0,0],\n",
        "   [1,0,0,0,0,0,0]]"
      ],
      "metadata": {
        "id": "bPRWZnIxMLbs"
      },
      "execution_count": null,
      "outputs": []
    },
    {
      "cell_type": "code",
      "source": [
        "cnt=0\n",
        "\n",
        "a[0][0] = 1\n",
        "\n",
        "def DFS(x,y,v):\n",
        "  global cnt\n",
        "  if dis[6][6]!=0:\n",
        "    cnt+=1\n",
        "    for i in range(len(dis)):\n",
        "      print(dis[i])\n",
        "    print()\n",
        "  else:\n",
        "    for i in range(4):\n",
        "      next_x = x+dx[i]\n",
        "      next_y = y+dy[i]\n",
        "      if (0<=next_x<=6) and (0<=next_y<=6):\n",
        "        if (a[next_x][next_y] == 0) and (dis[next_x][next_y] == 0):\n",
        "          dis[next_x][next_y] = v+1\n",
        "          a[next_x][next_y] = 1\n",
        "          DFS(next_x,next_y,v+1)\n",
        "          a[next_x][next_y] = 0\n",
        "          dis[next_x][next_y] = 0\n",
        "\n",
        "\n"
      ],
      "metadata": {
        "id": "QceljeuXYyie"
      },
      "execution_count": null,
      "outputs": []
    },
    {
      "cell_type": "code",
      "source": [
        "DFS(0,0,0)"
      ],
      "metadata": {
        "colab": {
          "base_uri": "https://localhost:8080/"
        },
        "id": "DK0c82VlSOeD",
        "outputId": "242954b2-7aae-4da2-eba9-58ee63c5afbd"
      },
      "execution_count": null,
      "outputs": [
        {
          "output_type": "stream",
          "name": "stdout",
          "text": [
            "[0, 0, 0, 0, 0, 0, 0]\n",
            "[1, 0, 0, 0, 0, 0, 0]\n",
            "[2, 3, 4, 0, 0, 0, 0]\n",
            "[0, 0, 5, 0, 0, 0, 0]\n",
            "[0, 0, 6, 0, 0, 0, 0]\n",
            "[0, 0, 7, 0, 0, 0, 0]\n",
            "[0, 0, 8, 9, 10, 11, 12]\n",
            "\n",
            "[0, 0, 0, 0, 0, 0, 0]\n",
            "[1, 0, 0, 0, 0, 0, 0]\n",
            "[2, 3, 4, 0, 0, 0, 0]\n",
            "[0, 0, 5, 0, 0, 0, 0]\n",
            "[0, 0, 6, 0, 0, 0, 0]\n",
            "[0, 0, 7, 0, 0, 12, 13]\n",
            "[0, 0, 8, 9, 10, 11, 14]\n",
            "\n",
            "[0, 0, 0, 0, 0, 0, 0]\n",
            "[1, 0, 0, 0, 0, 0, 0]\n",
            "[2, 3, 4, 0, 0, 0, 0]\n",
            "[0, 0, 5, 0, 0, 0, 0]\n",
            "[0, 0, 6, 7, 8, 9, 0]\n",
            "[0, 0, 0, 0, 0, 10, 0]\n",
            "[0, 0, 0, 0, 0, 11, 12]\n",
            "\n",
            "[0, 0, 0, 0, 0, 0, 0]\n",
            "[1, 0, 0, 0, 0, 0, 0]\n",
            "[2, 3, 4, 0, 0, 0, 0]\n",
            "[0, 0, 5, 0, 0, 0, 0]\n",
            "[0, 0, 6, 7, 8, 9, 0]\n",
            "[0, 0, 0, 0, 0, 10, 11]\n",
            "[0, 0, 0, 0, 0, 0, 12]\n",
            "\n",
            "[0, 1, 2, 3, 4, 5, 6]\n",
            "[0, 0, 0, 0, 0, 0, 7]\n",
            "[0, 0, 0, 0, 10, 9, 8]\n",
            "[0, 0, 0, 0, 11, 0, 0]\n",
            "[0, 0, 0, 0, 12, 13, 0]\n",
            "[0, 0, 0, 0, 0, 14, 0]\n",
            "[0, 0, 0, 0, 0, 15, 16]\n",
            "\n",
            "[0, 1, 2, 3, 4, 5, 6]\n",
            "[0, 0, 0, 0, 0, 0, 7]\n",
            "[0, 0, 0, 0, 10, 9, 8]\n",
            "[0, 0, 0, 0, 11, 0, 0]\n",
            "[0, 0, 0, 0, 12, 13, 0]\n",
            "[0, 0, 0, 0, 0, 14, 15]\n",
            "[0, 0, 0, 0, 0, 0, 16]\n",
            "\n",
            "[0, 1, 2, 3, 4, 5, 6]\n",
            "[0, 0, 0, 0, 0, 0, 7]\n",
            "[0, 0, 0, 0, 10, 9, 8]\n",
            "[0, 0, 0, 0, 11, 0, 0]\n",
            "[0, 0, 14, 13, 12, 0, 0]\n",
            "[0, 0, 15, 0, 0, 0, 0]\n",
            "[0, 0, 16, 17, 18, 19, 20]\n",
            "\n",
            "[0, 1, 2, 3, 4, 5, 6]\n",
            "[0, 0, 0, 0, 0, 0, 7]\n",
            "[0, 0, 0, 0, 10, 9, 8]\n",
            "[0, 0, 0, 0, 11, 0, 0]\n",
            "[0, 0, 14, 13, 12, 0, 0]\n",
            "[0, 0, 15, 0, 0, 20, 21]\n",
            "[0, 0, 16, 17, 18, 19, 22]\n",
            "\n"
          ]
        }
      ]
    },
    {
      "cell_type": "code",
      "source": [
        "cnt"
      ],
      "metadata": {
        "colab": {
          "base_uri": "https://localhost:8080/"
        },
        "id": "EDuhtNeCSR9B",
        "outputId": "b3b9bff5-ce86-41be-be9a-2264c502debd"
      },
      "execution_count": null,
      "outputs": [
        {
          "output_type": "execute_result",
          "data": {
            "text/plain": [
              "8"
            ]
          },
          "metadata": {},
          "execution_count": 44
        }
      ]
    },
    {
      "cell_type": "code",
      "source": [
        "a"
      ],
      "metadata": {
        "colab": {
          "base_uri": "https://localhost:8080/"
        },
        "id": "h5lAcn-KSvLd",
        "outputId": "8f97ccd0-2074-46e4-c489-f60c738bf447"
      },
      "execution_count": null,
      "outputs": [
        {
          "output_type": "execute_result",
          "data": {
            "text/plain": [
              "[[0, 0, 0, 0, 0, 0, 0],\n",
              " [0, 1, 1, 1, 1, 1, 0],\n",
              " [0, 0, 0, 1, 0, 0, 0],\n",
              " [1, 1, 0, 1, 0, 1, 1],\n",
              " [1, 1, 0, 1, 0, 0, 0],\n",
              " [1, 0, 0, 0, 1, 0, 0],\n",
              " [1, 0, 1, 0, 0, 0, 0]]"
            ]
          },
          "metadata": {},
          "execution_count": 22
        }
      ]
    },
    {
      "cell_type": "code",
      "source": [],
      "metadata": {
        "id": "aj2El5rwObu0"
      },
      "execution_count": null,
      "outputs": []
    },
    {
      "cell_type": "code",
      "source": [
        "from collections import deque\n",
        "dq = deque()\n",
        "dq.append((0,0))\n",
        "min = [(0,0),100]\n",
        "max = [(0,0),0]\n",
        "\n",
        "a= [[20,2,92,78,93],\n",
        "    [49,50,48,90,80],\n",
        "    [30,53,70,75,96],\n",
        "    [94,91,82,89,93],\n",
        "    [97,98,100,95,96]]\n",
        "n=len(a)\n",
        "\n",
        "dx = [1,0,-1,0]\n",
        "dy = [0,1,0,-1]\n",
        "\n",
        "ch = [[0]*5 for _ in range(n)]\n",
        "ch[0][0] = 1\n",
        "\n",
        "ans = []\n",
        "v=0\n",
        "while dq:\n",
        "  l = len(dq)\n",
        "  now_x,now_y = dq.popleft()\n",
        "\n",
        "  for i in range(l):\n",
        "    for j in range(4):\n",
        "      next_x = now_x + dx[j]\n",
        "      next_y = now_y + dy[j]\n",
        "\n",
        "      if 0<=next_x<n and 0<=next_y < n:\n",
        "        if a[next_x][next_y] < min[1]:\n",
        "          min = [(next_x,next_y),a[next_x][next_y]]\n",
        "        if a[next_x][next_y] > max[1]:\n",
        "          max = [(next_x,next_y),a[next_x][next_y]]\n",
        "        if ch[next_x][next_y] == 0 and a[next_x][next_y] > a[now_x][now_y]:\n",
        "          dq.append((next_x,next_y))\n",
        "          ch[next_x][next_y] = 1\n",
        "  v+=1\n",
        "\n",
        "print(v)\n",
        "print(min)\n",
        "print(max)"
      ],
      "metadata": {
        "colab": {
          "base_uri": "https://localhost:8080/"
        },
        "id": "MPlodBIAOcO7",
        "outputId": "881e393f-dc31-414d-f9b7-a11aba44b964"
      },
      "execution_count": null,
      "outputs": [
        {
          "output_type": "stream",
          "name": "stdout",
          "text": [
            "18\n",
            "[(0, 1), 2]\n",
            "[(4, 2), 100]\n"
          ]
        }
      ]
    },
    {
      "cell_type": "code",
      "source": [
        "ch = [[0]*5 for _ in range(n)]\n",
        "ch[0][0] = 1\n",
        "cnt=0\n",
        "ans = [min[1]]\n",
        "\n",
        "def DFS(x,y,v):\n",
        "  global cnt\n",
        "  if ch[max[0][0]][max[0][1]] != 0:\n",
        "    cnt+=1\n",
        "    print(ans)\n",
        "  else:\n",
        "    for i in range(4):\n",
        "      next_x = x+dx[i]\n",
        "      next_y = y+dy[i]\n",
        "\n",
        "      if 0<=next_x<n and 0<=next_y<n and ch[next_x][next_y] == 0 and a[x][y] < a[next_x][next_y]:\n",
        "        ans.append(a[next_x][next_y])\n",
        "        ch[next_x][next_y] = 1\n",
        "        DFS(next_x,next_y,v+1)\n",
        "        ch[next_x][next_y] = 0\n",
        "        ans.pop()\n",
        "\n",
        "DFS(min[0][0],min[0][1],0)\n",
        "cnt"
      ],
      "metadata": {
        "colab": {
          "base_uri": "https://localhost:8080/"
        },
        "id": "Fq2RmjPrR9cc",
        "outputId": "d2c5ac46-624d-44f9-bf35-ab30ad6e4033"
      },
      "execution_count": null,
      "outputs": [
        {
          "output_type": "stream",
          "name": "stdout",
          "text": [
            "[2, 50, 53, 91, 98, 100]\n",
            "[2, 50, 53, 91, 94, 97, 98, 100]\n",
            "[2, 50, 53, 70, 82, 100]\n",
            "[2, 50, 53, 70, 82, 89, 95, 100]\n",
            "[2, 50, 53, 70, 82, 91, 98, 100]\n",
            "[2, 50, 53, 70, 82, 91, 94, 97, 98, 100]\n",
            "[2, 50, 53, 70, 75, 89, 95, 100]\n"
          ]
        },
        {
          "output_type": "execute_result",
          "data": {
            "text/plain": [
              "7"
            ]
          },
          "metadata": {},
          "execution_count": 23
        }
      ]
    },
    {
      "cell_type": "code",
      "source": [],
      "metadata": {
        "id": "fQ1N3srNUdxo"
      },
      "execution_count": null,
      "outputs": []
    }
  ]
}